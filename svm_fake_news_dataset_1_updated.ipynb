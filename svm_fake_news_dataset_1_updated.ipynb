{
  "cells": [
    {
      "cell_type": "code",
      "execution_count": 1,
      "metadata": {
        "id": "xe3hMiytqa_P"
      },
      "outputs": [],
      "source": [
        "#SVM with first dataset\n",
        "import numpy as np"
      ]
    },
    {
      "cell_type": "code",
      "execution_count": 2,
      "metadata": {
        "id": "JUP5v3oMiCuE"
      },
      "outputs": [],
      "source": [
        "import pandas as pd\n",
        "from sklearn.preprocessing import StandardScaler\n",
        "import re\n",
        "from nltk.corpus import stopwords\n",
        "from nltk.stem.porter import PorterStemmer\n",
        "from sklearn.feature_extraction.text import TfidfVectorizer\n",
        "from sklearn.svm import SVC\n",
        "from sklearn.model_selection import train_test_split\n",
        "from sklearn.metrics import accuracy_score\n",
        "from sklearn.metrics import confusion_matrix # for confusion matrix"
      ]
    },
    {
      "cell_type": "code",
      "execution_count": 3,
      "metadata": {
        "colab": {
          "base_uri": "https://localhost:8080/"
        },
        "id": "wVt6DUBZ4z4w",
        "outputId": "67c0eb40-6bb2-45d5-89ba-0e2ac4505222"
      },
      "outputs": [
        {
          "name": "stderr",
          "output_type": "stream",
          "text": [
            "[nltk_data] Downloading package stopwords to\n",
            "[nltk_data]     C:\\Users\\Maitreyee\\AppData\\Roaming\\nltk_data...\n",
            "[nltk_data]   Package stopwords is already up-to-date!\n"
          ]
        },
        {
          "data": {
            "text/plain": [
              "True"
            ]
          },
          "execution_count": 3,
          "metadata": {},
          "output_type": "execute_result"
        }
      ],
      "source": [
        "import nltk\n",
        "nltk.download('stopwords')"
      ]
    },
    {
      "cell_type": "code",
      "execution_count": 4,
      "metadata": {
        "colab": {
          "base_uri": "https://localhost:8080/"
        },
        "id": "wgmv6osh44bH",
        "outputId": "b8d1183e-3c7e-4df3-80ec-322fc6b45e67"
      },
      "outputs": [
        {
          "name": "stdout",
          "output_type": "stream",
          "text": [
            "['i', 'me', 'my', 'myself', 'we', 'our', 'ours', 'ourselves', 'you', \"you're\", \"you've\", \"you'll\", \"you'd\", 'your', 'yours', 'yourself', 'yourselves', 'he', 'him', 'his', 'himself', 'she', \"she's\", 'her', 'hers', 'herself', 'it', \"it's\", 'its', 'itself', 'they', 'them', 'their', 'theirs', 'themselves', 'what', 'which', 'who', 'whom', 'this', 'that', \"that'll\", 'these', 'those', 'am', 'is', 'are', 'was', 'were', 'be', 'been', 'being', 'have', 'has', 'had', 'having', 'do', 'does', 'did', 'doing', 'a', 'an', 'the', 'and', 'but', 'if', 'or', 'because', 'as', 'until', 'while', 'of', 'at', 'by', 'for', 'with', 'about', 'against', 'between', 'into', 'through', 'during', 'before', 'after', 'above', 'below', 'to', 'from', 'up', 'down', 'in', 'out', 'on', 'off', 'over', 'under', 'again', 'further', 'then', 'once', 'here', 'there', 'when', 'where', 'why', 'how', 'all', 'any', 'both', 'each', 'few', 'more', 'most', 'other', 'some', 'such', 'no', 'nor', 'not', 'only', 'own', 'same', 'so', 'than', 'too', 'very', 's', 't', 'can', 'will', 'just', 'don', \"don't\", 'should', \"should've\", 'now', 'd', 'll', 'm', 'o', 're', 've', 'y', 'ain', 'aren', \"aren't\", 'couldn', \"couldn't\", 'didn', \"didn't\", 'doesn', \"doesn't\", 'hadn', \"hadn't\", 'hasn', \"hasn't\", 'haven', \"haven't\", 'isn', \"isn't\", 'ma', 'mightn', \"mightn't\", 'mustn', \"mustn't\", 'needn', \"needn't\", 'shan', \"shan't\", 'shouldn', \"shouldn't\", 'wasn', \"wasn't\", 'weren', \"weren't\", 'won', \"won't\", 'wouldn', \"wouldn't\"]\n"
          ]
        }
      ],
      "source": [
        "print(stopwords.words('english'))"
      ]
    },
    {
      "cell_type": "code",
      "execution_count": 5,
      "metadata": {
        "id": "on7UVR_xiMRc"
      },
      "outputs": [],
      "source": [
        "fake_news_data = pd.read_csv('train.csv')"
      ]
    },
    {
      "cell_type": "code",
      "execution_count": 6,
      "metadata": {
        "colab": {
          "base_uri": "https://localhost:8080/",
          "height": 206
        },
        "id": "QcIOHi_NivHI",
        "outputId": "388aa5ed-e1f0-4c3d-e451-85a74cd6d02f"
      },
      "outputs": [
        {
          "data": {
            "text/html": [
              "<div>\n",
              "<style scoped>\n",
              "    .dataframe tbody tr th:only-of-type {\n",
              "        vertical-align: middle;\n",
              "    }\n",
              "\n",
              "    .dataframe tbody tr th {\n",
              "        vertical-align: top;\n",
              "    }\n",
              "\n",
              "    .dataframe thead th {\n",
              "        text-align: right;\n",
              "    }\n",
              "</style>\n",
              "<table border=\"1\" class=\"dataframe\">\n",
              "  <thead>\n",
              "    <tr style=\"text-align: right;\">\n",
              "      <th></th>\n",
              "      <th>id</th>\n",
              "      <th>title</th>\n",
              "      <th>author</th>\n",
              "      <th>text</th>\n",
              "      <th>label</th>\n",
              "    </tr>\n",
              "  </thead>\n",
              "  <tbody>\n",
              "    <tr>\n",
              "      <th>0</th>\n",
              "      <td>0</td>\n",
              "      <td>House Dem Aide: We Didn’t Even See Comey’s Let...</td>\n",
              "      <td>Darrell Lucus</td>\n",
              "      <td>House Dem Aide: We Didn’t Even See Comey’s Let...</td>\n",
              "      <td>1</td>\n",
              "    </tr>\n",
              "    <tr>\n",
              "      <th>1</th>\n",
              "      <td>1</td>\n",
              "      <td>FLYNN: Hillary Clinton, Big Woman on Campus - ...</td>\n",
              "      <td>Daniel J. Flynn</td>\n",
              "      <td>Ever get the feeling your life circles the rou...</td>\n",
              "      <td>0</td>\n",
              "    </tr>\n",
              "    <tr>\n",
              "      <th>2</th>\n",
              "      <td>2</td>\n",
              "      <td>Why the Truth Might Get You Fired</td>\n",
              "      <td>Consortiumnews.com</td>\n",
              "      <td>Why the Truth Might Get You Fired October 29, ...</td>\n",
              "      <td>1</td>\n",
              "    </tr>\n",
              "    <tr>\n",
              "      <th>3</th>\n",
              "      <td>3</td>\n",
              "      <td>15 Civilians Killed In Single US Airstrike Hav...</td>\n",
              "      <td>Jessica Purkiss</td>\n",
              "      <td>Videos 15 Civilians Killed In Single US Airstr...</td>\n",
              "      <td>1</td>\n",
              "    </tr>\n",
              "    <tr>\n",
              "      <th>4</th>\n",
              "      <td>4</td>\n",
              "      <td>Iranian woman jailed for fictional unpublished...</td>\n",
              "      <td>Howard Portnoy</td>\n",
              "      <td>Print \\nAn Iranian woman has been sentenced to...</td>\n",
              "      <td>1</td>\n",
              "    </tr>\n",
              "  </tbody>\n",
              "</table>\n",
              "</div>"
            ],
            "text/plain": [
              "   id                                              title              author  \\\n",
              "0   0  House Dem Aide: We Didn’t Even See Comey’s Let...       Darrell Lucus   \n",
              "1   1  FLYNN: Hillary Clinton, Big Woman on Campus - ...     Daniel J. Flynn   \n",
              "2   2                  Why the Truth Might Get You Fired  Consortiumnews.com   \n",
              "3   3  15 Civilians Killed In Single US Airstrike Hav...     Jessica Purkiss   \n",
              "4   4  Iranian woman jailed for fictional unpublished...      Howard Portnoy   \n",
              "\n",
              "                                                text  label  \n",
              "0  House Dem Aide: We Didn’t Even See Comey’s Let...      1  \n",
              "1  Ever get the feeling your life circles the rou...      0  \n",
              "2  Why the Truth Might Get You Fired October 29, ...      1  \n",
              "3  Videos 15 Civilians Killed In Single US Airstr...      1  \n",
              "4  Print \\nAn Iranian woman has been sentenced to...      1  "
            ]
          },
          "execution_count": 6,
          "metadata": {},
          "output_type": "execute_result"
        }
      ],
      "source": [
        "fake_news_data.head()"
      ]
    },
    {
      "cell_type": "code",
      "execution_count": 7,
      "metadata": {
        "colab": {
          "base_uri": "https://localhost:8080/"
        },
        "id": "4JTcSSFcAfYC",
        "outputId": "63d5d9b3-8597-4412-b38f-2cc7c9bdebdc"
      },
      "outputs": [
        {
          "data": {
            "text/plain": [
              "(20800, 5)"
            ]
          },
          "execution_count": 7,
          "metadata": {},
          "output_type": "execute_result"
        }
      ],
      "source": [
        "#number of rows and columns in the dataset\n",
        "fake_news_data.shape"
      ]
    },
    {
      "cell_type": "code",
      "execution_count": 8,
      "metadata": {
        "colab": {
          "base_uri": "https://localhost:8080/",
          "height": 300
        },
        "id": "cEr60fEvM5On",
        "outputId": "39231387-bbb4-4fa8-9475-4a7ed3b8f5ad"
      },
      "outputs": [
        {
          "data": {
            "text/html": [
              "<div>\n",
              "<style scoped>\n",
              "    .dataframe tbody tr th:only-of-type {\n",
              "        vertical-align: middle;\n",
              "    }\n",
              "\n",
              "    .dataframe tbody tr th {\n",
              "        vertical-align: top;\n",
              "    }\n",
              "\n",
              "    .dataframe thead th {\n",
              "        text-align: right;\n",
              "    }\n",
              "</style>\n",
              "<table border=\"1\" class=\"dataframe\">\n",
              "  <thead>\n",
              "    <tr style=\"text-align: right;\">\n",
              "      <th></th>\n",
              "      <th>id</th>\n",
              "      <th>label</th>\n",
              "    </tr>\n",
              "  </thead>\n",
              "  <tbody>\n",
              "    <tr>\n",
              "      <th>count</th>\n",
              "      <td>20800.000000</td>\n",
              "      <td>20800.000000</td>\n",
              "    </tr>\n",
              "    <tr>\n",
              "      <th>mean</th>\n",
              "      <td>10399.500000</td>\n",
              "      <td>0.500625</td>\n",
              "    </tr>\n",
              "    <tr>\n",
              "      <th>std</th>\n",
              "      <td>6004.587135</td>\n",
              "      <td>0.500012</td>\n",
              "    </tr>\n",
              "    <tr>\n",
              "      <th>min</th>\n",
              "      <td>0.000000</td>\n",
              "      <td>0.000000</td>\n",
              "    </tr>\n",
              "    <tr>\n",
              "      <th>25%</th>\n",
              "      <td>5199.750000</td>\n",
              "      <td>0.000000</td>\n",
              "    </tr>\n",
              "    <tr>\n",
              "      <th>50%</th>\n",
              "      <td>10399.500000</td>\n",
              "      <td>1.000000</td>\n",
              "    </tr>\n",
              "    <tr>\n",
              "      <th>75%</th>\n",
              "      <td>15599.250000</td>\n",
              "      <td>1.000000</td>\n",
              "    </tr>\n",
              "    <tr>\n",
              "      <th>max</th>\n",
              "      <td>20799.000000</td>\n",
              "      <td>1.000000</td>\n",
              "    </tr>\n",
              "  </tbody>\n",
              "</table>\n",
              "</div>"
            ],
            "text/plain": [
              "                 id         label\n",
              "count  20800.000000  20800.000000\n",
              "mean   10399.500000      0.500625\n",
              "std     6004.587135      0.500012\n",
              "min        0.000000      0.000000\n",
              "25%     5199.750000      0.000000\n",
              "50%    10399.500000      1.000000\n",
              "75%    15599.250000      1.000000\n",
              "max    20799.000000      1.000000"
            ]
          },
          "execution_count": 8,
          "metadata": {},
          "output_type": "execute_result"
        }
      ],
      "source": [
        "#getting the statistical measures of the dataset\n",
        "fake_news_data.describe()"
      ]
    },
    {
      "cell_type": "code",
      "execution_count": 9,
      "metadata": {
        "colab": {
          "base_uri": "https://localhost:8080/"
        },
        "id": "SDlmjs7ANL8w",
        "outputId": "d18b0714-b0c0-466a-964b-c244e9001bef"
      },
      "outputs": [
        {
          "data": {
            "text/plain": [
              "label\n",
              "1    10413\n",
              "0    10387\n",
              "Name: count, dtype: int64"
            ]
          },
          "execution_count": 9,
          "metadata": {},
          "output_type": "execute_result"
        }
      ],
      "source": [
        "fake_news_data['label'].value_counts()"
      ]
    },
    {
      "cell_type": "markdown",
      "metadata": {
        "id": "W7R0Fa14Os1q"
      },
      "source": [
        "1 --> fake news\n",
        "\n",
        "0 --> real news"
      ]
    },
    {
      "cell_type": "code",
      "execution_count": 10,
      "metadata": {
        "colab": {
          "base_uri": "https://localhost:8080/"
        },
        "id": "bFZbU67M2eDD",
        "outputId": "606b198a-1a8e-4bcc-aaef-bf8ca0d1af53"
      },
      "outputs": [
        {
          "data": {
            "text/plain": [
              "id           0\n",
              "title      558\n",
              "author    1957\n",
              "text        39\n",
              "label        0\n",
              "dtype: int64"
            ]
          },
          "execution_count": 10,
          "metadata": {},
          "output_type": "execute_result"
        }
      ],
      "source": [
        "fake_news_data.isnull().sum()"
      ]
    },
    {
      "cell_type": "code",
      "execution_count": 11,
      "metadata": {
        "colab": {
          "base_uri": "https://localhost:8080/"
        },
        "id": "du4B-zRRFzhA",
        "outputId": "f3306eb2-a165-4481-c6e3-75b1b9260df4"
      },
      "outputs": [],
      "source": [
        "#fake_news_data['author'].isnull().sum()"
      ]
    },
    {
      "cell_type": "code",
      "execution_count": 12,
      "metadata": {
        "id": "-EUYswLZL-_5"
      },
      "outputs": [],
      "source": [
        "fake_news_data_cleaned= fake_news_data.dropna(subset=['text', 'title'])"
      ]
    },
    {
      "cell_type": "code",
      "execution_count": 13,
      "metadata": {
        "id": "y78bmCAnImNd"
      },
      "outputs": [],
      "source": [
        "#fake_news_data_cleaned= fake_news_data.dropna(subset=['author'])"
      ]
    },
    {
      "cell_type": "code",
      "execution_count": 14,
      "metadata": {
        "colab": {
          "base_uri": "https://localhost:8080/"
        },
        "id": "bzYb-Is-Iute",
        "outputId": "d67cf312-c971-4541-d792-7d16c5627f38"
      },
      "outputs": [],
      "source": [
        "#fake_news_data_cleaned.isnull().sum()"
      ]
    },
    {
      "cell_type": "code",
      "execution_count": 15,
      "metadata": {
        "id": "EAVIDihUG3-9"
      },
      "outputs": [],
      "source": [
        "#fake_news_data_cleaned= fake_news_data.dropna(subset=['author', 'title'])"
      ]
    },
    {
      "cell_type": "code",
      "execution_count": 16,
      "metadata": {
        "colab": {
          "base_uri": "https://localhost:8080/"
        },
        "id": "qIs7P-uHHBDy",
        "outputId": "f48ab0c2-62de-447a-915d-93c8ea77e064"
      },
      "outputs": [
        {
          "data": {
            "text/plain": [
              "id           0\n",
              "title        0\n",
              "author    1918\n",
              "text         0\n",
              "label        0\n",
              "dtype: int64"
            ]
          },
          "execution_count": 16,
          "metadata": {},
          "output_type": "execute_result"
        }
      ],
      "source": [
        "fake_news_data_cleaned.isnull().sum()"
      ]
    },
    {
      "cell_type": "code",
      "execution_count": 17,
      "metadata": {
        "colab": {
          "base_uri": "https://localhost:8080/"
        },
        "id": "_GH53YvzIAP0",
        "outputId": "3e3644e1-e40d-417a-c849-2d9006f46224"
      },
      "outputs": [
        {
          "data": {
            "text/plain": [
              "(20203, 5)"
            ]
          },
          "execution_count": 17,
          "metadata": {},
          "output_type": "execute_result"
        }
      ],
      "source": [
        "#number of rows and columns in the dataset\n",
        "fake_news_data_cleaned.shape"
      ]
    },
    {
      "cell_type": "code",
      "execution_count": 18,
      "metadata": {
        "colab": {
          "base_uri": "https://localhost:8080/"
        },
        "id": "4R98tPYxJ1GP",
        "outputId": "9c966b87-a78a-4422-ad90-cd1cdd8ea17b"
      },
      "outputs": [
        {
          "data": {
            "text/plain": [
              "label\n",
              "0    10387\n",
              "1     9816\n",
              "Name: count, dtype: int64"
            ]
          },
          "execution_count": 18,
          "metadata": {},
          "output_type": "execute_result"
        }
      ],
      "source": [
        "fake_news_data_cleaned['label'].value_counts()"
      ]
    },
    {
      "cell_type": "code",
      "execution_count": 19,
      "metadata": {
        "id": "Y8NDvKvy2nmu"
      },
      "outputs": [],
      "source": [
        "#fake_news_data_cleaned = fake_news_data_cleaned.fillna('')"
      ]
    },
    {
      "cell_type": "code",
      "execution_count": 20,
      "metadata": {
        "colab": {
          "base_uri": "https://localhost:8080/"
        },
        "id": "WYTW6kRq8M2U",
        "outputId": "42ed7bad-f5c9-46a2-93cb-f9a32eca2543"
      },
      "outputs": [
        {
          "data": {
            "text/plain": [
              "id           0\n",
              "title        0\n",
              "author    1918\n",
              "text         0\n",
              "label        0\n",
              "dtype: int64"
            ]
          },
          "execution_count": 20,
          "metadata": {},
          "output_type": "execute_result"
        }
      ],
      "source": [
        "fake_news_data_cleaned.isnull().sum()"
      ]
    },
    {
      "cell_type": "code",
      "execution_count": 21,
      "metadata": {
        "id": "ESk9j2tI20lv"
      },
      "outputs": [
        {
          "name": "stderr",
          "output_type": "stream",
          "text": [
            "C:\\Users\\Maitreyee\\AppData\\Local\\Temp\\ipykernel_22600\\2846383310.py:1: SettingWithCopyWarning: \n",
            "A value is trying to be set on a copy of a slice from a DataFrame.\n",
            "Try using .loc[row_indexer,col_indexer] = value instead\n",
            "\n",
            "See the caveats in the documentation: https://pandas.pydata.org/pandas-docs/stable/user_guide/indexing.html#returning-a-view-versus-a-copy\n",
            "  fake_news_data_cleaned['content'] = fake_news_data_cleaned['title']+' '+fake_news_data_cleaned['text']\n"
          ]
        }
      ],
      "source": [
        "fake_news_data_cleaned['content'] = fake_news_data_cleaned['title']+' '+fake_news_data_cleaned['text']"
      ]
    },
    {
      "cell_type": "code",
      "execution_count": 22,
      "metadata": {
        "colab": {
          "base_uri": "https://localhost:8080/"
        },
        "id": "SmQd-sjl3DFg",
        "outputId": "5f0e0f44-2dc5-4d6a-e3b1-f9439bc14aaf"
      },
      "outputs": [
        {
          "name": "stdout",
          "output_type": "stream",
          "text": [
            "0        House Dem Aide: We Didn’t Even See Comey’s Let...\n",
            "1        FLYNN: Hillary Clinton, Big Woman on Campus - ...\n",
            "2        Why the Truth Might Get You Fired Why the Trut...\n",
            "3        15 Civilians Killed In Single US Airstrike Hav...\n",
            "4        Iranian woman jailed for fictional unpublished...\n",
            "                               ...                        \n",
            "20795    Rapper T.I.: Trump a ’Poster Child For White S...\n",
            "20796    N.F.L. Playoffs: Schedule, Matchups and Odds -...\n",
            "20797    Macy’s Is Said to Receive Takeover Approach by...\n",
            "20798    NATO, Russia To Hold Parallel Exercises In Bal...\n",
            "20799    What Keeps the F-35 Alive   David Swanson is a...\n",
            "Name: content, Length: 20203, dtype: object\n"
          ]
        }
      ],
      "source": [
        "print(fake_news_data_cleaned['content'])"
      ]
    },
    {
      "cell_type": "code",
      "execution_count": 23,
      "metadata": {
        "id": "4_oCQHvoOyGC"
      },
      "outputs": [],
      "source": [
        "# seperating the features and target\n",
        "\n",
        "features = fake_news_data_cleaned.drop(columns='label', axis=1)\n",
        "\n",
        "target = fake_news_data_cleaned['label']"
      ]
    },
    {
      "cell_type": "code",
      "execution_count": 24,
      "metadata": {
        "colab": {
          "base_uri": "https://localhost:8080/"
        },
        "id": "jpRXB5AuQlw-",
        "outputId": "d5cb580b-eb50-42bb-b671-44435c3245d0"
      },
      "outputs": [
        {
          "name": "stdout",
          "output_type": "stream",
          "text": [
            "          id                                              title  \\\n",
            "0          0  House Dem Aide: We Didn’t Even See Comey’s Let...   \n",
            "1          1  FLYNN: Hillary Clinton, Big Woman on Campus - ...   \n",
            "2          2                  Why the Truth Might Get You Fired   \n",
            "3          3  15 Civilians Killed In Single US Airstrike Hav...   \n",
            "4          4  Iranian woman jailed for fictional unpublished...   \n",
            "...      ...                                                ...   \n",
            "20795  20795  Rapper T.I.: Trump a ’Poster Child For White S...   \n",
            "20796  20796  N.F.L. Playoffs: Schedule, Matchups and Odds -...   \n",
            "20797  20797  Macy’s Is Said to Receive Takeover Approach by...   \n",
            "20798  20798  NATO, Russia To Hold Parallel Exercises In Bal...   \n",
            "20799  20799                          What Keeps the F-35 Alive   \n",
            "\n",
            "                                          author  \\\n",
            "0                                  Darrell Lucus   \n",
            "1                                Daniel J. Flynn   \n",
            "2                             Consortiumnews.com   \n",
            "3                                Jessica Purkiss   \n",
            "4                                 Howard Portnoy   \n",
            "...                                          ...   \n",
            "20795                              Jerome Hudson   \n",
            "20796                           Benjamin Hoffman   \n",
            "20797  Michael J. de la Merced and Rachel Abrams   \n",
            "20798                                Alex Ansary   \n",
            "20799                              David Swanson   \n",
            "\n",
            "                                                    text  \\\n",
            "0      House Dem Aide: We Didn’t Even See Comey’s Let...   \n",
            "1      Ever get the feeling your life circles the rou...   \n",
            "2      Why the Truth Might Get You Fired October 29, ...   \n",
            "3      Videos 15 Civilians Killed In Single US Airstr...   \n",
            "4      Print \\nAn Iranian woman has been sentenced to...   \n",
            "...                                                  ...   \n",
            "20795  Rapper T. I. unloaded on black celebrities who...   \n",
            "20796  When the Green Bay Packers lost to the Washing...   \n",
            "20797  The Macy’s of today grew from the union of sev...   \n",
            "20798  NATO, Russia To Hold Parallel Exercises In Bal...   \n",
            "20799    David Swanson is an author, activist, journa...   \n",
            "\n",
            "                                                 content  \n",
            "0      House Dem Aide: We Didn’t Even See Comey’s Let...  \n",
            "1      FLYNN: Hillary Clinton, Big Woman on Campus - ...  \n",
            "2      Why the Truth Might Get You Fired Why the Trut...  \n",
            "3      15 Civilians Killed In Single US Airstrike Hav...  \n",
            "4      Iranian woman jailed for fictional unpublished...  \n",
            "...                                                  ...  \n",
            "20795  Rapper T.I.: Trump a ’Poster Child For White S...  \n",
            "20796  N.F.L. Playoffs: Schedule, Matchups and Odds -...  \n",
            "20797  Macy’s Is Said to Receive Takeover Approach by...  \n",
            "20798  NATO, Russia To Hold Parallel Exercises In Bal...  \n",
            "20799  What Keeps the F-35 Alive   David Swanson is a...  \n",
            "\n",
            "[20203 rows x 5 columns]\n"
          ]
        }
      ],
      "source": [
        "print(features)"
      ]
    },
    {
      "cell_type": "code",
      "execution_count": 25,
      "metadata": {
        "colab": {
          "base_uri": "https://localhost:8080/"
        },
        "id": "cEYURl76Qz6q",
        "outputId": "4b90dd5d-3e88-4790-d3bf-3a1334ccb229"
      },
      "outputs": [
        {
          "name": "stdout",
          "output_type": "stream",
          "text": [
            "0        1\n",
            "1        0\n",
            "2        1\n",
            "3        1\n",
            "4        1\n",
            "        ..\n",
            "20795    0\n",
            "20796    0\n",
            "20797    0\n",
            "20798    1\n",
            "20799    1\n",
            "Name: label, Length: 20203, dtype: int64\n"
          ]
        }
      ],
      "source": [
        "print(target)"
      ]
    },
    {
      "cell_type": "code",
      "execution_count": 26,
      "metadata": {},
      "outputs": [
        {
          "data": {
            "text/plain": [
              "'import pandas as pd\\nfrom nltk.stem import PorterStemmer\\nimport pickle\\n\\n# Function to stem a dataset\\ndef stem_dataset(dataset, text_column):\\n    stemmer = PorterStemmer()\\n    dataset[text_column + \\'_stemmed\\'] = dataset[text_column].apply(lambda x: \\' \\'.join([stemmer.stem(word) for word in x.split()]))\\n    return dataset\\n\\n# Sample data (assuming you have a CSV file)\\ndataset_path = \\'/path/to/your/dataset.csv\\'\\ntext_column_name = \\'text\\'  # Assuming \\'text\\' is the column containing text data\\n\\n# Load dataset\\ndataset = pd.read_csv(dataset_path)\\n\\n# Stem the text data\\nstemmed_dataset = stem_dataset(dataset, text_column_name)\\n\\n# Save the stemmed output using pickle\\noutput_path = \\'/path/to/save/stemmed_dataset.pkl\\'\\nwith open(output_path, \\'wb\\') as f:\\n    pickle.dump(stemmed_dataset, f)\\n\\nprint(\"Stemmed dataset saved at:\", output_path) '"
            ]
          },
          "execution_count": 26,
          "metadata": {},
          "output_type": "execute_result"
        }
      ],
      "source": [
        "'''import pandas as pd\n",
        "from nltk.stem import PorterStemmer\n",
        "import pickle\n",
        "\n",
        "# Function to stem a dataset\n",
        "def stem_dataset(dataset, text_column):\n",
        "    stemmer = PorterStemmer()\n",
        "    dataset[text_column + '_stemmed'] = dataset[text_column].apply(lambda x: ' '.join([stemmer.stem(word) for word in x.split()]))\n",
        "    return dataset\n",
        "\n",
        "# Sample data (assuming you have a CSV file)\n",
        "dataset_path = '/path/to/your/dataset.csv'\n",
        "text_column_name = 'text'  # Assuming 'text' is the column containing text data\n",
        "\n",
        "# Load dataset\n",
        "dataset = pd.read_csv(dataset_path)\n",
        "\n",
        "# Stem the text data\n",
        "stemmed_dataset = stem_dataset(dataset, text_column_name)\n",
        "\n",
        "# Save the stemmed output using pickle\n",
        "output_path = '/path/to/save/stemmed_dataset.pkl'\n",
        "with open(output_path, 'wb') as f:\n",
        "    pickle.dump(stemmed_dataset, f)\n",
        "\n",
        "print(\"Stemmed dataset saved at:\", output_path) '''\n"
      ]
    },
    {
      "cell_type": "code",
      "execution_count": 27,
      "metadata": {
        "id": "bg3fr7uV31Ov"
      },
      "outputs": [],
      "source": [
        "port_stem= PorterStemmer()"
      ]
    },
    {
      "cell_type": "code",
      "execution_count": 28,
      "metadata": {
        "id": "5R0K34Sw4W9V"
      },
      "outputs": [],
      "source": [
        "def stemming(content):   #stemming is a function here\n",
        "  stemmed_content = re.sub('[^a-zA-z]',' ',content)       #removes everything that is not btw aA-zZ(all numbers and puntuations replaced by space)\n",
        "  stemmed_content = stemmed_content.lower()                #converts all uc to lc to avoid problem during processing\n",
        "  stemmed_content = stemmed_content.split()                #all words and text will be splitted and converted to list\n",
        "  stemmed_content = [port_stem.stem(word) for word in stemmed_content if not word in stopwords.words('english')]\n",
        "  stemmed_content = ' '.join(stemmed_content)\n",
        "  return stemmed_content"
      ]
    },
    {
      "cell_type": "code",
      "execution_count": 29,
      "metadata": {
        "id": "BD2MGGLo5X7Q"
      },
      "outputs": [],
      "source": [
        "#fake_news_data_cleaned['content'] = fake_news_data_cleaned['content'].apply(stemming)\n",
        "\n",
        "####\n",
        "# commenting this to avoid running it again #####################\n",
        "#####"
      ]
    },
    {
      "cell_type": "code",
      "execution_count": 30,
      "metadata": {},
      "outputs": [
        {
          "data": {
            "text/plain": [
              "'import pickle\\n\\n# Assuming \\'fake_news_data_cleaned\\' is your DataFrame containing the stemmed content\\n\\n# Define the output file path\\noutput_file = \"stemmed_fake_news_data.pkl\"\\n\\n# Save the DataFrame containing the stemmed content using pickle\\nwith open(output_file, \"wb\") as f:\\n    pickle.dump(fake_news_data_cleaned, f)\\n\\nprint(\"Stemmed fake news data saved to:\", output_file)\\n'"
            ]
          },
          "execution_count": 30,
          "metadata": {},
          "output_type": "execute_result"
        }
      ],
      "source": [
        "'''import pickle\n",
        "\n",
        "# Assuming 'fake_news_data_cleaned' is your DataFrame containing the stemmed content\n",
        "\n",
        "# Define the output file path\n",
        "output_file = \"stemmed_fake_news_data.pkl\"\n",
        "\n",
        "# Save the DataFrame containing the stemmed content using pickle\n",
        "with open(output_file, \"wb\") as f:\n",
        "    pickle.dump(fake_news_data_cleaned, f)\n",
        "\n",
        "print(\"Stemmed fake news data saved to:\", output_file)\n",
        "'''\n",
        "\n",
        "###########\n",
        "# commenting this to avoid running it again ########################\n",
        "###########"
      ]
    },
    {
      "cell_type": "code",
      "execution_count": 31,
      "metadata": {},
      "outputs": [
        {
          "name": "stdout",
          "output_type": "stream",
          "text": [
            "   id                                              title              author  \\\n",
            "0   0  House Dem Aide: We Didn’t Even See Comey’s Let...       Darrell Lucus   \n",
            "1   1  FLYNN: Hillary Clinton, Big Woman on Campus - ...     Daniel J. Flynn   \n",
            "2   2                  Why the Truth Might Get You Fired  Consortiumnews.com   \n",
            "3   3  15 Civilians Killed In Single US Airstrike Hav...     Jessica Purkiss   \n",
            "4   4  Iranian woman jailed for fictional unpublished...      Howard Portnoy   \n",
            "\n",
            "                                                text  label  \\\n",
            "0  House Dem Aide: We Didn’t Even See Comey’s Let...      1   \n",
            "1  Ever get the feeling your life circles the rou...      0   \n",
            "2  Why the Truth Might Get You Fired October 29, ...      1   \n",
            "3  Videos 15 Civilians Killed In Single US Airstr...      1   \n",
            "4  Print \\nAn Iranian woman has been sentenced to...      1   \n",
            "\n",
            "                                             content  \n",
            "0  hous dem aid even see comey letter jason chaff...  \n",
            "1  flynn hillari clinton big woman campu breitbar...  \n",
            "2  truth might get fire truth might get fire octo...  \n",
            "3  civilian kill singl us airstrik identifi video...  \n",
            "4  iranian woman jail fiction unpublish stori wom...  \n"
          ]
        }
      ],
      "source": [
        "import pickle\n",
        "\n",
        "# Define the path to the pickle file\n",
        "pickle_file_path = \"stemmed_fake_news_data.pkl\"\n",
        "\n",
        "# Load the DataFrame from the pickle file\n",
        "with open(pickle_file_path, \"rb\") as f:\n",
        "    stemmed_fake_news_data = pickle.load(f)\n",
        "\n",
        "# Now you can use 'stemmed_fake_news_data' as your DataFrame containing the stemmed content\n",
        "# For example, you can access columns, perform further analysis, or save it to another format\n",
        "print(stemmed_fake_news_data.head())\n"
      ]
    },
    {
      "cell_type": "code",
      "execution_count": 32,
      "metadata": {
        "colab": {
          "base_uri": "https://localhost:8080/"
        },
        "id": "4omkTA5G5r5o",
        "outputId": "11488cd4-8bf7-4ef5-e500-c41795a3f820"
      },
      "outputs": [
        {
          "name": "stdout",
          "output_type": "stream",
          "text": [
            "0        hous dem aid even see comey letter jason chaff...\n",
            "1        flynn hillari clinton big woman campu breitbar...\n",
            "2        truth might get fire truth might get fire octo...\n",
            "3        civilian kill singl us airstrik identifi video...\n",
            "4        iranian woman jail fiction unpublish stori wom...\n",
            "                               ...                        \n",
            "20795    rapper trump poster child white supremaci rapp...\n",
            "20796    n f l playoff schedul matchup odd new york tim...\n",
            "20797    maci said receiv takeov approach hudson bay ne...\n",
            "20798    nato russia hold parallel exercis balkan nato ...\n",
            "20799    keep f aliv david swanson author activist jour...\n",
            "Name: content, Length: 20203, dtype: object\n"
          ]
        }
      ],
      "source": [
        "print(stemmed_fake_news_data['content'])"
      ]
    },
    {
      "cell_type": "code",
      "execution_count": 33,
      "metadata": {
        "id": "xce1ZtdQ555N"
      },
      "outputs": [
        {
          "data": {
            "text/plain": [
              "\"#seperating the data and the label\\nfeatures = fake_news_data_cleaned['content'].values\\ntarget = fake_news_data_cleaned['label'].values\""
            ]
          },
          "execution_count": 33,
          "metadata": {},
          "output_type": "execute_result"
        }
      ],
      "source": [
        "'''#seperating the data and the label\n",
        "features = fake_news_data_cleaned['content'].values\n",
        "target = fake_news_data_cleaned['label'].values'''"
      ]
    },
    {
      "cell_type": "code",
      "execution_count": 34,
      "metadata": {},
      "outputs": [],
      "source": [
        "#num_rows = int(len(stemmed_fake_news_data) * 0.8)"
      ]
    },
    {
      "cell_type": "code",
      "execution_count": 35,
      "metadata": {},
      "outputs": [],
      "source": [
        "#print(num_rows)"
      ]
    },
    {
      "cell_type": "code",
      "execution_count": 36,
      "metadata": {},
      "outputs": [],
      "source": [
        "#seperating the data and the label     \n",
        "features = stemmed_fake_news_data['content'].values\n",
        "target = stemmed_fake_news_data['label'].values"
      ]
    },
    {
      "cell_type": "code",
      "execution_count": 37,
      "metadata": {
        "colab": {
          "base_uri": "https://localhost:8080/"
        },
        "id": "vg4Ijb1u6OIl",
        "outputId": "2d31e1cd-8260-4a46-c8bd-ce61a747c191"
      },
      "outputs": [
        {
          "name": "stdout",
          "output_type": "stream",
          "text": [
            "['hous dem aid even see comey letter jason chaffetz tweet hous dem aid even see comey letter jason chaffetz tweet darrel lucu octob subscrib jason chaffetz stump american fork utah imag courtesi michael jolley avail creativ common licens apolog keith olbermann doubt worst person world week fbi director jame comey accord hous democrat aid look like also know second worst person well turn comey sent infam letter announc fbi look email may relat hillari clinton email server rank democrat relev committe hear comey found via tweet one republican committe chairmen know comey notifi republican chairmen democrat rank member hous intellig judiciari oversight committe agenc review email recent discov order see contain classifi inform long letter went oversight committe chairman jason chaffetz set polit world ablaz tweet fbi dir inform fbi learn exist email appear pertin investig case reopen jason chaffetz jasoninthehous octob cours know case comey actual say review email light unrel case know anthoni weiner sext teenag appar littl thing fact matter chaffetz utah republican alreadi vow initi raft investig hillari win least two year worth possibl entir term worth appar chaffetz thought fbi alreadi work result tweet briefli roil nation cooler head realiz dud accord senior hous democrat aid misread letter may least chaffetz sin aid told shareblu boss democrat even know comey letter time found check twitter democrat rank member relev committe receiv comey letter republican chairmen fact democrat rank member receiv chairman oversight govern reform committe jason chaffetz tweet made public let see got right fbi director tell chaffetz gop committe chairmen major develop potenti polit explos investig neither chaffetz colleagu courtesi let democrat counterpart know instead accord aid made find twitter alreadi talk daili ko comey provid advanc notic letter chaffetz republican give time turn spin machin may make good theater noth far even suggest case noth far suggest comey anyth grossli incompet tone deaf suggest howev chaffetz act way make dan burton darrel issa look like model respons bipartisanship even decenc notifi rank member elijah cum someth explos trampl basic standard fair know grant like chaffetz answer sit ridicul republican district anchor provo orem cook partisan vote index r gave mitt romney punish percent vote moreov republican hous leadership given full support chaffetz plan fish expedit mean turn hot light textbook exampl hous becom republican control also second worst person world darrel lucu darrel someth graduat univers north carolina consid journalist old school attempt turn member religi right colleg succeed turn religi right worst nightmar charismat christian unapologet liber desir stand scare silenc increas surviv abus three year marriag may know daili ko christian dem nc follow twitter darrelllucu connect facebook click buy darrel mello yello connect'\n",
            " 'flynn hillari clinton big woman campu breitbart ever get feel life circl roundabout rather head straight line toward intend destin [hillari clinton remain big woman campu leafi liber wellesley massachusett everywher els vote like inaugur dress remaind day way miss havisham forev wore wed dress speak great expect hillari rodham overflow year ago first address wellesley graduat class presid colleg inform gather student need debat far could ascertain spokesman kind like democrat primari minu term unknown even seven sister school glad miss adam made clear speak today us us miss rodham told classmat appoint edger bergen charli mccarthi mortim snerd attend bespectacl granni glass award matronli wisdom least john lennon wisdom took issu previou speaker despit becom first win elect seat u senat sinc reconstruct edward brook came critic call empathi goal protestor critic tactic though clinton senior thesi saul alinski lament black power demagogu elitist arrog repress intoler within new left similar word come republican necessit brief rebutt trust rodham iron observ one word ask class rehears want say everyon came said talk trust talk lack trust us way feel other talk trust bust say say feel permeat gener perhap even understood distrust trust bust certainli bust clinton plan certainli even understand peopl distrust whitewat travelg vast conspiraci benghazi miss email clinton found distrust voic friday load compromis road broaden polit horizon distrust american peopl trump edg percent percent question immedi prior novemb elect stood major reason close horizon clinton describ vanquish support embrac lie con altern fact assault truth reason fail explain american peopl chose lie truth histori major among today know well peopl power invent fact attack question mark begin end free societi offer hyperbol like mani peopl emerg hillari clinton embark upon long strang trip high school goldwat girl wellesley colleg republican presid democrat politician clinton drank time place gave degre significantli went idealist cynic comparison two wellesley commenc address show way back lament long leader view polit art possibl challeng practic polit art make appear imposs possibl big woman campu odd woman white hous wonder current station even possibl point ahead ask septemb may ask presid woman famous dub congenit liar bill safir conclud lie mind get stood elect day like find jilt bride wed day inspir danger delus'\n",
            " 'truth might get fire truth might get fire octob tension intellig analyst polit policymak alway honest assess desir result latter often overwhelm former iraq war write lawrenc davidson lawrenc davidson might wonder foreign polici maker repeatedli make bad choic insight might drawn follow analysi action play unit state lesson probabl univers back earli spring georg w bush initi invas iraq one key public reason claim countri dictat saddam hussein verg develop nuclear weapon hide weapon mass destruct real reason went beyond charg includ long rang plan regim chang middl east presid georg w bush vice presid dick cheney receiv oval offic brief cia director georg tenet also present chief staff andi card right white hous photo purpos concentr belief iraq becom hostil nuclear power presid bush close associ accept scenario readili short answer bush want inde need believ rational invad iraq first tri connect saddam hussein attack u though never gave stratagem lack evid made difficult ralli american peopl alreadi fixat afghanistan support war baghdad nuclear weapon gambit prove fruit hard evid charg supposedli reliabl wit person exil anti saddam iraqi mani u govern payrol kept tell bush advis nuclear stori true u leadership cadr whose worldview liter demand mortal danger iraq inform order precipit overthrow saddam will tell tale pend atom weapon strong desir believ tale nuclear iraq lower threshold proof likewis repeat assert assum depend iraqi sourc underpin nationwid u campaign gener fear war fever u alli insist unit nation send weapon inspector scour iraq evid nuclear weapon program well chemic biolog weapon inspector could find convinc evid frustrat bush administr soon forc hand march bush launch invas iraq expect occup countri u inspector would sure find evid nuke least stockpil chemic biolog weapon iraqi inform systemat lie social behavior scienc rescu variou u intellig agenc thoroughli shaken affair today year later director manag still tri sort specif tell get true intellig lie one intellig worker put need help protect us armi snake oil salesmen end cia et al market academ assist ahm chalabi head iraqi nation congress key supplier iraqi defector bogu stori hidden wmd partnership forg offic director nation intellig odni serv coordin center sixteen independ u intellig agenc nation academi scienc engin medicin result collabor perman intellig commun studi board coordin program social behavior scienc research [that] might strengthen nation secur despit effort almost certain social behavior scienc cannot give spi agenc want way detect lie better present standard procedur polygraph test interrog even could might well make differ real problem found liar found believ believ simpli true odni leader seem assert u intellig agenc personnel cannot tell often lie case thousand middl echelon intellig worker desk offic specialist know someth close approach truth know pretti well go place like afghanistan iraq syria libya israel palestin elsewher director nation intellig jame clapper right talk presid barack obama oval offic john brennan nation secur aid present photo credit offic director nation intellig therefor someon feed snake oil usual know howev accur grasp thing often avail superior got appoint accept pre structur worldview differ criterion true analyst listen charl gaukel nation intellig council yet anoth organ act meet ground intellig agenc refer search way avoid get taken lie gaukel declar look truth particularli look truth work might mean certainli tell mean histor mean power broker truth must match fit worldview polit ideolog precept fit work intellig specialist send usual accur assess line polici maker often hit roadblock caus group think ideolog blinker know better attitud hand long sell leadership match want believ peddl anyth imaginari iraqi nuke israel western style democraci saudi arabia indispens alli libya liber countri bashar al assad real roadblock peac syria strateg defens initi sdi aka star war world get colder warmer american exception glori list almost endless sad tale tell us want spend million dollar social behavior scienc research improv assess use intellig forget liar want look antidot narrow minded believ policymak seem abl rise ideolog presumpt class presumpt underpin self confid lead us slipperi slope happen way often mani place sourc shakespear determin past prelud elit play destini free capac break structur way see yet middl echelon specialist keep send rel accur assess ladder power hope spring etern'\n",
            " ...\n",
            " 'maci said receiv takeov approach hudson bay new york time maci today grew union sever great name american retail includ namesak chain bloomingdal marshal field ambiti owner sak fifth avenu broach idea take union even combin maci creat depart store juggernaut time industri reel hudson bay compani canadian owner sak approach maci potenti takeov peopl brief matter author speak publicli said friday talk two compani earli stage may still fall apart lead partnership kind rather sale unclear whether deal happen combin could lift fortun maci countri biggest depart store struggl investor certainli appear see way share maci rose much percent friday biggest intraday gain sinc aug accord data bloomberg retail titan maci struggl remain relev discount retail decim tradit busi last month maci announc plan cut job close store terri lundgren chief execut architect maci last big merger expect step end march succeed compani presid jeffrey gennett sinc recess shopper grown accustom hunt bargain pay full price discount store outlet mall flourish tradit store compel respond trim price cut margin depart store hit especi hard particularli shopper migrat away mall emerg analyst say virtual race bottom particularli difficult maci born seri merger past two decad made juggernaut industri stalwart middl tier retail compani neither advantag retail like hm store addit maci face increasingli fierc competit onlin site like amazon elsewher maci troubl drawn attent promin activist hedg fund starboard valu urg compani gener cash sell real estat beneath store starboard held percent maci share sept previous estim valu land billion friday analyst citigroup estim maci hold could worth least billion maci market valu comparison billion friday morn maci taken step sell redevelop store last year ad expert real estat transact board compani larg resist ambiti effort divest real estat includ deal compani sell underli land beneath store rent back compani suitor hudson bay compani far smaller market valu billion canadian dollar billion known bold step hudson bay compani assembl grow empir includ hudson bay depart store chain lord taylor crown jewel sak governor execut chairman hudson bay compani richard baker shown littl fear use debt novemb compani borrow nearli billion sak flagship midtown manhattan spoken often retail need highlight valu real estat financ bid maci may trickier howev carri billion debt may mean hudson bay compani bring partner borrow real estat hold spokesman hudson bay compani declin comment talk report earlier wall street journal comment rumor specul repres maci said repres starboard valu respond request comment analyst said saw merit potenti combin particularli given maci oper woe mr baker expertis wring money real estat clear logic despit dispar cap maci hudson bay compani craig johnson presid custom growth partner research firm said note refer maci stock ticker symbol ad retail market chang faster abl keep whether flight mall migrat onlin'\n",
            " 'nato russia hold parallel exercis balkan nato russia hold parallel exercis balkan press tv russia militari nato forc hold parallel militari exercis two neighbor balkan countri russian troop particip war game serbia nato conduct militari drill montenegro media report monday russian forc day militari exercis serbia name slavic brotherhood begin wednesday includ russian paratroop air forc staffer three transport plane unspecifi number troop serbia belaru russia defens ministri said five day nato drill montenegro start monday involv respond flood chemic attack involv unarm personnel seven nato countri partner state past serbia montenegro constitut republ socialist feder republ yugoslavia countri socialist republ tradit russian christian orthodox alli state union form serbia montenegro two becam independ state sinc split two balkan neighbor seem head differ direct strateg montenegro taken pro western stanc award nato offer join northern atlant allianc nato invit montenegro met strong opposit russia meanwhil montenegrin offici accus russia stage alleg coup octob toppl pro western govern nato access bid serbia nato partner held exercis western allianc larg one foreign troop equip particip soil'\n",
            " 'keep f aliv david swanson author activist journalist radio host nobel peac prize nomine director worldbeyondwar com campaign coordin rootsact org host talk nation radio talk nation radio vt radio syndic pacifica network show also air wtju charlottesvil va wcsx detroit mi kghi westport wa whu storr ct wprr grand rapid mi krfp lp moscow id kzgm cabool mo kmud garbervil ca wazu peoria il wxrd crown point geneva radio geneva ny kkrn round mountain ca kskq lp ashland wuow lp oneonta ny lie radio pinol ca wyap lp clay wv detour johnson citi tn wzrd chicago il weft champaign il wxpi pittsburgh pa wdrt viroqua wi verac onlin liberti justic radio shirley ithaca commun radio ithaca ny wmcb greenfield prx org kao fm olympia wa wusb fm stoni brook ny wool fm bellow fall vermont wslr lp sarasota florida also blog davidswanson org warisacrim org prolif author latest book war lie daybreak undo imperi presid form perfect union world outlaw war swanson hold master degre philosophi univers virginia work newspap report commun director job includ press secretari denni kucinich presidenti campaign media coordin intern labor commun associ three year commun coordin acorn associ commun organ reform read full complet biographi davidswanson org also visit book site war crime keep f aliv david swanson octob petit stop f go global david swanson imagin local busi town invent brand new tool intend almost magic effect thousand mile away howev tool kept use local becam area unsaf children children got near tool tend increas blood pressur increas stress hormon lower read skill poorer memori impair auditori speech percept impair academ perform us would find situat least littl concern unless new invent design murder lot peopl fine imagin new tool ruin neighborhood peopl safe live near imagin govern compens peopl kick live near locat tool think might find troubl mass murder mission imagin also tool fairli frequent explod emit highli toxic chemic particl fiber unsaf breath air mile around normal problem tool need kill lot peopl work flaw new gadget expect cost least year money taken away numer expens benefici economi world trillion drain economi caus loss job radic diminuit resourc educ healthcar hous environment protect humanitarian aid worri case mean case abil kill ton human be stake product even work perfectli lead destroy earth natur environ high tech toy even design expect even abl design amazingli even shortcom matter long intent massiv murder destruct forgiven tool describ call f rootsact org find new petit launch local mind peopl act global place f intend base also link find explan tool decrib f petit direct unit state congress govern australia itali netherland norway turkey unit kingdom israel japan south korea world peopl burlington vermont fairbank alaska f base effort initi vermont stop f coalit save sky vermont western main matter alaska peac center univers alaska fairbank peac club north star chapter veteran peac world beyond war rootsact org code pink ben cohen petit read f weapon offens war serv defens purpos plan cost u trillion year starvat earth could end billion lack clean drink water billion per year first foremost wast resourc airplan kill militari spend contrari popular misconcept also hurt u economi see economi f caus neg health impact cognit impair children live near base render hous near airport unsuit residenti use high crash rate horribl consequ live area crash emiss major environment pollut war endang unit state particip nation rather protect nonviol tool law diplomaci aid crisi prevent verifi nuclear disarma substitut continu counterproduct war therefor undersign call immedi cancel f program whole immedi cancel plan base danger noisi jet near popul area oppos replac f weapon base f locat demand redirect money f back taxpay pocket environment human need u f custom nation around world includ fight climat chang pay student debt rebuild crumbl infrastructur improv educ healthcar hous add name david swanson author activist journalist radio host director worldbeyondwar org campaign coordin rootsact org swanson book includ war lie blog davidswanson org warisacrim org host talk nation radio nobel peac prize nomine follow twitter davidcnswanson facebook help support davidswanson org warisacrim org talknationradio org click http davidswanson org donat']\n"
          ]
        }
      ],
      "source": [
        "print(features)"
      ]
    },
    {
      "cell_type": "code",
      "execution_count": 38,
      "metadata": {
        "colab": {
          "base_uri": "https://localhost:8080/"
        },
        "id": "Fa-nvnU_6RIV",
        "outputId": "848f689f-c9a2-42ab-fd72-fa45d6e2e3d3"
      },
      "outputs": [
        {
          "name": "stdout",
          "output_type": "stream",
          "text": [
            "[1 0 1 ... 0 1 1]\n"
          ]
        }
      ],
      "source": [
        "print(target)"
      ]
    },
    {
      "cell_type": "code",
      "execution_count": 39,
      "metadata": {
        "colab": {
          "base_uri": "https://localhost:8080/"
        },
        "id": "4XeP4Jfn6TpI",
        "outputId": "9827e3e0-1330-48a1-e0be-c80495298cd3"
      },
      "outputs": [
        {
          "data": {
            "text/plain": [
              "(20203,)"
            ]
          },
          "execution_count": 39,
          "metadata": {},
          "output_type": "execute_result"
        }
      ],
      "source": [
        "target.shape"
      ]
    },
    {
      "cell_type": "code",
      "execution_count": 40,
      "metadata": {
        "id": "hYoBrOTS6Ybm"
      },
      "outputs": [],
      "source": [
        "#converting the textual data to numerical data\n",
        "vectorizer = TfidfVectorizer()\n",
        "vectorizer.fit(features)\n",
        "\n",
        "features =vectorizer.transform(features)"
      ]
    },
    {
      "cell_type": "code",
      "execution_count": 41,
      "metadata": {
        "colab": {
          "base_uri": "https://localhost:8080/"
        },
        "id": "LNiCtjZH6lsk",
        "outputId": "b60f551a-b37e-4420-8a81-18589a8c6fa1"
      },
      "outputs": [
        {
          "name": "stdout",
          "output_type": "stream",
          "text": [
            "  (0, 109850)\t0.05001417052334059\n",
            "  (0, 109798)\t0.01915628925310019\n",
            "  (0, 108846)\t0.04478795063167457\n",
            "  (0, 108842)\t0.09611164254336423\n",
            "  (0, 108798)\t0.03794631396404217\n",
            "  (0, 108758)\t0.011387610991409091\n",
            "  (0, 108113)\t0.017291964598269833\n",
            "  (0, 107299)\t0.017297834920508945\n",
            "  (0, 107211)\t0.01266591458237952\n",
            "  (0, 107126)\t0.029608099123504796\n",
            "  (0, 107047)\t0.012966066245168469\n",
            "  (0, 106844)\t0.011872414352282803\n",
            "  (0, 105998)\t0.02609196335184901\n",
            "  (0, 105961)\t0.03174488605043788\n",
            "  (0, 104949)\t0.02182175419223626\n",
            "  (0, 103529)\t0.06646832547938372\n",
            "  (0, 102837)\t0.033699691105283196\n",
            "  (0, 102582)\t0.016567056391623123\n",
            "  (0, 101809)\t0.03876549054522208\n",
            "  (0, 101168)\t0.011154955480457762\n",
            "  (0, 101158)\t0.04359773862590039\n",
            "  (0, 101105)\t0.13782544837424862\n",
            "  (0, 100957)\t0.07197372452095199\n",
            "  (0, 99668)\t0.04010226844336061\n",
            "  (0, 99099)\t0.027514323610713202\n",
            "  :\t:\n",
            "  (20202, 7569)\t0.010619425755705077\n",
            "  (20202, 7242)\t0.028186435237583223\n",
            "  (20202, 6948)\t0.03996247007915948\n",
            "  (20202, 6910)\t0.0255169503220597\n",
            "  (20202, 6629)\t0.04266750745783628\n",
            "  (20202, 6178)\t0.031623177007289865\n",
            "  (20202, 5964)\t0.04663049286959495\n",
            "  (20202, 5603)\t0.024064123824119793\n",
            "  (20202, 5328)\t0.045482290864243206\n",
            "  (20202, 3357)\t0.03480821175089785\n",
            "  (20202, 3120)\t0.04976716219225405\n",
            "  (20202, 3032)\t0.015334936305811855\n",
            "  (20202, 2790)\t0.04802931539919401\n",
            "  (20202, 2370)\t0.08967882582158936\n",
            "  (20202, 2073)\t0.023232326048003876\n",
            "  (20202, 2071)\t0.02952034422973021\n",
            "  (20202, 2028)\t0.033365880667444066\n",
            "  (20202, 1961)\t0.033815819573941676\n",
            "  (20202, 1092)\t0.019002817709287464\n",
            "  (20202, 966)\t0.03888327869093889\n",
            "  (20202, 936)\t0.01381605035747952\n",
            "  (20202, 878)\t0.042016682575605764\n",
            "  (20202, 620)\t0.024613932705244878\n",
            "  (20202, 380)\t0.015385790623679098\n",
            "  (20202, 363)\t0.019083951182408142\n"
          ]
        }
      ],
      "source": [
        "print(features)"
      ]
    },
    {
      "cell_type": "markdown",
      "metadata": {
        "id": "D8YHXHqx0Nxw"
      },
      "source": [
        "Train- test split\n"
      ]
    },
    {
      "cell_type": "code",
      "execution_count": 42,
      "metadata": {
        "id": "338jOFyI0TWL"
      },
      "outputs": [],
      "source": [
        "X_train, X_test, Y_train, Y_test = train_test_split(features, target, test_size= 0.2,stratify= target, random_state= 2)"
      ]
    },
    {
      "cell_type": "code",
      "execution_count": 43,
      "metadata": {
        "colab": {
          "base_uri": "https://localhost:8080/"
        },
        "id": "47J1QJ_b9Mkn",
        "outputId": "82cacaed-66a0-41ca-a984-a9742820c827"
      },
      "outputs": [
        {
          "name": "stdout",
          "output_type": "stream",
          "text": [
            "(20203, 111587) (16162, 111587) (4041, 111587)\n"
          ]
        }
      ],
      "source": [
        "print(features.shape , X_train.shape, X_test.shape)"
      ]
    },
    {
      "cell_type": "markdown",
      "metadata": {
        "id": "Nwgy7wIn9XCv"
      },
      "source": [
        "Training the model\n",
        "SVM classifier\n"
      ]
    },
    {
      "cell_type": "code",
      "execution_count": 44,
      "metadata": {
        "id": "Mo1fBJos9UGt"
      },
      "outputs": [],
      "source": [
        "classifier = SVC(kernel='linear')"
      ]
    },
    {
      "cell_type": "code",
      "execution_count": 45,
      "metadata": {
        "id": "je-uQTlS8Exj"
      },
      "outputs": [],
      "source": [
        "#X_train_dense = X_train.toarray()"
      ]
    },
    {
      "cell_type": "markdown",
      "metadata": {
        "id": "Me83b5235R5t"
      },
      "source": []
    },
    {
      "cell_type": "code",
      "execution_count": 46,
      "metadata": {
        "colab": {
          "base_uri": "https://localhost:8080/",
          "height": 74
        },
        "id": "nf9VkTE5-GpJ",
        "outputId": "72f16b91-8f86-4705-a354-5958dd525a1e"
      },
      "outputs": [
        {
          "data": {
            "text/html": [
              "<style>#sk-container-id-1 {\n",
              "  /* Definition of color scheme common for light and dark mode */\n",
              "  --sklearn-color-text: black;\n",
              "  --sklearn-color-line: gray;\n",
              "  /* Definition of color scheme for unfitted estimators */\n",
              "  --sklearn-color-unfitted-level-0: #fff5e6;\n",
              "  --sklearn-color-unfitted-level-1: #f6e4d2;\n",
              "  --sklearn-color-unfitted-level-2: #ffe0b3;\n",
              "  --sklearn-color-unfitted-level-3: chocolate;\n",
              "  /* Definition of color scheme for fitted estimators */\n",
              "  --sklearn-color-fitted-level-0: #f0f8ff;\n",
              "  --sklearn-color-fitted-level-1: #d4ebff;\n",
              "  --sklearn-color-fitted-level-2: #b3dbfd;\n",
              "  --sklearn-color-fitted-level-3: cornflowerblue;\n",
              "\n",
              "  /* Specific color for light theme */\n",
              "  --sklearn-color-text-on-default-background: var(--sg-text-color, var(--theme-code-foreground, var(--jp-content-font-color1, black)));\n",
              "  --sklearn-color-background: var(--sg-background-color, var(--theme-background, var(--jp-layout-color0, white)));\n",
              "  --sklearn-color-border-box: var(--sg-text-color, var(--theme-code-foreground, var(--jp-content-font-color1, black)));\n",
              "  --sklearn-color-icon: #696969;\n",
              "\n",
              "  @media (prefers-color-scheme: dark) {\n",
              "    /* Redefinition of color scheme for dark theme */\n",
              "    --sklearn-color-text-on-default-background: var(--sg-text-color, var(--theme-code-foreground, var(--jp-content-font-color1, white)));\n",
              "    --sklearn-color-background: var(--sg-background-color, var(--theme-background, var(--jp-layout-color0, #111)));\n",
              "    --sklearn-color-border-box: var(--sg-text-color, var(--theme-code-foreground, var(--jp-content-font-color1, white)));\n",
              "    --sklearn-color-icon: #878787;\n",
              "  }\n",
              "}\n",
              "\n",
              "#sk-container-id-1 {\n",
              "  color: var(--sklearn-color-text);\n",
              "}\n",
              "\n",
              "#sk-container-id-1 pre {\n",
              "  padding: 0;\n",
              "}\n",
              "\n",
              "#sk-container-id-1 input.sk-hidden--visually {\n",
              "  border: 0;\n",
              "  clip: rect(1px 1px 1px 1px);\n",
              "  clip: rect(1px, 1px, 1px, 1px);\n",
              "  height: 1px;\n",
              "  margin: -1px;\n",
              "  overflow: hidden;\n",
              "  padding: 0;\n",
              "  position: absolute;\n",
              "  width: 1px;\n",
              "}\n",
              "\n",
              "#sk-container-id-1 div.sk-dashed-wrapped {\n",
              "  border: 1px dashed var(--sklearn-color-line);\n",
              "  margin: 0 0.4em 0.5em 0.4em;\n",
              "  box-sizing: border-box;\n",
              "  padding-bottom: 0.4em;\n",
              "  background-color: var(--sklearn-color-background);\n",
              "}\n",
              "\n",
              "#sk-container-id-1 div.sk-container {\n",
              "  /* jupyter's `normalize.less` sets `[hidden] { display: none; }`\n",
              "     but bootstrap.min.css set `[hidden] { display: none !important; }`\n",
              "     so we also need the `!important` here to be able to override the\n",
              "     default hidden behavior on the sphinx rendered scikit-learn.org.\n",
              "     See: https://github.com/scikit-learn/scikit-learn/issues/21755 */\n",
              "  display: inline-block !important;\n",
              "  position: relative;\n",
              "}\n",
              "\n",
              "#sk-container-id-1 div.sk-text-repr-fallback {\n",
              "  display: none;\n",
              "}\n",
              "\n",
              "div.sk-parallel-item,\n",
              "div.sk-serial,\n",
              "div.sk-item {\n",
              "  /* draw centered vertical line to link estimators */\n",
              "  background-image: linear-gradient(var(--sklearn-color-text-on-default-background), var(--sklearn-color-text-on-default-background));\n",
              "  background-size: 2px 100%;\n",
              "  background-repeat: no-repeat;\n",
              "  background-position: center center;\n",
              "}\n",
              "\n",
              "/* Parallel-specific style estimator block */\n",
              "\n",
              "#sk-container-id-1 div.sk-parallel-item::after {\n",
              "  content: \"\";\n",
              "  width: 100%;\n",
              "  border-bottom: 2px solid var(--sklearn-color-text-on-default-background);\n",
              "  flex-grow: 1;\n",
              "}\n",
              "\n",
              "#sk-container-id-1 div.sk-parallel {\n",
              "  display: flex;\n",
              "  align-items: stretch;\n",
              "  justify-content: center;\n",
              "  background-color: var(--sklearn-color-background);\n",
              "  position: relative;\n",
              "}\n",
              "\n",
              "#sk-container-id-1 div.sk-parallel-item {\n",
              "  display: flex;\n",
              "  flex-direction: column;\n",
              "}\n",
              "\n",
              "#sk-container-id-1 div.sk-parallel-item:first-child::after {\n",
              "  align-self: flex-end;\n",
              "  width: 50%;\n",
              "}\n",
              "\n",
              "#sk-container-id-1 div.sk-parallel-item:last-child::after {\n",
              "  align-self: flex-start;\n",
              "  width: 50%;\n",
              "}\n",
              "\n",
              "#sk-container-id-1 div.sk-parallel-item:only-child::after {\n",
              "  width: 0;\n",
              "}\n",
              "\n",
              "/* Serial-specific style estimator block */\n",
              "\n",
              "#sk-container-id-1 div.sk-serial {\n",
              "  display: flex;\n",
              "  flex-direction: column;\n",
              "  align-items: center;\n",
              "  background-color: var(--sklearn-color-background);\n",
              "  padding-right: 1em;\n",
              "  padding-left: 1em;\n",
              "}\n",
              "\n",
              "\n",
              "/* Toggleable style: style used for estimator/Pipeline/ColumnTransformer box that is\n",
              "clickable and can be expanded/collapsed.\n",
              "- Pipeline and ColumnTransformer use this feature and define the default style\n",
              "- Estimators will overwrite some part of the style using the `sk-estimator` class\n",
              "*/\n",
              "\n",
              "/* Pipeline and ColumnTransformer style (default) */\n",
              "\n",
              "#sk-container-id-1 div.sk-toggleable {\n",
              "  /* Default theme specific background. It is overwritten whether we have a\n",
              "  specific estimator or a Pipeline/ColumnTransformer */\n",
              "  background-color: var(--sklearn-color-background);\n",
              "}\n",
              "\n",
              "/* Toggleable label */\n",
              "#sk-container-id-1 label.sk-toggleable__label {\n",
              "  cursor: pointer;\n",
              "  display: block;\n",
              "  width: 100%;\n",
              "  margin-bottom: 0;\n",
              "  padding: 0.5em;\n",
              "  box-sizing: border-box;\n",
              "  text-align: center;\n",
              "}\n",
              "\n",
              "#sk-container-id-1 label.sk-toggleable__label-arrow:before {\n",
              "  /* Arrow on the left of the label */\n",
              "  content: \"▸\";\n",
              "  float: left;\n",
              "  margin-right: 0.25em;\n",
              "  color: var(--sklearn-color-icon);\n",
              "}\n",
              "\n",
              "#sk-container-id-1 label.sk-toggleable__label-arrow:hover:before {\n",
              "  color: var(--sklearn-color-text);\n",
              "}\n",
              "\n",
              "/* Toggleable content - dropdown */\n",
              "\n",
              "#sk-container-id-1 div.sk-toggleable__content {\n",
              "  max-height: 0;\n",
              "  max-width: 0;\n",
              "  overflow: hidden;\n",
              "  text-align: left;\n",
              "  /* unfitted */\n",
              "  background-color: var(--sklearn-color-unfitted-level-0);\n",
              "}\n",
              "\n",
              "#sk-container-id-1 div.sk-toggleable__content.fitted {\n",
              "  /* fitted */\n",
              "  background-color: var(--sklearn-color-fitted-level-0);\n",
              "}\n",
              "\n",
              "#sk-container-id-1 div.sk-toggleable__content pre {\n",
              "  margin: 0.2em;\n",
              "  border-radius: 0.25em;\n",
              "  color: var(--sklearn-color-text);\n",
              "  /* unfitted */\n",
              "  background-color: var(--sklearn-color-unfitted-level-0);\n",
              "}\n",
              "\n",
              "#sk-container-id-1 div.sk-toggleable__content.fitted pre {\n",
              "  /* unfitted */\n",
              "  background-color: var(--sklearn-color-fitted-level-0);\n",
              "}\n",
              "\n",
              "#sk-container-id-1 input.sk-toggleable__control:checked~div.sk-toggleable__content {\n",
              "  /* Expand drop-down */\n",
              "  max-height: 200px;\n",
              "  max-width: 100%;\n",
              "  overflow: auto;\n",
              "}\n",
              "\n",
              "#sk-container-id-1 input.sk-toggleable__control:checked~label.sk-toggleable__label-arrow:before {\n",
              "  content: \"▾\";\n",
              "}\n",
              "\n",
              "/* Pipeline/ColumnTransformer-specific style */\n",
              "\n",
              "#sk-container-id-1 div.sk-label input.sk-toggleable__control:checked~label.sk-toggleable__label {\n",
              "  color: var(--sklearn-color-text);\n",
              "  background-color: var(--sklearn-color-unfitted-level-2);\n",
              "}\n",
              "\n",
              "#sk-container-id-1 div.sk-label.fitted input.sk-toggleable__control:checked~label.sk-toggleable__label {\n",
              "  background-color: var(--sklearn-color-fitted-level-2);\n",
              "}\n",
              "\n",
              "/* Estimator-specific style */\n",
              "\n",
              "/* Colorize estimator box */\n",
              "#sk-container-id-1 div.sk-estimator input.sk-toggleable__control:checked~label.sk-toggleable__label {\n",
              "  /* unfitted */\n",
              "  background-color: var(--sklearn-color-unfitted-level-2);\n",
              "}\n",
              "\n",
              "#sk-container-id-1 div.sk-estimator.fitted input.sk-toggleable__control:checked~label.sk-toggleable__label {\n",
              "  /* fitted */\n",
              "  background-color: var(--sklearn-color-fitted-level-2);\n",
              "}\n",
              "\n",
              "#sk-container-id-1 div.sk-label label.sk-toggleable__label,\n",
              "#sk-container-id-1 div.sk-label label {\n",
              "  /* The background is the default theme color */\n",
              "  color: var(--sklearn-color-text-on-default-background);\n",
              "}\n",
              "\n",
              "/* On hover, darken the color of the background */\n",
              "#sk-container-id-1 div.sk-label:hover label.sk-toggleable__label {\n",
              "  color: var(--sklearn-color-text);\n",
              "  background-color: var(--sklearn-color-unfitted-level-2);\n",
              "}\n",
              "\n",
              "/* Label box, darken color on hover, fitted */\n",
              "#sk-container-id-1 div.sk-label.fitted:hover label.sk-toggleable__label.fitted {\n",
              "  color: var(--sklearn-color-text);\n",
              "  background-color: var(--sklearn-color-fitted-level-2);\n",
              "}\n",
              "\n",
              "/* Estimator label */\n",
              "\n",
              "#sk-container-id-1 div.sk-label label {\n",
              "  font-family: monospace;\n",
              "  font-weight: bold;\n",
              "  display: inline-block;\n",
              "  line-height: 1.2em;\n",
              "}\n",
              "\n",
              "#sk-container-id-1 div.sk-label-container {\n",
              "  text-align: center;\n",
              "}\n",
              "\n",
              "/* Estimator-specific */\n",
              "#sk-container-id-1 div.sk-estimator {\n",
              "  font-family: monospace;\n",
              "  border: 1px dotted var(--sklearn-color-border-box);\n",
              "  border-radius: 0.25em;\n",
              "  box-sizing: border-box;\n",
              "  margin-bottom: 0.5em;\n",
              "  /* unfitted */\n",
              "  background-color: var(--sklearn-color-unfitted-level-0);\n",
              "}\n",
              "\n",
              "#sk-container-id-1 div.sk-estimator.fitted {\n",
              "  /* fitted */\n",
              "  background-color: var(--sklearn-color-fitted-level-0);\n",
              "}\n",
              "\n",
              "/* on hover */\n",
              "#sk-container-id-1 div.sk-estimator:hover {\n",
              "  /* unfitted */\n",
              "  background-color: var(--sklearn-color-unfitted-level-2);\n",
              "}\n",
              "\n",
              "#sk-container-id-1 div.sk-estimator.fitted:hover {\n",
              "  /* fitted */\n",
              "  background-color: var(--sklearn-color-fitted-level-2);\n",
              "}\n",
              "\n",
              "/* Specification for estimator info (e.g. \"i\" and \"?\") */\n",
              "\n",
              "/* Common style for \"i\" and \"?\" */\n",
              "\n",
              ".sk-estimator-doc-link,\n",
              "a:link.sk-estimator-doc-link,\n",
              "a:visited.sk-estimator-doc-link {\n",
              "  float: right;\n",
              "  font-size: smaller;\n",
              "  line-height: 1em;\n",
              "  font-family: monospace;\n",
              "  background-color: var(--sklearn-color-background);\n",
              "  border-radius: 1em;\n",
              "  height: 1em;\n",
              "  width: 1em;\n",
              "  text-decoration: none !important;\n",
              "  margin-left: 1ex;\n",
              "  /* unfitted */\n",
              "  border: var(--sklearn-color-unfitted-level-1) 1pt solid;\n",
              "  color: var(--sklearn-color-unfitted-level-1);\n",
              "}\n",
              "\n",
              ".sk-estimator-doc-link.fitted,\n",
              "a:link.sk-estimator-doc-link.fitted,\n",
              "a:visited.sk-estimator-doc-link.fitted {\n",
              "  /* fitted */\n",
              "  border: var(--sklearn-color-fitted-level-1) 1pt solid;\n",
              "  color: var(--sklearn-color-fitted-level-1);\n",
              "}\n",
              "\n",
              "/* On hover */\n",
              "div.sk-estimator:hover .sk-estimator-doc-link:hover,\n",
              ".sk-estimator-doc-link:hover,\n",
              "div.sk-label-container:hover .sk-estimator-doc-link:hover,\n",
              ".sk-estimator-doc-link:hover {\n",
              "  /* unfitted */\n",
              "  background-color: var(--sklearn-color-unfitted-level-3);\n",
              "  color: var(--sklearn-color-background);\n",
              "  text-decoration: none;\n",
              "}\n",
              "\n",
              "div.sk-estimator.fitted:hover .sk-estimator-doc-link.fitted:hover,\n",
              ".sk-estimator-doc-link.fitted:hover,\n",
              "div.sk-label-container:hover .sk-estimator-doc-link.fitted:hover,\n",
              ".sk-estimator-doc-link.fitted:hover {\n",
              "  /* fitted */\n",
              "  background-color: var(--sklearn-color-fitted-level-3);\n",
              "  color: var(--sklearn-color-background);\n",
              "  text-decoration: none;\n",
              "}\n",
              "\n",
              "/* Span, style for the box shown on hovering the info icon */\n",
              ".sk-estimator-doc-link span {\n",
              "  display: none;\n",
              "  z-index: 9999;\n",
              "  position: relative;\n",
              "  font-weight: normal;\n",
              "  right: .2ex;\n",
              "  padding: .5ex;\n",
              "  margin: .5ex;\n",
              "  width: min-content;\n",
              "  min-width: 20ex;\n",
              "  max-width: 50ex;\n",
              "  color: var(--sklearn-color-text);\n",
              "  box-shadow: 2pt 2pt 4pt #999;\n",
              "  /* unfitted */\n",
              "  background: var(--sklearn-color-unfitted-level-0);\n",
              "  border: .5pt solid var(--sklearn-color-unfitted-level-3);\n",
              "}\n",
              "\n",
              ".sk-estimator-doc-link.fitted span {\n",
              "  /* fitted */\n",
              "  background: var(--sklearn-color-fitted-level-0);\n",
              "  border: var(--sklearn-color-fitted-level-3);\n",
              "}\n",
              "\n",
              ".sk-estimator-doc-link:hover span {\n",
              "  display: block;\n",
              "}\n",
              "\n",
              "/* \"?\"-specific style due to the `<a>` HTML tag */\n",
              "\n",
              "#sk-container-id-1 a.estimator_doc_link {\n",
              "  float: right;\n",
              "  font-size: 1rem;\n",
              "  line-height: 1em;\n",
              "  font-family: monospace;\n",
              "  background-color: var(--sklearn-color-background);\n",
              "  border-radius: 1rem;\n",
              "  height: 1rem;\n",
              "  width: 1rem;\n",
              "  text-decoration: none;\n",
              "  /* unfitted */\n",
              "  color: var(--sklearn-color-unfitted-level-1);\n",
              "  border: var(--sklearn-color-unfitted-level-1) 1pt solid;\n",
              "}\n",
              "\n",
              "#sk-container-id-1 a.estimator_doc_link.fitted {\n",
              "  /* fitted */\n",
              "  border: var(--sklearn-color-fitted-level-1) 1pt solid;\n",
              "  color: var(--sklearn-color-fitted-level-1);\n",
              "}\n",
              "\n",
              "/* On hover */\n",
              "#sk-container-id-1 a.estimator_doc_link:hover {\n",
              "  /* unfitted */\n",
              "  background-color: var(--sklearn-color-unfitted-level-3);\n",
              "  color: var(--sklearn-color-background);\n",
              "  text-decoration: none;\n",
              "}\n",
              "\n",
              "#sk-container-id-1 a.estimator_doc_link.fitted:hover {\n",
              "  /* fitted */\n",
              "  background-color: var(--sklearn-color-fitted-level-3);\n",
              "}\n",
              "</style><div id=\"sk-container-id-1\" class=\"sk-top-container\"><div class=\"sk-text-repr-fallback\"><pre>SVC(kernel=&#x27;linear&#x27;)</pre><b>In a Jupyter environment, please rerun this cell to show the HTML representation or trust the notebook. <br />On GitHub, the HTML representation is unable to render, please try loading this page with nbviewer.org.</b></div><div class=\"sk-container\" hidden><div class=\"sk-item\"><div class=\"sk-estimator fitted sk-toggleable\"><input class=\"sk-toggleable__control sk-hidden--visually\" id=\"sk-estimator-id-1\" type=\"checkbox\" checked><label for=\"sk-estimator-id-1\" class=\"sk-toggleable__label fitted sk-toggleable__label-arrow fitted\">&nbsp;&nbsp;SVC<a class=\"sk-estimator-doc-link fitted\" rel=\"noreferrer\" target=\"_blank\" href=\"https://scikit-learn.org/1.4/modules/generated/sklearn.svm.SVC.html\">?<span>Documentation for SVC</span></a><span class=\"sk-estimator-doc-link fitted\">i<span>Fitted</span></span></label><div class=\"sk-toggleable__content fitted\"><pre>SVC(kernel=&#x27;linear&#x27;)</pre></div> </div></div></div></div>"
            ],
            "text/plain": [
              "SVC(kernel='linear')"
            ]
          },
          "execution_count": 46,
          "metadata": {},
          "output_type": "execute_result"
        }
      ],
      "source": [
        "# training the SVM classifier with training data\n",
        "classifier.fit(X_train, Y_train)"
      ]
    },
    {
      "cell_type": "markdown",
      "metadata": {
        "id": "JA3RhiYw3HEg"
      },
      "source": [
        "Model Evaluation\n"
      ]
    },
    {
      "cell_type": "markdown",
      "metadata": {
        "id": "abL9bmtg9XtY"
      },
      "source": [
        "Accuracy score\n"
      ]
    },
    {
      "cell_type": "code",
      "execution_count": 47,
      "metadata": {
        "id": "HR-IKRWh3GKV"
      },
      "outputs": [],
      "source": [
        "#X_train_prediction = classifier.predict(X_train)\n",
        "#training_data_accuracy = accuracy_score(Y_train, X_train_prediction)"
      ]
    },
    {
      "cell_type": "code",
      "execution_count": 48,
      "metadata": {},
      "outputs": [],
      "source": [
        "X_train_prediction = classifier.predict(X_train)\n",
        "training_data_accuracy = accuracy_score(X_train_prediction, Y_train)"
      ]
    },
    {
      "cell_type": "code",
      "execution_count": 49,
      "metadata": {
        "colab": {
          "base_uri": "https://localhost:8080/"
        },
        "id": "Y0Zp54oe9qO-",
        "outputId": "5a9bafdb-d071-406d-c89f-35dc1276a489"
      },
      "outputs": [
        {
          "name": "stdout",
          "output_type": "stream",
          "text": [
            "Accuracy score on traning data =  0.9927607969310729\n"
          ]
        }
      ],
      "source": [
        "print('Accuracy score on traning data = ', training_data_accuracy)"
      ]
    },
    {
      "cell_type": "code",
      "execution_count": 50,
      "metadata": {
        "id": "vpZADKO599KG"
      },
      "outputs": [],
      "source": [
        "#X_test_prediction = classifier.predict(X_test)\n",
        "#test_data_accuracy = accuracy_score(Y_test, X_test_prediction)"
      ]
    },
    {
      "cell_type": "code",
      "execution_count": 51,
      "metadata": {},
      "outputs": [],
      "source": [
        "X_test_prediction = classifier.predict(X_test)\n",
        "test_data_accuracy = accuracy_score(X_test_prediction, Y_test )"
      ]
    },
    {
      "cell_type": "code",
      "execution_count": 52,
      "metadata": {
        "colab": {
          "base_uri": "https://localhost:8080/"
        },
        "id": "jEL4O1nR-RlC",
        "outputId": "a17af178-971a-4bc1-b21b-35e27eb9825e"
      },
      "outputs": [
        {
          "name": "stdout",
          "output_type": "stream",
          "text": [
            "Accuracy score on test data =  0.9618906211333829\n"
          ]
        }
      ],
      "source": [
        "print('Accuracy score on test data = ', test_data_accuracy)\n"
      ]
    },
    {
      "cell_type": "markdown",
      "metadata": {
        "id": "e-886570-fEX"
      },
      "source": [
        "Building a predictive system"
      ]
    },
    {
      "cell_type": "code",
      "execution_count": 53,
      "metadata": {
        "colab": {
          "base_uri": "https://localhost:8080/"
        },
        "id": "z7UVvtix-k7f",
        "outputId": "4d4bcca9-f3c4-4571-b9ed-4672717eb38e"
      },
      "outputs": [
        {
          "name": "stdout",
          "output_type": "stream",
          "text": [
            "[0]\n",
            "The news is Real\n"
          ]
        }
      ],
      "source": [
        "X_new = X_test[21]\n",
        "\n",
        "prediction = classifier.predict(X_new)\n",
        "print(prediction)\n",
        "\n",
        "if (prediction[0]==0):\n",
        "  print('The news is Real')\n",
        "else:\n",
        "  print('The news is Fake')\n"
      ]
    },
    {
      "cell_type": "code",
      "execution_count": 54,
      "metadata": {
        "colab": {
          "base_uri": "https://localhost:8080/"
        },
        "id": "yAVX1Gm7-xwL",
        "outputId": "3318579e-297c-4cd5-e1a6-bbed89289690"
      },
      "outputs": [
        {
          "name": "stdout",
          "output_type": "stream",
          "text": [
            "0\n"
          ]
        }
      ],
      "source": [
        "print (Y_test[21])"
      ]
    },
    {
      "cell_type": "code",
      "execution_count": 55,
      "metadata": {},
      "outputs": [
        {
          "name": "stdout",
          "output_type": "stream",
          "text": [
            "Testing Precision: 0.9621870209504343\n"
          ]
        }
      ],
      "source": [
        "from sklearn.metrics import precision_score\n",
        "\n",
        "# Assuming you have already split your data into training and testing sets and trained your model\n",
        "\n",
        "# Make predictions on the testing data\n",
        "y_test_prediction = classifier.predict(X_test)\n",
        "\n",
        "# Evaluate precision on testing data\n",
        "test_precision = precision_score(Y_test, y_test_prediction)\n",
        "print(\"Testing Precision:\", test_precision)"
      ]
    },
    {
      "cell_type": "code",
      "execution_count": 56,
      "metadata": {},
      "outputs": [
        {
          "name": "stdout",
          "output_type": "stream",
          "text": [
            "Testing F1 score:  0.9607142857142857\n",
            "Testing recall:  0.9592460519612838\n"
          ]
        }
      ],
      "source": [
        "from sklearn.metrics import f1_score, recall_score\n",
        "\n",
        "# Assuming you have true labels 'y_true' and predicted labels 'y_pred'\n",
        "\n",
        "# Calculate F1 score\n",
        "f1 = f1_score(Y_test, y_test_prediction)\n",
        "print(\"Testing F1 score: \", f1)\n",
        "# Calculate recall\n",
        "recall = recall_score(Y_test, y_test_prediction)\n",
        "print(\"Testing recall: \", recall)"
      ]
    },
    {
      "cell_type": "code",
      "execution_count": 57,
      "metadata": {
        "id": "6CShA9GQpeE2"
      },
      "outputs": [
        {
          "data": {
            "text/plain": [
              "'import matplotlib.pyplot as plt\\n\\ndef plot_confusion_matrix(cm, classes,\\n                          normalize=False,\\n                          title=\\'Confusion matrix\\',\\n                          cmap=plt.cm.Purples):\\n    plt.imshow(cm, interpolation=\\'nearest\\', cmap=cmap)\\n    plt.title(title)\\n    plt.colorbar()\\n    tick_marks = np.arange(len(classes))\\n    plt.xticks(tick_marks, classes, rotation=45)\\n    plt.yticks(tick_marks, classes)\\n\\n    if normalize:\\n        cm = cm.astype(\\'float\\') / cm.sum(axis=1)[:, np.newaxis]\\n        print(\"Normalized confusion matrix\")\\n    else:\\n        print(\\'Confusion matrix, without normalization\\')\\n\\n    thresh = cm.max() / 2.\\n    for i, j in itertools.product(range(cm.shape[0]), range(cm.shape[1])):\\n        plt.text(j, i, cm[i, j],\\n                 horizontalalignment=\"center\",\\n                 color=\"white\" if cm[i, j] > thresh else \"black\")\\n\\n    plt.tight_layout()\\n    plt.ylabel(\\'True label\\')\\n    plt.xlabel(\\'Predicted label\\')'"
            ]
          },
          "execution_count": 57,
          "metadata": {},
          "output_type": "execute_result"
        }
      ],
      "source": [
        "'''import matplotlib.pyplot as plt\n",
        "\n",
        "def plot_confusion_matrix(cm, classes,\n",
        "                          normalize=False,\n",
        "                          title='Confusion matrix',\n",
        "                          cmap=plt.cm.Purples):\n",
        "    plt.imshow(cm, interpolation='nearest', cmap=cmap)\n",
        "    plt.title(title)\n",
        "    plt.colorbar()\n",
        "    tick_marks = np.arange(len(classes))\n",
        "    plt.xticks(tick_marks, classes, rotation=45)\n",
        "    plt.yticks(tick_marks, classes)\n",
        "\n",
        "    if normalize:\n",
        "        cm = cm.astype('float') / cm.sum(axis=1)[:, np.newaxis]\n",
        "        print(\"Normalized confusion matrix\")\n",
        "    else:\n",
        "        print('Confusion matrix, without normalization')\n",
        "\n",
        "    thresh = cm.max() / 2.\n",
        "    for i, j in itertools.product(range(cm.shape[0]), range(cm.shape[1])):\n",
        "        plt.text(j, i, cm[i, j],\n",
        "                 horizontalalignment=\"center\",\n",
        "                 color=\"white\" if cm[i, j] > thresh else \"black\")\n",
        "\n",
        "    plt.tight_layout()\n",
        "    plt.ylabel('True label')\n",
        "    plt.xlabel('Predicted label')'''"
      ]
    },
    {
      "cell_type": "markdown",
      "metadata": {
        "id": "IM3sNQ-rvnAl"
      },
      "source": [
        "Cross-validation\n"
      ]
    },
    {
      "cell_type": "code",
      "execution_count": 58,
      "metadata": {
        "colab": {
          "base_uri": "https://localhost:8080/"
        },
        "id": "x9prBPc-peki",
        "outputId": "ac0b4266-0b38-476a-aec6-4f0abfa04888"
      },
      "outputs": [
        {
          "name": "stdout",
          "output_type": "stream",
          "text": [
            "Average Accuracy: 0.9650051820326798\n"
          ]
        }
      ],
      "source": [
        "#performing cross validation\n",
        "from sklearn.model_selection import KFold\n",
        "from sklearn.model_selection import cross_val_score\n",
        "# Define k-fold cross-validation\n",
        "k_fold = KFold(n_splits=5, shuffle=True, random_state=42)\n",
        "\n",
        "# Perform cross-validation\n",
        "scores = cross_val_score(classifier, features, target, cv=k_fold, scoring='accuracy')\n",
        "\n",
        "# Print average performance\n",
        "print(\"Average Accuracy:\", np.mean(scores))"
      ]
    },
    {
      "cell_type": "code",
      "execution_count": 59,
      "metadata": {
        "id": "IfAs5R3C2rs_"
      },
      "outputs": [],
      "source": [
        "#completed cross-validation"
      ]
    },
    {
      "cell_type": "code",
      "execution_count": 60,
      "metadata": {},
      "outputs": [],
      "source": [
        "import time\n",
        "import joblib\n",
        "import scipy.sparse as sparse\n",
        "\n",
        "# Function to periodically update the model\n",
        "def update_model():\n",
        "  while True:\n",
        "    time.sleep(5) # Sleep for 1 day\n",
        "    new_data = pd.read_csv('test.csv') # Load new data\n",
        "\n",
        "    new_data = new_data.fillna('')    # filling the null values with empty string \n",
        "\n",
        "    new_data['content'] = new_data['title'] + '' + new_data['text']\n",
        "    \n",
        "    new_data['content'] = new_data['content'].apply(stemming)\n",
        "    new_features = vectorizer.transform(new_data['content']) # Transform new data to numerical features\n",
        "    combined_features = sparse.vstack([features, new_features]) # Combine existing and new features\n",
        "    combined_target = pd.concat([target, new_data['label']], ignore_index=True) # Combine existing and new target\n",
        "    X_train, X_test, Y_train, Y_test = train_test_split(combined_features, combined_target, test_size=0.2, random_state=2)\n",
        "    classifier.fit(X_train, Y_train) # Retrain the model\n",
        "    Y_test_pred = classifier.predict(X_test) # Predict on test data\n",
        "    accuracy = accuracy_score(Y_test, Y_test_pred) # Calculate accuracy\n",
        "    print('Updated Model Accuracy: ', accuracy)\n",
        "    if accuracy > 0.9: # Save the model if accuracy is above a certain threshold\n",
        "      joblib.dump(classifier, 'fake_news_classifier.pkl')\n",
        "      print('Model saved')\n",
        "\n",
        "\n"
      ]
    },
    {
      "cell_type": "code",
      "execution_count": 61,
      "metadata": {},
      "outputs": [],
      "source": [
        "#update_model()"
      ]
    },
    {
      "cell_type": "code",
      "execution_count": 62,
      "metadata": {},
      "outputs": [],
      "source": [
        "new_test_data = pd.read_csv('test.csv')"
      ]
    },
    {
      "cell_type": "code",
      "execution_count": 63,
      "metadata": {},
      "outputs": [
        {
          "data": {
            "text/plain": [
              "id          0\n",
              "title     122\n",
              "author    503\n",
              "text        7\n",
              "dtype: int64"
            ]
          },
          "execution_count": 63,
          "metadata": {},
          "output_type": "execute_result"
        }
      ],
      "source": [
        "new_test_data.isnull().sum()"
      ]
    },
    {
      "cell_type": "code",
      "execution_count": 64,
      "metadata": {},
      "outputs": [
        {
          "data": {
            "text/plain": [
              "'from sklearn.metrics import precision_score\\n\\n# Assuming y_true contains the true labels and y_pred contains the predicted labels\\nprecision = precision_score(X_test, X_test_prediction)\\n\\nprint(\"Precision:\", precision) '"
            ]
          },
          "execution_count": 64,
          "metadata": {},
          "output_type": "execute_result"
        }
      ],
      "source": [
        "'''from sklearn.metrics import precision_score\n",
        "\n",
        "# Assuming y_true contains the true labels and y_pred contains the predicted labels\n",
        "precision = precision_score(X_test, X_test_prediction)\n",
        "\n",
        "print(\"Precision:\", precision) '''\n"
      ]
    },
    {
      "cell_type": "markdown",
      "metadata": {
        "id": "xmWFsjfN9rTb"
      },
      "source": [
        "Confusion Matrix"
      ]
    },
    {
      "cell_type": "code",
      "execution_count": 65,
      "metadata": {
        "id": "Xbc2RmMR9xvc"
      },
      "outputs": [],
      "source": [
        "#from sklearn.metrics import confusion_matrix"
      ]
    },
    {
      "cell_type": "code",
      "execution_count": 66,
      "metadata": {
        "colab": {
          "base_uri": "https://localhost:8080/"
        },
        "id": "FenerRvjJc5H",
        "outputId": "fdc34c1b-c67e-471a-b99b-8b118b3ecc20"
      },
      "outputs": [],
      "source": [
        "#confusion_matrix(Y_test, X_test_prediction)"
      ]
    },
    {
      "cell_type": "code",
      "execution_count": 67,
      "metadata": {
        "colab": {
          "base_uri": "https://localhost:8080/"
        },
        "id": "yrlifQzyMYPY",
        "outputId": "3ff32032-7ac4-4fc1-be5f-d9ee21571de8"
      },
      "outputs": [
        {
          "data": {
            "text/plain": [
              "'\\nfrom sklearn.utils.multiclass import unique_labels\\nunique_labels(Y_test)\\n'"
            ]
          },
          "execution_count": 67,
          "metadata": {},
          "output_type": "execute_result"
        }
      ],
      "source": [
        "#getting dataframe labels\n",
        "'''\n",
        "from sklearn.utils.multiclass import unique_labels\n",
        "unique_labels(Y_test)\n",
        "'''"
      ]
    },
    {
      "cell_type": "code",
      "execution_count": 68,
      "metadata": {
        "id": "pFQ5_EM6O-C6"
      },
      "outputs": [
        {
          "data": {
            "text/plain": [
              "\"\\ndef plot(Y_true, Y_pred):\\n  labels= unique_labels(Y_test)\\n  column = [f'Predicted{label}' for label in labels]\\n  indices = [f'Actual{label}' for label in labels]\\n  table = pd.DataFrame(confusion_matrix(Y_test, X_test_prediction),\\n                       columns=column, index=indices)\\n  return table\\n  \""
            ]
          },
          "execution_count": 68,
          "metadata": {},
          "output_type": "execute_result"
        }
      ],
      "source": [
        "#combine these labels with the confusion matrix\n",
        "'''\n",
        "def plot(Y_true, Y_pred):\n",
        "  labels= unique_labels(Y_test)\n",
        "  column = [f'Predicted{label}' for label in labels]\n",
        "  indices = [f'Actual{label}' for label in labels]\n",
        "  table = pd.DataFrame(confusion_matrix(Y_test, X_test_prediction),\n",
        "                       columns=column, index=indices)\n",
        "  return table\n",
        "  '''"
      ]
    },
    {
      "cell_type": "code",
      "execution_count": 69,
      "metadata": {
        "colab": {
          "base_uri": "https://localhost:8080/",
          "height": 112
        },
        "id": "w1e0sWTjg6-Z",
        "outputId": "1dbe3d9c-ff83-4272-f518-7f7893494dde"
      },
      "outputs": [],
      "source": [
        "#plot(Y_test, X_test_prediction)"
      ]
    },
    {
      "cell_type": "code",
      "execution_count": 70,
      "metadata": {
        "id": "ys37w6wjhK3j"
      },
      "outputs": [],
      "source": [
        "#import seaborn as sns"
      ]
    },
    {
      "cell_type": "code",
      "execution_count": 71,
      "metadata": {},
      "outputs": [],
      "source": [
        "#pip install seaborn"
      ]
    },
    {
      "cell_type": "code",
      "execution_count": 72,
      "metadata": {
        "id": "lScG_Hq9hOOJ"
      },
      "outputs": [
        {
          "data": {
            "text/plain": [
              "\"\\ndef plot2(Y_true, Y_pred):\\n  labels= unique_labels(Y_test)\\n  column = [f'Predicted{label}' for label in labels]\\n  indices = [f'Actual{label}' for label in labels]\\n  table = pd.DataFrame(confusion_matrix(Y_test, X_test_prediction),\\n                       columns=column, index=indices)\\n  return sns.heatmap(table, annot=True, fmt='d', cmap='viridis')\\n  \""
            ]
          },
          "execution_count": 72,
          "metadata": {},
          "output_type": "execute_result"
        }
      ],
      "source": [
        "#Same plot as above but in heatmap\n",
        "'''\n",
        "def plot2(Y_true, Y_pred):\n",
        "  labels= unique_labels(Y_test)\n",
        "  column = [f'Predicted{label}' for label in labels]\n",
        "  indices = [f'Actual{label}' for label in labels]\n",
        "  table = pd.DataFrame(confusion_matrix(Y_test, X_test_prediction),\n",
        "                       columns=column, index=indices)\n",
        "  return sns.heatmap(table, annot=True, fmt='d', cmap='viridis')\n",
        "  '''"
      ]
    },
    {
      "cell_type": "code",
      "execution_count": 73,
      "metadata": {
        "colab": {
          "base_uri": "https://localhost:8080/",
          "height": 447
        },
        "id": "np9ASH-khryd",
        "outputId": "4efd5a90-754c-4b96-d7e6-d4b473a9d066"
      },
      "outputs": [],
      "source": [
        "#plot2(Y_test, X_test_prediction)"
      ]
    },
    {
      "cell_type": "code",
      "execution_count": 74,
      "metadata": {
        "id": "Xy-GuUCSh8Q8"
      },
      "outputs": [],
      "source": [
        "#Confusion Matrix compeleted"
      ]
    },
    {
      "cell_type": "code",
      "execution_count": 75,
      "metadata": {
        "id": "3WQvwKARl49n"
      },
      "outputs": [],
      "source": [
        "#from sklearn.metrics import classification_report"
      ]
    },
    {
      "cell_type": "code",
      "execution_count": 76,
      "metadata": {
        "colab": {
          "base_uri": "https://localhost:8080/"
        },
        "id": "HFqwa-iZmWy_",
        "outputId": "999bfbde-a35f-4b64-bb60-24d65538c78e"
      },
      "outputs": [],
      "source": [
        "#print(classification_report(Y_test, X_test_prediction ))"
      ]
    },
    {
      "cell_type": "code",
      "execution_count": 77,
      "metadata": {
        "id": "1_6jtluSsyRt"
      },
      "outputs": [
        {
          "data": {
            "text/plain": [
              "'true_positive = 2077\\ntrue_negative = 1970\\nfalse_positive = 61\\nfalse_negative = 52'"
            ]
          },
          "execution_count": 77,
          "metadata": {},
          "output_type": "execute_result"
        }
      ],
      "source": [
        "'''true_positive = 2077\n",
        "true_negative = 1970\n",
        "false_positive = 61\n",
        "false_negative = 52'''"
      ]
    },
    {
      "cell_type": "code",
      "execution_count": 78,
      "metadata": {
        "colab": {
          "base_uri": "https://localhost:8080/"
        },
        "id": "q-Z5PT_Qtvsw",
        "outputId": "31351f8c-184f-4cb3-daca-0e246a84faca"
      },
      "outputs": [
        {
          "data": {
            "text/plain": [
              "'recall = true_positive/(true_positive + false_negative)\\nrecall'"
            ]
          },
          "execution_count": 78,
          "metadata": {},
          "output_type": "execute_result"
        }
      ],
      "source": [
        "'''recall = true_positive/(true_positive + false_negative)\n",
        "recall'''"
      ]
    },
    {
      "cell_type": "code",
      "execution_count": 79,
      "metadata": {
        "colab": {
          "base_uri": "https://localhost:8080/"
        },
        "id": "1HwNl-mqukGx",
        "outputId": "f3908fd7-c124-486a-8ed4-d37d2ea4d3eb"
      },
      "outputs": [],
      "source": [
        "#precision = true_positive/(true_positive + false_positive)\n",
        "#precision"
      ]
    },
    {
      "cell_type": "code",
      "execution_count": 80,
      "metadata": {
        "colab": {
          "base_uri": "https://localhost:8080/"
        },
        "id": "aCjCxv9su2py",
        "outputId": "3cabeafb-fffb-432b-9729-e22422df1bc6"
      },
      "outputs": [],
      "source": [
        "#f1_score = (precision * recall / (precision + recall)) * 2\n",
        "#f1_score"
      ]
    },
    {
      "cell_type": "code",
      "execution_count": 81,
      "metadata": {
        "colab": {
          "base_uri": "https://localhost:8080/"
        },
        "id": "8E_KoOjivnPx",
        "outputId": "ed34d091-19c3-4c86-c3de-2f2f4d59881a"
      },
      "outputs": [],
      "source": [
        "#from sklearn.metrics import classification_report\n",
        "#print(classification_report(Y_test, X_test_prediction))"
      ]
    },
    {
      "cell_type": "markdown",
      "metadata": {
        "id": "ZwSA6QSFyrT8"
      },
      "source": [
        "Confusion Matrix for train data"
      ]
    },
    {
      "cell_type": "code",
      "execution_count": 82,
      "metadata": {
        "colab": {
          "base_uri": "https://localhost:8080/"
        },
        "id": "SQA5JpuL3NKI",
        "outputId": "62876080-bd31-4db1-8c0a-4c8cd5edbb09"
      },
      "outputs": [],
      "source": [
        "#confusion_matrix(Y_train, X_train_prediction)"
      ]
    },
    {
      "cell_type": "code",
      "execution_count": 83,
      "metadata": {
        "colab": {
          "base_uri": "https://localhost:8080/"
        },
        "id": "c8v2GxpbypGm",
        "outputId": "d97e89c8-88d5-40ec-f6cb-c26d123ca50f"
      },
      "outputs": [
        {
          "data": {
            "text/plain": [
              "'\\nfrom sklearn.utils.multiclass import unique_labels\\nunique_labels(Y_train)\\n'"
            ]
          },
          "execution_count": 83,
          "metadata": {},
          "output_type": "execute_result"
        }
      ],
      "source": [
        "#getting dataframe labels\n",
        "'''\n",
        "from sklearn.utils.multiclass import unique_labels\n",
        "unique_labels(Y_train)\n",
        "'''"
      ]
    },
    {
      "cell_type": "code",
      "execution_count": 84,
      "metadata": {
        "id": "oJZ8WY4azHco"
      },
      "outputs": [
        {
          "data": {
            "text/plain": [
              "\"\\ndef plot3(Y_true, Y_pred):\\n  labels= unique_labels(Y_train)\\n  column = [f'Predicted{label}' for label in labels]\\n  indices = [f'Actual{label}' for label in labels]\\n  table = pd.DataFrame(confusion_matrix(Y_train, X_train_prediction),\\n                       columns=column, index=indices)\\n  return table\\n  \""
            ]
          },
          "execution_count": 84,
          "metadata": {},
          "output_type": "execute_result"
        }
      ],
      "source": [
        "#combine these labels with the confusion matrix\n",
        "'''\n",
        "def plot3(Y_true, Y_pred):\n",
        "  labels= unique_labels(Y_train)\n",
        "  column = [f'Predicted{label}' for label in labels]\n",
        "  indices = [f'Actual{label}' for label in labels]\n",
        "  table = pd.DataFrame(confusion_matrix(Y_train, X_train_prediction),\n",
        "                       columns=column, index=indices)\n",
        "  return table\n",
        "  '''"
      ]
    },
    {
      "cell_type": "code",
      "execution_count": 85,
      "metadata": {
        "colab": {
          "base_uri": "https://localhost:8080/",
          "height": 112
        },
        "id": "YNDlQzRT09cT",
        "outputId": "0f413e39-8490-49aa-a138-a0edbd51517a"
      },
      "outputs": [],
      "source": [
        "#plot3(Y_train, X_train_prediction)"
      ]
    },
    {
      "cell_type": "code",
      "execution_count": 86,
      "metadata": {
        "id": "mUIX2m_JRRmq"
      },
      "outputs": [
        {
          "data": {
            "text/plain": [
              "\"\\ndef plot4(Y_true, Y_pred):\\n  labels= unique_labels(Y_train)\\n  column = [f'Predicted{label}' for label in labels]\\n  indices = [f'Actual{label}' for label in labels]\\n  table = pd.DataFrame(confusion_matrix(Y_train, X_train_prediction),\\n                       columns=column, index=indices)\\n  return sns.heatmap(table, annot=True, fmt='d', cmap='viridis')\\n  \""
            ]
          },
          "execution_count": 86,
          "metadata": {},
          "output_type": "execute_result"
        }
      ],
      "source": [
        "#Same plot as above but in heatmap\n",
        "'''\n",
        "def plot4(Y_true, Y_pred):\n",
        "  labels= unique_labels(Y_train)\n",
        "  column = [f'Predicted{label}' for label in labels]\n",
        "  indices = [f'Actual{label}' for label in labels]\n",
        "  table = pd.DataFrame(confusion_matrix(Y_train, X_train_prediction),\n",
        "                       columns=column, index=indices)\n",
        "  return sns.heatmap(table, annot=True, fmt='d', cmap='viridis')\n",
        "  '''"
      ]
    },
    {
      "cell_type": "code",
      "execution_count": 87,
      "metadata": {
        "colab": {
          "base_uri": "https://localhost:8080/",
          "height": 447
        },
        "id": "QPi4j_OVRZiW",
        "outputId": "116e9a68-75d6-4e8d-ac4f-1feee08d811f"
      },
      "outputs": [],
      "source": [
        "#plot4(Y_train, X_train_prediction)"
      ]
    },
    {
      "cell_type": "code",
      "execution_count": 88,
      "metadata": {
        "colab": {
          "base_uri": "https://localhost:8080/"
        },
        "id": "yALrfgKZSAhn",
        "outputId": "a125f297-a9d7-4b70-810a-d7c62147edac"
      },
      "outputs": [],
      "source": [
        "#print(classification_report(Y_train, X_train_prediction ))"
      ]
    },
    {
      "cell_type": "code",
      "execution_count": 89,
      "metadata": {
        "id": "GwNAbpjL1RJV"
      },
      "outputs": [
        {
          "data": {
            "text/plain": [
              "'true_positive = 8233\\ntrue_negative = 8317\\nfalse_positive = 39\\nfalse_negative = 51'"
            ]
          },
          "execution_count": 89,
          "metadata": {},
          "output_type": "execute_result"
        }
      ],
      "source": [
        "'''true_positive = 8233\n",
        "true_negative = 8317\n",
        "false_positive = 39\n",
        "false_negative = 51'''"
      ]
    },
    {
      "cell_type": "code",
      "execution_count": 90,
      "metadata": {
        "colab": {
          "base_uri": "https://localhost:8080/"
        },
        "id": "cZ_5DExg1Ytr",
        "outputId": "f2e930e4-986d-4744-af44-bbc904fd0fad"
      },
      "outputs": [],
      "source": [
        "#recall = true_positive/(true_positive + false_negative)\n",
        "#recall"
      ]
    },
    {
      "cell_type": "code",
      "execution_count": 91,
      "metadata": {
        "colab": {
          "base_uri": "https://localhost:8080/"
        },
        "id": "i8-Aq8mO1cZg",
        "outputId": "35daf1df-f7ba-4321-ad6d-a84520582960"
      },
      "outputs": [],
      "source": [
        "#precision = true_positive/(true_positive + false_positive)\n",
        "#precision"
      ]
    },
    {
      "cell_type": "code",
      "execution_count": 92,
      "metadata": {
        "colab": {
          "base_uri": "https://localhost:8080/"
        },
        "id": "A0v2T2zm1dF7",
        "outputId": "28e4d4f3-de61-45d3-c3e0-68b12fd75922"
      },
      "outputs": [],
      "source": [
        "#f1_score = (precision * recall / (precision + recall)) * 2\n",
        "#f1_score"
      ]
    },
    {
      "cell_type": "code",
      "execution_count": 93,
      "metadata": {
        "colab": {
          "base_uri": "https://localhost:8080/"
        },
        "id": "Jwpt7X_C1f3y",
        "outputId": "53851df0-e554-4f26-b2f8-afbfa03e4a56"
      },
      "outputs": [
        {
          "data": {
            "text/plain": [
              "'\\nfrom sklearn.metrics import classification_report\\nprint(classification_report(Y_train, X_train_prediction))\\n'"
            ]
          },
          "execution_count": 93,
          "metadata": {},
          "output_type": "execute_result"
        }
      ],
      "source": [
        "'''\n",
        "from sklearn.metrics import classification_report\n",
        "print(classification_report(Y_train, X_train_prediction))\n",
        "'''"
      ]
    },
    {
      "cell_type": "markdown",
      "metadata": {
        "id": "iueXMT63SNDw"
      },
      "source": [
        "Comparison graph for Train dataset and Test dataset"
      ]
    },
    {
      "cell_type": "code",
      "execution_count": 94,
      "metadata": {
        "colab": {
          "base_uri": "https://localhost:8080/",
          "height": 605
        },
        "id": "KYm20tH7ST9s",
        "outputId": "d793ec13-e324-45b7-ae96-fad27468f61c"
      },
      "outputs": [
        {
          "data": {
            "text/plain": [
              "\"import matplotlib.pyplot as plt\\n\\n# Define performance metrics for train dataset\\ntrain_f1_score = 0.9977\\ntrain_recall = 0.9971\\ntrain_precision = 0.9983\\ntrain_accuracy = 0.9977\\n\\n# Define performance metrics for test dataset\\ntest_f1_score = 0.9922\\ntest_recall = 0.9953\\ntest_precision = 0.9892\\ntest_accuracy = 0.9920\\n\\n# Calculate the difference between train and test performance metrics\\nf1_score_diff = train_f1_score - test_f1_score\\nrecall_diff = train_recall - test_recall\\nprecision_diff = train_precision - test_precision\\naccuracy_diff = train_accuracy - test_accuracy\\n\\n# Define performance metric names\\nmetrics = ['F1-score', 'Recall', 'Precision', 'Accuracy']\\n\\n# Define difference values\\ndiff_values = [f1_score_diff, recall_diff, precision_diff, accuracy_diff]\\n\\n# Plot the graph\\nplt.figure(figsize=(10, 6))\\nplt.bar(metrics, diff_values, color='skyblue')\\nplt.title('Difference Between Train and Test Performance Metrics')\\nplt.xlabel('Performance Metric')\\nplt.ylabel('Difference')\\nplt.xticks(rotation=45)\\nplt.grid(axis='y')\\nplt.show()\\n\""
            ]
          },
          "execution_count": 94,
          "metadata": {},
          "output_type": "execute_result"
        }
      ],
      "source": [
        "'''import matplotlib.pyplot as plt\n",
        "\n",
        "# Define performance metrics for train dataset\n",
        "train_f1_score = 0.9977\n",
        "train_recall = 0.9971\n",
        "train_precision = 0.9983\n",
        "train_accuracy = 0.9977\n",
        "\n",
        "# Define performance metrics for test dataset\n",
        "test_f1_score = 0.9922\n",
        "test_recall = 0.9953\n",
        "test_precision = 0.9892\n",
        "test_accuracy = 0.9920\n",
        "\n",
        "# Calculate the difference between train and test performance metrics\n",
        "f1_score_diff = train_f1_score - test_f1_score\n",
        "recall_diff = train_recall - test_recall\n",
        "precision_diff = train_precision - test_precision\n",
        "accuracy_diff = train_accuracy - test_accuracy\n",
        "\n",
        "# Define performance metric names\n",
        "metrics = ['F1-score', 'Recall', 'Precision', 'Accuracy']\n",
        "\n",
        "# Define difference values\n",
        "diff_values = [f1_score_diff, recall_diff, precision_diff, accuracy_diff]\n",
        "\n",
        "# Plot the graph\n",
        "plt.figure(figsize=(10, 6))\n",
        "plt.bar(metrics, diff_values, color='skyblue')\n",
        "plt.title('Difference Between Train and Test Performance Metrics')\n",
        "plt.xlabel('Performance Metric')\n",
        "plt.ylabel('Difference')\n",
        "plt.xticks(rotation=45)\n",
        "plt.grid(axis='y')\n",
        "plt.show()\n",
        "'''\n"
      ]
    },
    {
      "cell_type": "code",
      "execution_count": 95,
      "metadata": {
        "colab": {
          "base_uri": "https://localhost:8080/",
          "height": 605
        },
        "id": "xc_ihLDnlNh6",
        "outputId": "0c29c99a-d465-4d6e-f6d9-225656468165"
      },
      "outputs": [
        {
          "data": {
            "text/plain": [
              "\"#Graph for train dataset\\nimport matplotlib.pyplot as plt\\n\\n# Define performance metrics for train dataset\\ntrain_f1_score = 0.9977\\ntrain_recall = 0.9971\\ntrain_precision = 0.9983\\ntrain_accuracy = 0.9977\\n\\n\\n\\n# Define performance metric names\\nmetrics = ['F1-score', 'Recall', 'Precision', 'Accuracy']\\n\\n# Define difference values\\ndiff_values = [train_f1_score, train_recall, train_precision, train_accuracy]\\n\\n# Plot the graph\\nplt.figure(figsize=(10, 6))\\nplt.bar(metrics, diff_values, color='skyblue')\\nplt.title('Train dataset')\\nplt.xlabel('Performance Metric')\\nplt.ylabel('values')\\nplt.xticks(rotation=45)\\nplt.grid(axis='y')\\nplt.show()\\n\""
            ]
          },
          "execution_count": 95,
          "metadata": {},
          "output_type": "execute_result"
        }
      ],
      "source": [
        "'''#Graph for train dataset\n",
        "import matplotlib.pyplot as plt\n",
        "\n",
        "# Define performance metrics for train dataset\n",
        "train_f1_score = 0.9977\n",
        "train_recall = 0.9971\n",
        "train_precision = 0.9983\n",
        "train_accuracy = 0.9977\n",
        "\n",
        "\n",
        "\n",
        "# Define performance metric names\n",
        "metrics = ['F1-score', 'Recall', 'Precision', 'Accuracy']\n",
        "\n",
        "# Define difference values\n",
        "diff_values = [train_f1_score, train_recall, train_precision, train_accuracy]\n",
        "\n",
        "# Plot the graph\n",
        "plt.figure(figsize=(10, 6))\n",
        "plt.bar(metrics, diff_values, color='skyblue')\n",
        "plt.title('Train dataset')\n",
        "plt.xlabel('Performance Metric')\n",
        "plt.ylabel('values')\n",
        "plt.xticks(rotation=45)\n",
        "plt.grid(axis='y')\n",
        "plt.show()\n",
        "'''"
      ]
    },
    {
      "cell_type": "code",
      "execution_count": 96,
      "metadata": {
        "colab": {
          "base_uri": "https://localhost:8080/",
          "height": 605
        },
        "id": "WX0PpVX8lzPd",
        "outputId": "58cc5b1e-5485-4967-9f46-90b3ad67f8d9"
      },
      "outputs": [
        {
          "data": {
            "text/plain": [
              "\"#Graph for test dataset\\nimport matplotlib.pyplot as plt\\n\\n# Define performance metrics for test dataset\\ntest_f1_score = 0.9922\\ntest_recall = 0.9953\\ntest_precision = 0.9892\\ntest_accuracy = 0.9920\\n\\n\\n# Define performance metric names\\nmetrics = ['F1-score', 'Recall', 'Precision', 'Accuracy']\\n\\n# Define difference values\\ndiff_values = [test_f1_score, test_recall, test_precision, test_accuracy]\\n\\n# Plot the graph\\nplt.figure(figsize=(10, 6))\\nplt.bar(metrics, diff_values, color='skyblue')\\nplt.title('Test dataset')\\nplt.xlabel('Performance Metric')\\nplt.ylabel('values')\\nplt.xticks(rotation=45)\\nplt.grid(axis='y')\\nplt.show()\\n\""
            ]
          },
          "execution_count": 96,
          "metadata": {},
          "output_type": "execute_result"
        }
      ],
      "source": [
        "'''#Graph for test dataset\n",
        "import matplotlib.pyplot as plt\n",
        "\n",
        "# Define performance metrics for test dataset\n",
        "test_f1_score = 0.9922\n",
        "test_recall = 0.9953\n",
        "test_precision = 0.9892\n",
        "test_accuracy = 0.9920\n",
        "\n",
        "\n",
        "# Define performance metric names\n",
        "metrics = ['F1-score', 'Recall', 'Precision', 'Accuracy']\n",
        "\n",
        "# Define difference values\n",
        "diff_values = [test_f1_score, test_recall, test_precision, test_accuracy]\n",
        "\n",
        "# Plot the graph\n",
        "plt.figure(figsize=(10, 6))\n",
        "plt.bar(metrics, diff_values, color='skyblue')\n",
        "plt.title('Test dataset')\n",
        "plt.xlabel('Performance Metric')\n",
        "plt.ylabel('values')\n",
        "plt.xticks(rotation=45)\n",
        "plt.grid(axis='y')\n",
        "plt.show()\n",
        "'''\n"
      ]
    },
    {
      "cell_type": "code",
      "execution_count": null,
      "metadata": {
        "id": "UY6AKZZQ0Zk9"
      },
      "outputs": [],
      "source": []
    }
  ],
  "metadata": {
    "colab": {
      "provenance": []
    },
    "kernelspec": {
      "display_name": "Python 3",
      "name": "python3"
    },
    "language_info": {
      "codemirror_mode": {
        "name": "ipython",
        "version": 3
      },
      "file_extension": ".py",
      "mimetype": "text/x-python",
      "name": "python",
      "nbconvert_exporter": "python",
      "pygments_lexer": "ipython3",
      "version": "3.11.2"
    }
  },
  "nbformat": 4,
  "nbformat_minor": 0
}
