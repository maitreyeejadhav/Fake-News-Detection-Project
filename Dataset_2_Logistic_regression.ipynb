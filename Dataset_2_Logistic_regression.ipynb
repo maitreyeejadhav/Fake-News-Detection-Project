{
  "cells": [
    {
      "cell_type": "code",
      "execution_count": 1,
      "metadata": {
        "id": "MG3Tyn1RxlUL"
      },
      "outputs": [],
      "source": [
        "import numpy as np\n",
        "import pandas as pd\n",
        "import re\n",
        "from nltk.corpus import stopwords\n",
        "from nltk.stem.porter import PorterStemmer\n",
        "from sklearn.feature_extraction.text import TfidfVectorizer\n",
        "from sklearn.model_selection import train_test_split\n",
        "from sklearn.linear_model import LogisticRegression\n",
        "from sklearn.metrics import accuracy_score"
      ]
    },
    {
      "cell_type": "code",
      "execution_count": 2,
      "metadata": {
        "colab": {
          "base_uri": "https://localhost:8080/"
        },
        "id": "QuhMCLjhyB1Z",
        "outputId": "b1c2ef03-aceb-470c-d42a-eb13c3cecdb2"
      },
      "outputs": [
        {
          "name": "stderr",
          "output_type": "stream",
          "text": [
            "[nltk_data] Downloading package stopwords to\n",
            "[nltk_data]     C:\\Users\\Maitreyee\\AppData\\Roaming\\nltk_data...\n",
            "[nltk_data]   Package stopwords is already up-to-date!\n"
          ]
        },
        {
          "data": {
            "text/plain": [
              "True"
            ]
          },
          "execution_count": 2,
          "metadata": {},
          "output_type": "execute_result"
        }
      ],
      "source": [
        "import nltk\n",
        "nltk.download('stopwords')\n"
      ]
    },
    {
      "cell_type": "code",
      "execution_count": 3,
      "metadata": {
        "colab": {
          "base_uri": "https://localhost:8080/"
        },
        "id": "mzuEA9J4yByJ",
        "outputId": "088b7d23-564d-4465-942a-75b8f70cb34e"
      },
      "outputs": [
        {
          "name": "stdout",
          "output_type": "stream",
          "text": [
            "['i', 'me', 'my', 'myself', 'we', 'our', 'ours', 'ourselves', 'you', \"you're\", \"you've\", \"you'll\", \"you'd\", 'your', 'yours', 'yourself', 'yourselves', 'he', 'him', 'his', 'himself', 'she', \"she's\", 'her', 'hers', 'herself', 'it', \"it's\", 'its', 'itself', 'they', 'them', 'their', 'theirs', 'themselves', 'what', 'which', 'who', 'whom', 'this', 'that', \"that'll\", 'these', 'those', 'am', 'is', 'are', 'was', 'were', 'be', 'been', 'being', 'have', 'has', 'had', 'having', 'do', 'does', 'did', 'doing', 'a', 'an', 'the', 'and', 'but', 'if', 'or', 'because', 'as', 'until', 'while', 'of', 'at', 'by', 'for', 'with', 'about', 'against', 'between', 'into', 'through', 'during', 'before', 'after', 'above', 'below', 'to', 'from', 'up', 'down', 'in', 'out', 'on', 'off', 'over', 'under', 'again', 'further', 'then', 'once', 'here', 'there', 'when', 'where', 'why', 'how', 'all', 'any', 'both', 'each', 'few', 'more', 'most', 'other', 'some', 'such', 'no', 'nor', 'not', 'only', 'own', 'same', 'so', 'than', 'too', 'very', 's', 't', 'can', 'will', 'just', 'don', \"don't\", 'should', \"should've\", 'now', 'd', 'll', 'm', 'o', 're', 've', 'y', 'ain', 'aren', \"aren't\", 'couldn', \"couldn't\", 'didn', \"didn't\", 'doesn', \"doesn't\", 'hadn', \"hadn't\", 'hasn', \"hasn't\", 'haven', \"haven't\", 'isn', \"isn't\", 'ma', 'mightn', \"mightn't\", 'mustn', \"mustn't\", 'needn', \"needn't\", 'shan', \"shan't\", 'shouldn', \"shouldn't\", 'wasn', \"wasn't\", 'weren', \"weren't\", 'won', \"won't\", 'wouldn', \"wouldn't\"]\n"
          ]
        }
      ],
      "source": [
        "print(stopwords.words('english'))"
      ]
    },
    {
      "cell_type": "code",
      "execution_count": 4,
      "metadata": {
        "id": "Soc7UCRJyBqs"
      },
      "outputs": [],
      "source": [
        "true_data=pd.read_csv('True.csv')\n",
        "fake_data=pd.read_csv('Fake.csv')"
      ]
    },
    {
      "cell_type": "code",
      "execution_count": 5,
      "metadata": {
        "id": "tcfAU4j1zqwl"
      },
      "outputs": [
        {
          "data": {
            "text/plain": [
              "(23481, 4)"
            ]
          },
          "execution_count": 5,
          "metadata": {},
          "output_type": "execute_result"
        }
      ],
      "source": [
        "true_data.shape\n",
        "fake_data.shape"
      ]
    },
    {
      "cell_type": "code",
      "execution_count": 6,
      "metadata": {
        "colab": {
          "base_uri": "https://localhost:8080/",
          "height": 293
        },
        "id": "VPvCOXTyykpG",
        "outputId": "19aff366-76d0-489c-e5de-193834ec60b9"
      },
      "outputs": [
        {
          "data": {
            "text/html": [
              "<div>\n",
              "<style scoped>\n",
              "    .dataframe tbody tr th:only-of-type {\n",
              "        vertical-align: middle;\n",
              "    }\n",
              "\n",
              "    .dataframe tbody tr th {\n",
              "        vertical-align: top;\n",
              "    }\n",
              "\n",
              "    .dataframe thead th {\n",
              "        text-align: right;\n",
              "    }\n",
              "</style>\n",
              "<table border=\"1\" class=\"dataframe\">\n",
              "  <thead>\n",
              "    <tr style=\"text-align: right;\">\n",
              "      <th></th>\n",
              "      <th>title</th>\n",
              "      <th>text</th>\n",
              "      <th>subject</th>\n",
              "      <th>date</th>\n",
              "    </tr>\n",
              "  </thead>\n",
              "  <tbody>\n",
              "    <tr>\n",
              "      <th>0</th>\n",
              "      <td>As U.S. budget fight looms, Republicans flip t...</td>\n",
              "      <td>WASHINGTON (Reuters) - The head of a conservat...</td>\n",
              "      <td>politicsNews</td>\n",
              "      <td>December 31, 2017</td>\n",
              "    </tr>\n",
              "    <tr>\n",
              "      <th>1</th>\n",
              "      <td>U.S. military to accept transgender recruits o...</td>\n",
              "      <td>WASHINGTON (Reuters) - Transgender people will...</td>\n",
              "      <td>politicsNews</td>\n",
              "      <td>December 29, 2017</td>\n",
              "    </tr>\n",
              "    <tr>\n",
              "      <th>2</th>\n",
              "      <td>Senior U.S. Republican senator: 'Let Mr. Muell...</td>\n",
              "      <td>WASHINGTON (Reuters) - The special counsel inv...</td>\n",
              "      <td>politicsNews</td>\n",
              "      <td>December 31, 2017</td>\n",
              "    </tr>\n",
              "    <tr>\n",
              "      <th>3</th>\n",
              "      <td>FBI Russia probe helped by Australian diplomat...</td>\n",
              "      <td>WASHINGTON (Reuters) - Trump campaign adviser ...</td>\n",
              "      <td>politicsNews</td>\n",
              "      <td>December 30, 2017</td>\n",
              "    </tr>\n",
              "    <tr>\n",
              "      <th>4</th>\n",
              "      <td>Trump wants Postal Service to charge 'much mor...</td>\n",
              "      <td>SEATTLE/WASHINGTON (Reuters) - President Donal...</td>\n",
              "      <td>politicsNews</td>\n",
              "      <td>December 29, 2017</td>\n",
              "    </tr>\n",
              "  </tbody>\n",
              "</table>\n",
              "</div>"
            ],
            "text/plain": [
              "                                               title  \\\n",
              "0  As U.S. budget fight looms, Republicans flip t...   \n",
              "1  U.S. military to accept transgender recruits o...   \n",
              "2  Senior U.S. Republican senator: 'Let Mr. Muell...   \n",
              "3  FBI Russia probe helped by Australian diplomat...   \n",
              "4  Trump wants Postal Service to charge 'much mor...   \n",
              "\n",
              "                                                text       subject  \\\n",
              "0  WASHINGTON (Reuters) - The head of a conservat...  politicsNews   \n",
              "1  WASHINGTON (Reuters) - Transgender people will...  politicsNews   \n",
              "2  WASHINGTON (Reuters) - The special counsel inv...  politicsNews   \n",
              "3  WASHINGTON (Reuters) - Trump campaign adviser ...  politicsNews   \n",
              "4  SEATTLE/WASHINGTON (Reuters) - President Donal...  politicsNews   \n",
              "\n",
              "                 date  \n",
              "0  December 31, 2017   \n",
              "1  December 29, 2017   \n",
              "2  December 31, 2017   \n",
              "3  December 30, 2017   \n",
              "4  December 29, 2017   "
            ]
          },
          "execution_count": 6,
          "metadata": {},
          "output_type": "execute_result"
        }
      ],
      "source": [
        "#printing first five rows of the dataset\n",
        "true_data.head()"
      ]
    },
    {
      "cell_type": "code",
      "execution_count": 7,
      "metadata": {
        "colab": {
          "base_uri": "https://localhost:8080/",
          "height": 293
        },
        "id": "5MA0UhsNykgc",
        "outputId": "ddc8b207-73d9-4b15-86d3-dc8e096b73cc"
      },
      "outputs": [
        {
          "data": {
            "text/html": [
              "<div>\n",
              "<style scoped>\n",
              "    .dataframe tbody tr th:only-of-type {\n",
              "        vertical-align: middle;\n",
              "    }\n",
              "\n",
              "    .dataframe tbody tr th {\n",
              "        vertical-align: top;\n",
              "    }\n",
              "\n",
              "    .dataframe thead th {\n",
              "        text-align: right;\n",
              "    }\n",
              "</style>\n",
              "<table border=\"1\" class=\"dataframe\">\n",
              "  <thead>\n",
              "    <tr style=\"text-align: right;\">\n",
              "      <th></th>\n",
              "      <th>title</th>\n",
              "      <th>text</th>\n",
              "      <th>subject</th>\n",
              "      <th>date</th>\n",
              "    </tr>\n",
              "  </thead>\n",
              "  <tbody>\n",
              "    <tr>\n",
              "      <th>0</th>\n",
              "      <td>Donald Trump Sends Out Embarrassing New Year’...</td>\n",
              "      <td>Donald Trump just couldn t wish all Americans ...</td>\n",
              "      <td>News</td>\n",
              "      <td>December 31, 2017</td>\n",
              "    </tr>\n",
              "    <tr>\n",
              "      <th>1</th>\n",
              "      <td>Drunk Bragging Trump Staffer Started Russian ...</td>\n",
              "      <td>House Intelligence Committee Chairman Devin Nu...</td>\n",
              "      <td>News</td>\n",
              "      <td>December 31, 2017</td>\n",
              "    </tr>\n",
              "    <tr>\n",
              "      <th>2</th>\n",
              "      <td>Sheriff David Clarke Becomes An Internet Joke...</td>\n",
              "      <td>On Friday, it was revealed that former Milwauk...</td>\n",
              "      <td>News</td>\n",
              "      <td>December 30, 2017</td>\n",
              "    </tr>\n",
              "    <tr>\n",
              "      <th>3</th>\n",
              "      <td>Trump Is So Obsessed He Even Has Obama’s Name...</td>\n",
              "      <td>On Christmas day, Donald Trump announced that ...</td>\n",
              "      <td>News</td>\n",
              "      <td>December 29, 2017</td>\n",
              "    </tr>\n",
              "    <tr>\n",
              "      <th>4</th>\n",
              "      <td>Pope Francis Just Called Out Donald Trump Dur...</td>\n",
              "      <td>Pope Francis used his annual Christmas Day mes...</td>\n",
              "      <td>News</td>\n",
              "      <td>December 25, 2017</td>\n",
              "    </tr>\n",
              "  </tbody>\n",
              "</table>\n",
              "</div>"
            ],
            "text/plain": [
              "                                               title  \\\n",
              "0   Donald Trump Sends Out Embarrassing New Year’...   \n",
              "1   Drunk Bragging Trump Staffer Started Russian ...   \n",
              "2   Sheriff David Clarke Becomes An Internet Joke...   \n",
              "3   Trump Is So Obsessed He Even Has Obama’s Name...   \n",
              "4   Pope Francis Just Called Out Donald Trump Dur...   \n",
              "\n",
              "                                                text subject  \\\n",
              "0  Donald Trump just couldn t wish all Americans ...    News   \n",
              "1  House Intelligence Committee Chairman Devin Nu...    News   \n",
              "2  On Friday, it was revealed that former Milwauk...    News   \n",
              "3  On Christmas day, Donald Trump announced that ...    News   \n",
              "4  Pope Francis used his annual Christmas Day mes...    News   \n",
              "\n",
              "                date  \n",
              "0  December 31, 2017  \n",
              "1  December 31, 2017  \n",
              "2  December 30, 2017  \n",
              "3  December 29, 2017  \n",
              "4  December 25, 2017  "
            ]
          },
          "execution_count": 7,
          "metadata": {},
          "output_type": "execute_result"
        }
      ],
      "source": [
        "#printing first five rows of the dataset\n",
        "fake_data.head()"
      ]
    },
    {
      "cell_type": "code",
      "execution_count": 8,
      "metadata": {
        "colab": {
          "base_uri": "https://localhost:8080/"
        },
        "id": "-WymrFGl4YO8",
        "outputId": "a38cb527-a7b2-44d6-8fad-60784a562c25"
      },
      "outputs": [
        {
          "name": "stdout",
          "output_type": "stream",
          "text": [
            "WASHINGTON (Reuters) - The head of a conservative Republican faction in the U.S. Congress, who voted this month for a huge expansion of the national debt to pay for tax cuts, called himself a “fiscal conservative” on Sunday and urged budget restraint in 2018. In keeping with a sharp pivot under way among Republicans, U.S. Representative Mark Meadows, speaking on CBS’ “Face the Nation,” drew a hard line on federal spending, which lawmakers are bracing to do battle over in January. When they return from the holidays on Wednesday, lawmakers will begin trying to pass a federal budget in a fight likely to be linked to other issues, such as immigration policy, even as the November congressional election campaigns approach in which Republicans will seek to keep control of Congress. President Donald Trump and his Republicans want a big budget increase in military spending, while Democrats also want proportional increases for non-defense “discretionary” spending on programs that support education, scientific research, infrastructure, public health and environmental protection. “The (Trump) administration has already been willing to say: ‘We’re going to increase non-defense discretionary spending ... by about 7 percent,’” Meadows, chairman of the small but influential House Freedom Caucus, said on the program. “Now, Democrats are saying that’s not enough, we need to give the government a pay raise of 10 to 11 percent. For a fiscal conservative, I don’t see where the rationale is. ... Eventually you run out of other people’s money,” he said. Meadows was among Republicans who voted in late December for their party’s debt-financed tax overhaul, which is expected to balloon the federal budget deficit and add about $1.5 trillion over 10 years to the $20 trillion national debt. “It’s interesting to hear Mark talk about fiscal responsibility,” Democratic U.S. Representative Joseph Crowley said on CBS. Crowley said the Republican tax bill would require the  United States to borrow $1.5 trillion, to be paid off by future generations, to finance tax cuts for corporations and the rich. “This is one of the least ... fiscally responsible bills we’ve ever seen passed in the history of the House of Representatives. I think we’re going to be paying for this for many, many years to come,” Crowley said. Republicans insist the tax package, the biggest U.S. tax overhaul in more than 30 years,  will boost the economy and job growth. House Speaker Paul Ryan, who also supported the tax bill, recently went further than Meadows, making clear in a radio interview that welfare or “entitlement reform,” as the party often calls it, would be a top Republican priority in 2018. In Republican parlance, “entitlement” programs mean food stamps, housing assistance, Medicare and Medicaid health insurance for the elderly, poor and disabled, as well as other programs created by Washington to assist the needy. Democrats seized on Ryan’s early December remarks, saying they showed Republicans would try to pay for their tax overhaul by seeking spending cuts for social programs. But the goals of House Republicans may have to take a back seat to the Senate, where the votes of some Democrats will be needed to approve a budget and prevent a government shutdown. Democrats will use their leverage in the Senate, which Republicans narrowly control, to defend both discretionary non-defense programs and social spending, while tackling the issue of the “Dreamers,” people brought illegally to the country as children. Trump in September put a March 2018 expiration date on the Deferred Action for Childhood Arrivals, or DACA, program, which protects the young immigrants from deportation and provides them with work permits. The president has said in recent Twitter messages he wants funding for his proposed Mexican border wall and other immigration law changes in exchange for agreeing to help the Dreamers. Representative Debbie Dingell told CBS she did not favor linking that issue to other policy objectives, such as wall funding. “We need to do DACA clean,” she said.  On Wednesday, Trump aides will meet with congressional leaders to discuss those issues. That will be followed by a weekend of strategy sessions for Trump and Republican leaders on Jan. 6 and 7, the White House said. Trump was also scheduled to meet on Sunday with Florida Republican Governor Rick Scott, who wants more emergency aid. The House has passed an $81 billion aid package after hurricanes in Florida, Texas and Puerto Rico, and wildfires in California. The package far exceeded the $44 billion requested by the Trump administration. The Senate has not yet voted on the aid. \n"
          ]
        },
        {
          "data": {
            "text/plain": [
              "Index(['title', 'text', 'subject', 'date'], dtype='object')"
            ]
          },
          "execution_count": 8,
          "metadata": {},
          "output_type": "execute_result"
        }
      ],
      "source": [
        "print(true_data['text'][0])\n",
        "true_data.columns"
      ]
    },
    {
      "cell_type": "code",
      "execution_count": 9,
      "metadata": {
        "colab": {
          "base_uri": "https://localhost:8080/",
          "height": 658
        },
        "id": "8IR1ztw20Hix",
        "outputId": "83cb48bb-343a-4ab6-f2a6-6d5ddc6b814c"
      },
      "outputs": [
        {
          "name": "stdout",
          "output_type": "stream",
          "text": [
            "                                               title  \\\n",
            "0  As U.S. budget fight looms, Republicans flip t...   \n",
            "1  U.S. military to accept transgender recruits o...   \n",
            "2  Senior U.S. Republican senator: 'Let Mr. Muell...   \n",
            "3  FBI Russia probe helped by Australian diplomat...   \n",
            "4  Trump wants Postal Service to charge 'much mor...   \n",
            "\n",
            "                                                text       subject  \\\n",
            "0  WASHINGTON (Reuters) - The head of a conservat...  politicsNews   \n",
            "1  WASHINGTON (Reuters) - Transgender people will...  politicsNews   \n",
            "2  WASHINGTON (Reuters) - The special counsel inv...  politicsNews   \n",
            "3  WASHINGTON (Reuters) - Trump campaign adviser ...  politicsNews   \n",
            "4  SEATTLE/WASHINGTON (Reuters) - President Donal...  politicsNews   \n",
            "\n",
            "                 date  label  \n",
            "0  December 31, 2017       0  \n",
            "1  December 29, 2017       0  \n",
            "2  December 31, 2017       0  \n",
            "3  December 30, 2017       0  \n",
            "4  December 29, 2017       0  \n"
          ]
        },
        {
          "data": {
            "text/html": [
              "<div>\n",
              "<style scoped>\n",
              "    .dataframe tbody tr th:only-of-type {\n",
              "        vertical-align: middle;\n",
              "    }\n",
              "\n",
              "    .dataframe tbody tr th {\n",
              "        vertical-align: top;\n",
              "    }\n",
              "\n",
              "    .dataframe thead th {\n",
              "        text-align: right;\n",
              "    }\n",
              "</style>\n",
              "<table border=\"1\" class=\"dataframe\">\n",
              "  <thead>\n",
              "    <tr style=\"text-align: right;\">\n",
              "      <th></th>\n",
              "      <th>title</th>\n",
              "      <th>text</th>\n",
              "      <th>subject</th>\n",
              "      <th>date</th>\n",
              "      <th>label</th>\n",
              "    </tr>\n",
              "  </thead>\n",
              "  <tbody>\n",
              "    <tr>\n",
              "      <th>0</th>\n",
              "      <td>Donald Trump Sends Out Embarrassing New Year’...</td>\n",
              "      <td>Donald Trump just couldn t wish all Americans ...</td>\n",
              "      <td>News</td>\n",
              "      <td>December 31, 2017</td>\n",
              "      <td>1</td>\n",
              "    </tr>\n",
              "    <tr>\n",
              "      <th>1</th>\n",
              "      <td>Drunk Bragging Trump Staffer Started Russian ...</td>\n",
              "      <td>House Intelligence Committee Chairman Devin Nu...</td>\n",
              "      <td>News</td>\n",
              "      <td>December 31, 2017</td>\n",
              "      <td>1</td>\n",
              "    </tr>\n",
              "    <tr>\n",
              "      <th>2</th>\n",
              "      <td>Sheriff David Clarke Becomes An Internet Joke...</td>\n",
              "      <td>On Friday, it was revealed that former Milwauk...</td>\n",
              "      <td>News</td>\n",
              "      <td>December 30, 2017</td>\n",
              "      <td>1</td>\n",
              "    </tr>\n",
              "    <tr>\n",
              "      <th>3</th>\n",
              "      <td>Trump Is So Obsessed He Even Has Obama’s Name...</td>\n",
              "      <td>On Christmas day, Donald Trump announced that ...</td>\n",
              "      <td>News</td>\n",
              "      <td>December 29, 2017</td>\n",
              "      <td>1</td>\n",
              "    </tr>\n",
              "    <tr>\n",
              "      <th>4</th>\n",
              "      <td>Pope Francis Just Called Out Donald Trump Dur...</td>\n",
              "      <td>Pope Francis used his annual Christmas Day mes...</td>\n",
              "      <td>News</td>\n",
              "      <td>December 25, 2017</td>\n",
              "      <td>1</td>\n",
              "    </tr>\n",
              "  </tbody>\n",
              "</table>\n",
              "</div>"
            ],
            "text/plain": [
              "                                               title  \\\n",
              "0   Donald Trump Sends Out Embarrassing New Year’...   \n",
              "1   Drunk Bragging Trump Staffer Started Russian ...   \n",
              "2   Sheriff David Clarke Becomes An Internet Joke...   \n",
              "3   Trump Is So Obsessed He Even Has Obama’s Name...   \n",
              "4   Pope Francis Just Called Out Donald Trump Dur...   \n",
              "\n",
              "                                                text subject  \\\n",
              "0  Donald Trump just couldn t wish all Americans ...    News   \n",
              "1  House Intelligence Committee Chairman Devin Nu...    News   \n",
              "2  On Friday, it was revealed that former Milwauk...    News   \n",
              "3  On Christmas day, Donald Trump announced that ...    News   \n",
              "4  Pope Francis used his annual Christmas Day mes...    News   \n",
              "\n",
              "                date  label  \n",
              "0  December 31, 2017      1  \n",
              "1  December 31, 2017      1  \n",
              "2  December 30, 2017      1  \n",
              "3  December 29, 2017      1  \n",
              "4  December 25, 2017      1  "
            ]
          },
          "execution_count": 9,
          "metadata": {},
          "output_type": "execute_result"
        }
      ],
      "source": [
        "fake_data['label'] = 1\n",
        "true_data['label']=0\n",
        "print(true_data.head())\n",
        "fake_data.head()"
      ]
    },
    {
      "cell_type": "code",
      "execution_count": 10,
      "metadata": {
        "colab": {
          "base_uri": "https://localhost:8080/",
          "height": 311
        },
        "id": "IA-eDqpe0Hem",
        "outputId": "c0295861-2a5a-40e9-85d2-ea356c91e5d3"
      },
      "outputs": [
        {
          "name": "stdout",
          "output_type": "stream",
          "text": [
            "Index(['title', 'text', 'subject', 'date', 'label'], dtype='object')\n"
          ]
        },
        {
          "data": {
            "text/html": [
              "<div>\n",
              "<style scoped>\n",
              "    .dataframe tbody tr th:only-of-type {\n",
              "        vertical-align: middle;\n",
              "    }\n",
              "\n",
              "    .dataframe tbody tr th {\n",
              "        vertical-align: top;\n",
              "    }\n",
              "\n",
              "    .dataframe thead th {\n",
              "        text-align: right;\n",
              "    }\n",
              "</style>\n",
              "<table border=\"1\" class=\"dataframe\">\n",
              "  <thead>\n",
              "    <tr style=\"text-align: right;\">\n",
              "      <th></th>\n",
              "      <th>title</th>\n",
              "      <th>text</th>\n",
              "      <th>subject</th>\n",
              "      <th>date</th>\n",
              "      <th>label</th>\n",
              "    </tr>\n",
              "  </thead>\n",
              "  <tbody>\n",
              "    <tr>\n",
              "      <th>10273</th>\n",
              "      <td>WATCH REAGAN WARN US AND DRAW BATTLE LINES…Tru...</td>\n",
              "      <td>President Reagan Warned Of The Dangers Of Libe...</td>\n",
              "      <td>politics</td>\n",
              "      <td>Jul 30, 2017</td>\n",
              "      <td>1</td>\n",
              "    </tr>\n",
              "    <tr>\n",
              "      <th>1820</th>\n",
              "      <td>Jeff Sessions’ Written Immigration Speech Put...</td>\n",
              "      <td>The Trump administration is working as hard as...</td>\n",
              "      <td>News</td>\n",
              "      <td>April 11, 2017</td>\n",
              "      <td>1</td>\n",
              "    </tr>\n",
              "    <tr>\n",
              "      <th>22115</th>\n",
              "      <td>The Existential Question Of Whom To Trust</td>\n",
              "      <td>21st Century Wire says Investigative reporter ...</td>\n",
              "      <td>US_News</td>\n",
              "      <td>May 1, 2017</td>\n",
              "      <td>1</td>\n",
              "    </tr>\n",
              "    <tr>\n",
              "      <th>3214</th>\n",
              "      <td>WATCH: CNN Host HUMILIATES Trump Supporter Fo...</td>\n",
              "      <td>CNN host Kate Bolduan sat quietly as a conserv...</td>\n",
              "      <td>News</td>\n",
              "      <td>December 31, 2016</td>\n",
              "      <td>1</td>\n",
              "    </tr>\n",
              "    <tr>\n",
              "      <th>18408</th>\n",
              "      <td>BROKE City of Chicago Spends Taxpayer Money St...</td>\n",
              "      <td>The Windy City is under fire for turning publi...</td>\n",
              "      <td>left-news</td>\n",
              "      <td>Jun 30, 2017</td>\n",
              "      <td>1</td>\n",
              "    </tr>\n",
              "  </tbody>\n",
              "</table>\n",
              "</div>"
            ],
            "text/plain": [
              "                                                   title  \\\n",
              "10273  WATCH REAGAN WARN US AND DRAW BATTLE LINES…Tru...   \n",
              "1820    Jeff Sessions’ Written Immigration Speech Put...   \n",
              "22115          The Existential Question Of Whom To Trust   \n",
              "3214    WATCH: CNN Host HUMILIATES Trump Supporter Fo...   \n",
              "18408  BROKE City of Chicago Spends Taxpayer Money St...   \n",
              "\n",
              "                                                    text    subject  \\\n",
              "10273  President Reagan Warned Of The Dangers Of Libe...   politics   \n",
              "1820   The Trump administration is working as hard as...       News   \n",
              "22115  21st Century Wire says Investigative reporter ...    US_News   \n",
              "3214   CNN host Kate Bolduan sat quietly as a conserv...       News   \n",
              "18408  The Windy City is under fire for turning publi...  left-news   \n",
              "\n",
              "                    date  label  \n",
              "10273       Jul 30, 2017      1  \n",
              "1820      April 11, 2017      1  \n",
              "22115        May 1, 2017      1  \n",
              "3214   December 31, 2016      1  \n",
              "18408       Jun 30, 2017      1  "
            ]
          },
          "execution_count": 10,
          "metadata": {},
          "output_type": "execute_result"
        }
      ],
      "source": [
        "all_data=pd.concat([fake_data, true_data])   #concatenates two DataFrames, fake_data and true_data\n",
        "random_permutation = np.random.permutation(len(all_data))  #permutation will be used to shuffle the rows of all_data\n",
        "all_data= all_data.iloc[random_permutation]   #uses iloc[] to index and rearrange the rows based on the shuffled order\n",
        "print(all_data.columns)  # gives you a list of all the columns present in the combined DataFrame after concatenation and shuffling\n",
        "all_data.head()"
      ]
    },
    {
      "cell_type": "code",
      "execution_count": 11,
      "metadata": {},
      "outputs": [
        {
          "data": {
            "text/plain": [
              "(44898, 5)"
            ]
          },
          "execution_count": 11,
          "metadata": {},
          "output_type": "execute_result"
        }
      ],
      "source": [
        "all_data.shape"
      ]
    },
    {
      "cell_type": "code",
      "execution_count": 12,
      "metadata": {
        "colab": {
          "base_uri": "https://localhost:8080/",
          "height": 293
        },
        "id": "YV4jBuQT5l7G",
        "outputId": "0176d3ef-afc8-4ec3-f80b-ea09176805be"
      },
      "outputs": [
        {
          "data": {
            "text/html": [
              "<div>\n",
              "<style scoped>\n",
              "    .dataframe tbody tr th:only-of-type {\n",
              "        vertical-align: middle;\n",
              "    }\n",
              "\n",
              "    .dataframe tbody tr th {\n",
              "        vertical-align: top;\n",
              "    }\n",
              "\n",
              "    .dataframe thead th {\n",
              "        text-align: right;\n",
              "    }\n",
              "</style>\n",
              "<table border=\"1\" class=\"dataframe\">\n",
              "  <thead>\n",
              "    <tr style=\"text-align: right;\">\n",
              "      <th></th>\n",
              "      <th>title</th>\n",
              "      <th>text</th>\n",
              "      <th>subject</th>\n",
              "      <th>label</th>\n",
              "    </tr>\n",
              "  </thead>\n",
              "  <tbody>\n",
              "    <tr>\n",
              "      <th>10273</th>\n",
              "      <td>WATCH REAGAN WARN US AND DRAW BATTLE LINES…Tru...</td>\n",
              "      <td>President Reagan Warned Of The Dangers Of Libe...</td>\n",
              "      <td>politics</td>\n",
              "      <td>1</td>\n",
              "    </tr>\n",
              "    <tr>\n",
              "      <th>1820</th>\n",
              "      <td>Jeff Sessions’ Written Immigration Speech Put...</td>\n",
              "      <td>The Trump administration is working as hard as...</td>\n",
              "      <td>News</td>\n",
              "      <td>1</td>\n",
              "    </tr>\n",
              "    <tr>\n",
              "      <th>22115</th>\n",
              "      <td>The Existential Question Of Whom To Trust</td>\n",
              "      <td>21st Century Wire says Investigative reporter ...</td>\n",
              "      <td>US_News</td>\n",
              "      <td>1</td>\n",
              "    </tr>\n",
              "    <tr>\n",
              "      <th>3214</th>\n",
              "      <td>WATCH: CNN Host HUMILIATES Trump Supporter Fo...</td>\n",
              "      <td>CNN host Kate Bolduan sat quietly as a conserv...</td>\n",
              "      <td>News</td>\n",
              "      <td>1</td>\n",
              "    </tr>\n",
              "    <tr>\n",
              "      <th>18408</th>\n",
              "      <td>BROKE City of Chicago Spends Taxpayer Money St...</td>\n",
              "      <td>The Windy City is under fire for turning publi...</td>\n",
              "      <td>left-news</td>\n",
              "      <td>1</td>\n",
              "    </tr>\n",
              "  </tbody>\n",
              "</table>\n",
              "</div>"
            ],
            "text/plain": [
              "                                                   title  \\\n",
              "10273  WATCH REAGAN WARN US AND DRAW BATTLE LINES…Tru...   \n",
              "1820    Jeff Sessions’ Written Immigration Speech Put...   \n",
              "22115          The Existential Question Of Whom To Trust   \n",
              "3214    WATCH: CNN Host HUMILIATES Trump Supporter Fo...   \n",
              "18408  BROKE City of Chicago Spends Taxpayer Money St...   \n",
              "\n",
              "                                                    text    subject  label  \n",
              "10273  President Reagan Warned Of The Dangers Of Libe...   politics      1  \n",
              "1820   The Trump administration is working as hard as...       News      1  \n",
              "22115  21st Century Wire says Investigative reporter ...    US_News      1  \n",
              "3214   CNN host Kate Bolduan sat quietly as a conserv...       News      1  \n",
              "18408  The Windy City is under fire for turning publi...  left-news      1  "
            ]
          },
          "execution_count": 12,
          "metadata": {},
          "output_type": "execute_result"
        }
      ],
      "source": [
        "filtered_data=all_data.loc[:, ['title', 'text', \"subject\", 'label']]\n",
        "filtered_data.head()"
      ]
    },
    {
      "cell_type": "code",
      "execution_count": 13,
      "metadata": {},
      "outputs": [
        {
          "data": {
            "text/plain": [
              "(44898, 4)"
            ]
          },
          "execution_count": 13,
          "metadata": {},
          "output_type": "execute_result"
        }
      ],
      "source": [
        "filtered_data.shape"
      ]
    },
    {
      "cell_type": "code",
      "execution_count": 14,
      "metadata": {
        "colab": {
          "base_uri": "https://localhost:8080/"
        },
        "id": "m7lbElSg5l3e",
        "outputId": "41acf5fa-fd33-4553-931c-958570f6425b"
      },
      "outputs": [
        {
          "data": {
            "text/plain": [
              "title      0\n",
              "text       0\n",
              "subject    0\n",
              "label      0\n",
              "dtype: int64"
            ]
          },
          "execution_count": 14,
          "metadata": {},
          "output_type": "execute_result"
        }
      ],
      "source": [
        "filtered_data.isnull().sum()"
      ]
    },
    {
      "cell_type": "code",
      "execution_count": 15,
      "metadata": {
        "colab": {
          "base_uri": "https://localhost:8080/",
          "height": 327
        },
        "id": "BS5zW2TE7bBY",
        "outputId": "2da1f97d-ed2a-4dad-e77f-5e46643c7409"
      },
      "outputs": [
        {
          "data": {
            "text/html": [
              "<div>\n",
              "<style scoped>\n",
              "    .dataframe tbody tr th:only-of-type {\n",
              "        vertical-align: middle;\n",
              "    }\n",
              "\n",
              "    .dataframe tbody tr th {\n",
              "        vertical-align: top;\n",
              "    }\n",
              "\n",
              "    .dataframe thead th {\n",
              "        text-align: right;\n",
              "    }\n",
              "</style>\n",
              "<table border=\"1\" class=\"dataframe\">\n",
              "  <thead>\n",
              "    <tr style=\"text-align: right;\">\n",
              "      <th></th>\n",
              "      <th>title</th>\n",
              "      <th>text</th>\n",
              "      <th>subject</th>\n",
              "      <th>label</th>\n",
              "      <th>content</th>\n",
              "    </tr>\n",
              "  </thead>\n",
              "  <tbody>\n",
              "    <tr>\n",
              "      <th>10273</th>\n",
              "      <td>WATCH REAGAN WARN US AND DRAW BATTLE LINES…Tru...</td>\n",
              "      <td>President Reagan Warned Of The Dangers Of Libe...</td>\n",
              "      <td>politics</td>\n",
              "      <td>1</td>\n",
              "      <td>WATCH REAGAN WARN US AND DRAW BATTLE LINES…Tru...</td>\n",
              "    </tr>\n",
              "    <tr>\n",
              "      <th>1820</th>\n",
              "      <td>Jeff Sessions’ Written Immigration Speech Put...</td>\n",
              "      <td>The Trump administration is working as hard as...</td>\n",
              "      <td>News</td>\n",
              "      <td>1</td>\n",
              "      <td>Jeff Sessions’ Written Immigration Speech Put...</td>\n",
              "    </tr>\n",
              "    <tr>\n",
              "      <th>22115</th>\n",
              "      <td>The Existential Question Of Whom To Trust</td>\n",
              "      <td>21st Century Wire says Investigative reporter ...</td>\n",
              "      <td>US_News</td>\n",
              "      <td>1</td>\n",
              "      <td>The Existential Question Of Whom To Trust 21st...</td>\n",
              "    </tr>\n",
              "    <tr>\n",
              "      <th>3214</th>\n",
              "      <td>WATCH: CNN Host HUMILIATES Trump Supporter Fo...</td>\n",
              "      <td>CNN host Kate Bolduan sat quietly as a conserv...</td>\n",
              "      <td>News</td>\n",
              "      <td>1</td>\n",
              "      <td>WATCH: CNN Host HUMILIATES Trump Supporter Fo...</td>\n",
              "    </tr>\n",
              "    <tr>\n",
              "      <th>18408</th>\n",
              "      <td>BROKE City of Chicago Spends Taxpayer Money St...</td>\n",
              "      <td>The Windy City is under fire for turning publi...</td>\n",
              "      <td>left-news</td>\n",
              "      <td>1</td>\n",
              "      <td>BROKE City of Chicago Spends Taxpayer Money St...</td>\n",
              "    </tr>\n",
              "  </tbody>\n",
              "</table>\n",
              "</div>"
            ],
            "text/plain": [
              "                                                   title  \\\n",
              "10273  WATCH REAGAN WARN US AND DRAW BATTLE LINES…Tru...   \n",
              "1820    Jeff Sessions’ Written Immigration Speech Put...   \n",
              "22115          The Existential Question Of Whom To Trust   \n",
              "3214    WATCH: CNN Host HUMILIATES Trump Supporter Fo...   \n",
              "18408  BROKE City of Chicago Spends Taxpayer Money St...   \n",
              "\n",
              "                                                    text    subject  label  \\\n",
              "10273  President Reagan Warned Of The Dangers Of Libe...   politics      1   \n",
              "1820   The Trump administration is working as hard as...       News      1   \n",
              "22115  21st Century Wire says Investigative reporter ...    US_News      1   \n",
              "3214   CNN host Kate Bolduan sat quietly as a conserv...       News      1   \n",
              "18408  The Windy City is under fire for turning publi...  left-news      1   \n",
              "\n",
              "                                                 content  \n",
              "10273  WATCH REAGAN WARN US AND DRAW BATTLE LINES…Tru...  \n",
              "1820    Jeff Sessions’ Written Immigration Speech Put...  \n",
              "22115  The Existential Question Of Whom To Trust 21st...  \n",
              "3214    WATCH: CNN Host HUMILIATES Trump Supporter Fo...  \n",
              "18408  BROKE City of Chicago Spends Taxpayer Money St...  "
            ]
          },
          "execution_count": 15,
          "metadata": {},
          "output_type": "execute_result"
        }
      ],
      "source": [
        "filtered_data['content']=filtered_data['title']+' '+filtered_data['text']+' '+filtered_data['subject']\n",
        "filtered_data.head()"
      ]
    },
    {
      "cell_type": "code",
      "execution_count": 16,
      "metadata": {
        "id": "50WmIWEh5lvM"
      },
      "outputs": [],
      "source": [
        "#filtered_data['content'] = filtered_data['title']+' '+filtered_data['subject']\n",
        "#filtered_data.head()"
      ]
    },
    {
      "cell_type": "code",
      "execution_count": 17,
      "metadata": {
        "colab": {
          "base_uri": "https://localhost:8080/"
        },
        "id": "ETnhTyI66_wA",
        "outputId": "97a079fe-9ca4-45bd-9892-c9d3ad456830"
      },
      "outputs": [
        {
          "name": "stdout",
          "output_type": "stream",
          "text": [
            "10273    WATCH REAGAN WARN US AND DRAW BATTLE LINES…Tru...\n",
            "1820      Jeff Sessions’ Written Immigration Speech Put...\n",
            "22115    The Existential Question Of Whom To Trust 21st...\n",
            "3214      WATCH: CNN Host HUMILIATES Trump Supporter Fo...\n",
            "18408    BROKE City of Chicago Spends Taxpayer Money St...\n",
            "                               ...                        \n",
            "19170    German Social Democrats vow to rebuild in oppo...\n",
            "15927    HANNITY TEARS IT UP IN HIS BEST EVER RANT: ‘Hi...\n",
            "16761    DISTURBING TRUTH ABOUT How The UN Decides Whic...\n",
            "3226      Sarah Palin Gets Her A** Handed To Her For Ca...\n",
            "9331     Combative Trump says he raised $5.6 million fo...\n",
            "Name: content, Length: 44898, dtype: object\n"
          ]
        }
      ],
      "source": [
        "print(filtered_data['content'])"
      ]
    },
    {
      "cell_type": "code",
      "execution_count": 18,
      "metadata": {
        "id": "muD84YGE6_rs"
      },
      "outputs": [],
      "source": [
        "X= filtered_data['content']\n",
        "Y = filtered_data['label']"
      ]
    },
    {
      "cell_type": "code",
      "execution_count": 19,
      "metadata": {
        "colab": {
          "base_uri": "https://localhost:8080/"
        },
        "id": "XTS-Fic09tSi",
        "outputId": "3a73e349-2e54-4b3f-9834-4a6bc69bec05"
      },
      "outputs": [
        {
          "name": "stdout",
          "output_type": "stream",
          "text": [
            "10273    WATCH REAGAN WARN US AND DRAW BATTLE LINES…Tru...\n",
            "1820      Jeff Sessions’ Written Immigration Speech Put...\n",
            "22115    The Existential Question Of Whom To Trust 21st...\n",
            "3214      WATCH: CNN Host HUMILIATES Trump Supporter Fo...\n",
            "18408    BROKE City of Chicago Spends Taxpayer Money St...\n",
            "                               ...                        \n",
            "19170    German Social Democrats vow to rebuild in oppo...\n",
            "15927    HANNITY TEARS IT UP IN HIS BEST EVER RANT: ‘Hi...\n",
            "16761    DISTURBING TRUTH ABOUT How The UN Decides Whic...\n",
            "3226      Sarah Palin Gets Her A** Handed To Her For Ca...\n",
            "9331     Combative Trump says he raised $5.6 million fo...\n",
            "Name: content, Length: 44898, dtype: object\n",
            "10273    1\n",
            "1820     1\n",
            "22115    1\n",
            "3214     1\n",
            "18408    1\n",
            "        ..\n",
            "19170    0\n",
            "15927    1\n",
            "16761    1\n",
            "3226     1\n",
            "9331     0\n",
            "Name: label, Length: 44898, dtype: int64\n"
          ]
        }
      ],
      "source": [
        "print(X)\n",
        "print(Y)"
      ]
    },
    {
      "cell_type": "code",
      "execution_count": 20,
      "metadata": {
        "id": "LrvC0RoM9-mO"
      },
      "outputs": [],
      "source": [
        "port_stem = PorterStemmer()"
      ]
    },
    {
      "cell_type": "code",
      "execution_count": 21,
      "metadata": {
        "id": "jWIuIuPv9-jL"
      },
      "outputs": [],
      "source": [
        "def stemming(content):   #stemming is a function here\n",
        "  stemmed_content = re.sub('[^a-zA-z]',' ',content)       #removes everything that is not btw aA-zZ(all numbers and punctuations replaced by space)\n",
        "  stemmed_content = stemmed_content.lower()                #converts all uc to lc to avoid problem during processing\n",
        "  stemmed_content = stemmed_content.split()                #all words and text will be splitted and converted to list\n",
        "  stemmed_content = [port_stem.stem(word) for word in stemmed_content if not word in stopwords.words('english')]\n",
        "  stemmed_content = ' '.join(stemmed_content)\n",
        "  return stemmed_content"
      ]
    },
    {
      "cell_type": "code",
      "execution_count": 22,
      "metadata": {
        "id": "dnKCAUCU9-gK"
      },
      "outputs": [],
      "source": [
        "\n",
        "#filtered_data['content'] = filtered_data['content'].apply(stemming)\n",
        "\n",
        "#################\n",
        "# commenting to avoid running it again as output is already saved in a .pkl file \n",
        "\n",
        "################"
      ]
    },
    {
      "cell_type": "code",
      "execution_count": 23,
      "metadata": {},
      "outputs": [
        {
          "data": {
            "text/plain": [
              "'import pickle\\n\\n# Assuming \\'fake_news_data_cleaned\\' is your DataFrame containing the stemmed content\\n\\n# Define the output file path\\noutput_file = \"stemmed_news_dataset_LR2.pkl\"\\n\\n# Save the DataFrame containing the stemmed content using pickle\\nwith open(output_file, \"wb\") as f:\\n    pickle.dump(filtered_data, f)\\n\\nprint(\"Stemmed fake news data saved to:\", output_file)\\n'"
            ]
          },
          "execution_count": 23,
          "metadata": {},
          "output_type": "execute_result"
        }
      ],
      "source": [
        "'''import pickle\n",
        "\n",
        "# Assuming 'fake_news_data_cleaned' is your DataFrame containing the stemmed content\n",
        "\n",
        "# Define the output file path\n",
        "output_file = \"stemmed_news_dataset_LR2.pkl\"\n",
        "\n",
        "# Save the DataFrame containing the stemmed content using pickle\n",
        "with open(output_file, \"wb\") as f:\n",
        "    pickle.dump(filtered_data, f)\n",
        "\n",
        "print(\"Stemmed fake news data saved to:\", output_file)\n",
        "'''\n",
        "\n",
        "#############\n",
        "#   commenting to avoid running it again as output is already saved in a .pkl file \n",
        "\n",
        "#############"
      ]
    },
    {
      "cell_type": "code",
      "execution_count": 24,
      "metadata": {},
      "outputs": [
        {
          "name": "stdout",
          "output_type": "stream",
          "text": [
            "                                                   title  \\\n",
            "7252   U.S. says war crimes probe of U.S. forces in A...   \n",
            "9779   HYSTERICAL! TUCKER AND STEYN On Leftist Teache...   \n",
            "7344   Trump strongly considering naming campaign chi...   \n",
            "20777  WOW! VIDEO SURFACES OF BERNIE SANDERS Praising...   \n",
            "12392  Tillerson says U.S. ready to talk to North Kor...   \n",
            "\n",
            "                                                    text       subject  label  \\\n",
            "7252   WASHINGTON (Reuters) - An International Crimin...  politicsNews      0   \n",
            "9779   Tucker Carlson and Mark Steyn  should be on to...      politics      1   \n",
            "7344   WASHINGTON (Reuters) - President-elect Donald ...  politicsNews      0   \n",
            "20777  Please share this everywhere! Especially to an...     left-news      1   \n",
            "12392  WASHINGTON/SEOUL (Reuters) - U.S. Secretary of...     worldnews      0   \n",
            "\n",
            "                                                 content  \n",
            "7252   u say war crime probe u forc afghanistan unwar...  \n",
            "9779   hyster tucker steyn leftist teacher call dr se...  \n",
            "7344   trump strongli consid name campaign chief bann...  \n",
            "20777  wow video surfac berni sander prais commun bre...  \n",
            "12392  tillerson say u readi talk north korea japan w...  \n"
          ]
        }
      ],
      "source": [
        "import pickle\n",
        "\n",
        "# Define the path to the pickle file\n",
        "pickle_file_path = \"stemmed_news_dataset_LR2.pkl\"\n",
        "\n",
        "# Load the DataFrame from the pickle file\n",
        "with open(pickle_file_path, \"rb\") as f:\n",
        "    stemmed_news_dataset_LR2 = pickle.load(f)\n",
        "\n",
        "# Now you can use 'stemmed_fake_news_data' as your DataFrame containing the stemmed content\n",
        "# For example, you can access columns, perform further analysis, or save it to another format\n",
        "print(stemmed_news_dataset_LR2.head())\n"
      ]
    },
    {
      "cell_type": "code",
      "execution_count": 25,
      "metadata": {
        "colab": {
          "base_uri": "https://localhost:8080/"
        },
        "id": "3uC3NBAv9-cv",
        "outputId": "19103a5b-e3ab-4b05-f1c6-46230c949b00"
      },
      "outputs": [
        {
          "name": "stdout",
          "output_type": "stream",
          "text": [
            "10273    WATCH REAGAN WARN US AND DRAW BATTLE LINES…Tru...\n",
            "1820      Jeff Sessions’ Written Immigration Speech Put...\n",
            "22115    The Existential Question Of Whom To Trust 21st...\n",
            "3214      WATCH: CNN Host HUMILIATES Trump Supporter Fo...\n",
            "18408    BROKE City of Chicago Spends Taxpayer Money St...\n",
            "                               ...                        \n",
            "19170    German Social Democrats vow to rebuild in oppo...\n",
            "15927    HANNITY TEARS IT UP IN HIS BEST EVER RANT: ‘Hi...\n",
            "16761    DISTURBING TRUTH ABOUT How The UN Decides Whic...\n",
            "3226      Sarah Palin Gets Her A** Handed To Her For Ca...\n",
            "9331     Combative Trump says he raised $5.6 million fo...\n",
            "Name: content, Length: 44898, dtype: object\n"
          ]
        }
      ],
      "source": [
        "print(filtered_data['content'])"
      ]
    },
    {
      "cell_type": "code",
      "execution_count": 26,
      "metadata": {},
      "outputs": [],
      "source": [
        "#num_rows = int(len(filtered_data) * 0.8)"
      ]
    },
    {
      "cell_type": "code",
      "execution_count": 27,
      "metadata": {
        "id": "4DdpmK58-Td_"
      },
      "outputs": [],
      "source": [
        "#seperating the data and the label\n",
        "X = filtered_data['content'].values\n",
        "Y = filtered_data['label'].values"
      ]
    },
    {
      "cell_type": "code",
      "execution_count": 28,
      "metadata": {
        "colab": {
          "base_uri": "https://localhost:8080/"
        },
        "id": "Ltqx4vL1-TbP",
        "outputId": "6a76454b-ae54-46c3-871d-1b3d639afe50"
      },
      "outputs": [
        {
          "name": "stdout",
          "output_type": "stream",
          "text": [
            "['WATCH REAGAN WARN US AND DRAW BATTLE LINES…Trump is Finishing the Battle Against the “Liberal Fascists” [Video] President Reagan Warned Of The Dangers Of Liberalism, And He Was Eerily Prophetic. He really knew what he was talking about when it came to liberalism is, and what is has become in our day. He did not hesitate to describe liberalism as essentially fascism in a 1975 interview with CBS s 60 Minutes, a political characterization that few, if any, public leaders seem willing to utter, let alone discuss, today.In a Dec. 14, 1975 interview with 60 Minutes correspondent Mike Wallace, Reagan discussed his political philosophy, saying that  the heart of my philosophy is much more libertarianism, than  .  Wallace then interrupted,  Well, that s the fashionable word these days, I guess. A conservative is no longer just that, he s a libertarian. Reagan continued,  It always has been. How do we call a liberal? You know, someone very profoundly once said many years ago that if fascism ever comes to America, it will come in the name of liberalism.  politics'\n",
            " ' Jeff Sessions’ Written Immigration Speech Puts His REVOLTING Beliefs About Immigrants On Display The Trump administration is working as hard as it can to fulfill its promise of cracking down on illegal immigration, and part of that promise was, more or less, to be as evil as possible so they won t even want to come over here. Now, Jeff Sessions is starting to work on putting this into practice, including pushing for more severe prosecutions and punishments, even for non-violent immigrants.But it s not what he s doing that s so horrid. It s horrid, but not nearly as much so as what he planned to called them in a speech to Border Patrol agents in Nogales. His planned remarks included this vile portion: It is here, on this sliver of land, where we first take our stand against this filth.This is a new era. This is the Trump era. Now, that supposedly was referring only to criminal organizations like gangs and cartels. However, many of the people who cross the border illegally are doing so to escape those very organizations   not to expand them into the U.S.He didn t actually say this in his speech in Nogales, but it was in his prepared remarks. The fact that it was even there shows exactly how he sees undocumented immigrants. They re chattel, they re dirty, disgusting animals, and they re any number of things other than human beings to him.Undocumented immigrants are less likely to commit crimes than citizens. People like to point to the fact that they make up a large share of inmates in federal prisons, but federal prisons are a small part of the total prison system in the U.S. ICE s recent numbers aren t especially telling, either since their current focus is immigrants with criminal convictions (which is why they re stalking courthouses).Trump once said that undocumented immigrants were rapists and murderers,  and some, I assume, are good people.  Sessions is building upon that view of undocumented immigrants as mostly criminals, and no amount of,  We re talking about criminal organizations  is going to change that until this administration changes its attitude.Featured image by Michael B. Thomas via Getty Images News'\n",
            " 'The Existential Question Of Whom To Trust 21st Century Wire says Investigative reporter Robert Parry broke many of the Iran-Contra stories for The Associated Press and Newsweek in the 1980 s and has been a featured guest on Patrick Henningsen LIVE at 1100KFNX.  In this report, Robert asks due to mainstream media experts who ve fallen to  careerism , whom can we trust to deliver us the information to describe the world and its conflicts. (Image   Former Secretary of State, Colin Powell addressing the United Nations on Feb. 5. 2003)Robert Parry Consortium NewsThe looming threat of World War III, a potential extermination event for the human species, is made more likely because the world s public can t count on supposedly objective experts to ascertain and evaluate facts. Instead, careerism is the order of the day among journalists, intelligence analysts and international monitors   meaning that almost no one who might normally be relied on to tell the truth can be trustedThe dangerous reality is that this careerism, which often is expressed by a smug certainty about whatever the prevailing groupthink is, pervades not just the political world, where lies seem to be the common currency, but also the worlds of journalism, intelligence and international oversight, including United Nations agencies that are often granted greater credibility because they are perceived as less beholden to specific governments but in reality have become deeply corrupted, too.In other words, many professionals who are counted on for digging out the facts and speaking truth to power have sold themselves to those same powerful interests in order to keep high-paying jobs and to not get tossed out onto the street. Many of these self-aggrandizing professionals   caught up in the many accouterments of success   don t even seem to recognize how far they ve drifted from principled professionalism.A good example was Saturday night s spectacle of national journalists preening in their tuxedos and gowns at the White House Correspondents Dinner, sporting First Amendment pins as if they were some brave victims of persecution. They seemed oblivious to how removed they are from Middle America and how unlikely any of them would risk their careers by challenging one of the Establishment s favored groupthinks. Instead, these national journalists take easy shots at President Trump s buffoonish behavior and his serial falsehoods   and count themselves as endangered heroes for the effort.FOILS FOR TRUMPIronically, though, these pompous journalists gave Trump what was arguably his best moment in his first 100 days by serving as foils for the President as he traveled to Harrisburg, Pennsylvania, on Saturday and basked in the adulation of blue-collar Americans who view the mainstream media as just one more appendage of a corrupt ruling elite.Breaking with tradition by snubbing the annual press gala, Trump delighted the Harrisburg crowd by saying:  A large group of Hollywood celebrities and Washington media are consoling each other in a hotel ballroom  and adding:  I could not possibly be more thrilled than to be more than 100 miles away from [the] Washington swamp   with much, much better people.  The crowd booed references to the elites and cheered Trump s choice to be with the common folk.Trump s rejection of the dinner and his frequent criticism of the mainstream media brought a defensive response from Jeff Mason, president of the White House Correspondents  Association, who complained:  We are not fake news. We are not failing news organizations. And we are not the enemy of the American people.  That brought the black-tie-and-gown gathering to its feet in a standing ovation.Perhaps the assembled media elite had forgotten that it was the mainstream U.S. media   particularly The Washington Post and The New York Times   that popularized the phrase  fake news  and directed it blunderbuss-style not only at the few Web sites that intentionally invent stories to increase their clicks but at independent-minded journalism outlets that have dared question the elite s groupthinks on issues of war, peace and globalization.THE BLACK LISTProfessional journalistic skepticism toward official claims by the U.S. government   what you should expect from reporters   became conflated with  fake news.  The Post even gave front-page attention to an anonymous group called PropOrNot that published a black list of 200 Internet sites, including Consortiumnews.com and other independent-minded journalism sites, to be shunned.But the mainstream media stars didn t like it when Trump began throwing the  fake news  slur back at them. Thus, the First Amendment lapel pins and the standing ovation for Jeff Mason s repudiation of the  fake news  label.Yet, as the glitzy White House Correspondents Dinner demonstrated, mainstream journalists get the goodies of prestige and money while the real truth-tellers are almost always outspent, outgunned and cast out of the mainstream. Indeed, this dwindling band of honest people who are both knowledgeable and in position to expose unpleasant truths is often under mainstream attack, sometimes for unrelated personal failings and other times just for rubbing the powers-that-be the wrong way.Perhaps, the clearest case study of this up-is-down rewards-and-punishments reality was the Iraq War s WMD rationale. Nearly across the board, the American political/media system   from U.S. intelligence analysts to the deliberative body of the U.S. Senate to the major U.S. news organizations   failed to ascertain the truth and indeed actively helped disseminate the falsehoods about Iraq hiding WMDs and even suggested nuclear weapons development. (Arguably, the  most trusted  U.S. government official at the time, Secretary of State Colin Powell, played a key role in selling the false allegations as  truth. )Not only did the supposed American  gold standard  for assessing information   the U.S. political, media and intelligence structure   fail miserably in the face of fraudulent claims often from self-interested Iraqi opposition figures and their neoconservative American backers, but there was minimal accountability afterwards for the  professionals  who failed to protect the public from lies and deceptions.PROFITING FROM FAILUREIndeed, many of the main culprits remain  respected  members of the journalistic establishment. For instance, The New York Times  Pentagon correspondent Michael R. Gordon, who was the lead writer on the infamous  aluminum tubes for nuclear centrifuges  story which got the ball rolling for the Bush administration s rollout of its invade-Iraq advertising campaign in September 2002, still covers national security for the Times   and still serves as a conveyor belt for U.S. government propaganda.The Washington Post s editorial page editor Fred Hiatt, who repeatedly informed the Post s readers that Iraq s secret possession of WMD was a  flat-fact,  is still the Post s editorial page editor, one of the most influential positions in American journalism.Hiatt s editorial page led a years-long assault on the character of former U.S. Ambassador Joseph Wilson for the offense of debunking one of President George W. Bush s claims about Iraq seeking yellowcake uranium from Niger. Wilson had alerted the CIA to the bogus claim before the invasion of Iraq and went public with the news afterwards, but the Post treated Wilson as the real culprit, dismissing him as  a blowhard  and trivializing the Bush administration s destruction of his wife s CIA career by outing her (Valerie Plame) in order to discredit Wilson s Niger investigation.At the end of the Post s savaging of Wilson s reputation and in the wake of the newspaper s accessory role in destroying Plame s career, Wilson and Plame decamped from Washington to New Mexico. Meanwhile, Hiatt never suffered a whit   and remains a  respected  Washington media figure to this day.CAREERIST LESSONThe lesson that any careerist would draw from the Iraq case is that there is almost no downside risk in running with the pack on a national security issue. Even if you re horrifically wrong   even if you contribute to the deaths of some 4,500 U.S. soldiers and hundreds of thousands of Iraqis   your paycheck is almost surely safe.The same holds true if you work for an international agency that is responsible for monitoring issues like chemical weapons. Again, the Iraq example offers a good case study. In April 2002, as President Bush was clearing away the few obstacles to his Iraq invasion plans, Jose Mauricio Bustani, the head of the Organization for the Prohibition of Chemical Weapons [OPCW], sought to persuade Iraq to join the Chemical Weapons Convention so inspectors could verify Iraq s claims that it had destroyed its stockpiles.The Bush administration called that idea an  ill-considered initiative    after all, it could have stripped away the preferred propaganda rationale for the invasion if the OPCW verified that Iraq had destroyed its chemical weapons. So, Bush s Undersecretary of State for Arms Control John Bolton, a neocon advocate for the invasion of Iraq, pushed to have Bustani deposed. The Bush administration threatened to withhold dues to the OPCW if Bustani, a Brazilian diplomat, remained.It now appears obvious that Bush and Bolton viewed Bustani s real offense as interfering with their invasion scheme, but Bustani was ultimately taken down over accusations of mismanagement, although he was only a year into a new five-year term after having been reelected unanimously. The OPCW member states chose to sacrifice Bustani to save the organization from the loss of U.S. funds, but   in so doing   they compromised its integrity, making it just another agency that would bend to big-power pressure. By dismissing me,  Bustani said,  an international precedent will have been established whereby any duly elected head of any international organization would at any point during his or her tenure remain vulnerable to the whims of one or a few major contributors.  He added that if the United States succeeded in removing him,  genuine multilateralism  would succumb to  unilateralism in a multilateral disguise Continue this report at Consortium News READ MORE US NEWS AT: 21st Century Wire US FilesSUPPORT OUR WORK BY SUBSCRIBING & BECOMING A MEMBER @21WIRE.TV US_News'\n",
            " ...\n",
            " 'DISTURBING TRUTH ABOUT How The UN Decides Which Muslim “REFUGEES” Will Be Your New Neighbor [VIDEO] Every American should know the corrupt UN has been, and will continue to be, the one organization who decides which Muslim  refugees  will be flooding your hometown Who picks the Syrian refugees that resettle in the U.S.? Homeland Security? No, the United Nations, in concert with a global Islamist group. And they re sending  more than 15,000,  not the widely reported 10,000.In fact, Washington has no role in selecting the thousands of Syrian refugees coming to your hometown. The U.N. High Commissioner for Refugees is really behind the effort, and he s referred an additional 5,000-plus Syrian nationals here.A new State Department report reveals that the U.S. already has accepted at least 15,000 Syrian refugee referrals from the UNHCR. The United States is one of 28 countries that have agreed to accept referrals from UNHCR as part of its ambitious international effort to secure permanent or temporary resettlement for 130,000 Syrian refugees by the end of 2016,  the State Department said in  Proposed Refugee Admissions for Fiscal Year 2016. As of mid-2015, UNHCR has referred more than 15,000 Syrian refugees to the United States,  the 71-page report adds.  And these individuals are being screened to determine whether they are eligible. Of course, that security screening is a joke, as the FBI director and his top counterterrorism aide, as well as the Homeland Security and National Intelligence chiefs, have all testified.State notes in its report that security checks include  biographic name checks for all refugee applicants and biometric (fingerprint) checks for refugee applicants.  Only Syria is a failed state, and there are no fingerprint databases to check applicants against.The Islamic State has publicly vowed to use the refugee program to invade Europe and America, and allegedly has already infiltrated some 4,000  warriors  among the flood of Syrian refugees.The Obama administration insists that it will catch any terrorist infiltrators through its interviewing process.But, the State Department report said,  In some countries, such as Syria, Yemen and Eritrea, Department of Homeland Security adjudicators have been unable to travel to interview applicants for several years. That s not all. The UNHCR is working  hand in hand  with an international Islamist group of 57 Muslim nations   the Organization of Islamic Cooperation   whose founding charter seeks to propagate  legitimate jihad  and  the norms of Islamic Shari ah.  Saudi-based OIC, in fact, is tied to the radical Muslim Brotherhood. We are delighted to work   with the OIC,  said U.N. High Commissioner for Refugees Antonio Guterres.So it s really the U.N. and radical Islamists who are choosing your new Muslim neighbors.While the U.N. calls its project  refugee resettlement,  the Islamists call it  hijra,  or immigration jihad. Via: IBD Government News'\n",
            " ' Sarah Palin Gets Her A** Handed To Her For Calling On Trump To Pull America Out Of The United Nations Sarah Palin opened her mouth again and people quickly corrected her stupidity.Ever since the United Nations passed a resolution rightfully condemning Israel s continued refusal to stop building new settlements on Palestinian land, conservatives have been fuming about it.Donald Trump even threatened the United Nations and has been trashing the international organization.But now Sarah Palin is also telling Trump to ditch the U.N. in a move that would be similar to Brexit, in which the United States would pull out of the organization just as the United Kingdom pulled out of the European Union, a move that millions of UK voters now regret. I think many of us have called for America to really step up and consider what it is that we are funding and supporting via the U.N., and how it works so hard really against U.S. interests, and just saying   look what the U.K. just did,  Palin told Breitbart.  This is such an encouraging time, where it s not just us, but those across the pond, too, are understanding that their nation s sovereignty and security are on the line here, with the ties that bind us to interests that really don t further our agendas. Yes, God forbid that other nations have opinions, too. When the U.K. made its move, it was just another reason to call yet again for the U.S. to get the heck out of the U.N. and get the U.N. out of the U.S.,  Palin continued.  Let s get going on putting America first so that we can sweep our own porch before telling other nations how to sweep theirs. But the United Nations does not tell America what to do. U.N. resolutions must be approved by the Senate to apply to the United States and we have the power to veto resolutions.Palin then pleaded with Trump to pull America out of the United Nations. I called for our next president, Donald Trump, to call for the unshackling of the political bands tying us to the U.N.. By exiting the U.N., where injustice is actually rewarded, we then will be able to uphold America s reputation as the leader, and as the kind and compassionate and generous nation that we are   as the nation sharing values that, when emulated by any other nation, can bring justice and equal rights to any other nation. She then claimed that a revolution put Trump in office and that the same revolution will end the peacekeeping organization that has been around since after World War II. It s our money funding the lion s share of the globalist circus. It s we the people needing to rise up and make this a part of the revolution that we have just so benefited from. Last time I checked, it s not a revolution when a presidential candidate loses the popular vote by nearly 3 million votes and has one of the smallest margins of victory in the electoral vote in history.But Palin crowed about her interview on Twitter and was soon put in her place by people with functioning brains.@SarahPalinUSA @BreitbartNews yeah! I ve been tired of the lack of large scale violent conflict between states. #NewYearsResolution #WW3  PussyGrabber45 (@PussyGrabber45) December 29, 2016@eric42025 @SarahPalinUSA @BreitbartNews since the UN s creation there hasn t been a global war. how am I wrong? #factslivesmatter  PussyGrabber45 (@PussyGrabber45) December 29, 2016@eric42025 @molliesdadtaken @BreitbartNews US paid $654 million to the UN in  15. For 1/4 the price of an aircraft carrier, we have #peace  PussyGrabber45 (@PussyGrabber45) December 29, 2016@SarahPalinUSA @BreitbartNews Palin should call for herself to go back to her ice cave!????  Kathy Palko (@chattykay) December 29, 2016@SarahPalinUSA If you only knew what that meant.  Deez Nuts (@KDogPeele) December 29, 2016@SarahPalinUSA You are one SCARY person.  Jack BluePNW (@BluePNW) December 30, 2016@SarahPalinUSA @BreitbartNews and you should be shackled to the titanic.  Ratigan512 (@ratigan512) December 29, 2016@SarahPalinUSA UN includes World Health Organisation. Saves us from ebola and other horrors. We ALL need the UN  Lev Szeps (@LevSzeps) December 30, 2016@SarahPalinUSA @BreitbartNews really? Become isolationists? How stupid is that?  Maryann Horsley (@thebooklady01) December 30, 2016Indeed, not only would America become isolationist, it would be giving up international power and prestige and the power vacuum in the United Nations would be filled by Russia and China, both of which certainly do not have our best interests at heart.There is a reason why we helped found the United Nations and getting rid of it now when we need it more than ever before would be a grave error that would put the world on the path to selfishness and the brink of war unlike anything we have ever witnessed.Featured image via Huffington Post News'\n",
            " 'Combative Trump says he raised $5.6 million for vets, bashes media NEW YORK (Reuters) - Republican presidential candidate Donald Trump on Tuesday detailed $5.6 million in contributions he raised for military veterans, and staged a fiery news conference where he attacked reporters for questioning him for months about the money.                  Appearing at Trump Tower in Manhattan, the billionaire accused the media of failing to give him credit for raising the funds at an event in January in Iowa. His tirade, in which he called one reporter “a sleaze” and sarcastically described another as a “real beauty,” overshadowed what otherwise should have been an upbeat event for the presumptive Republican nominee. “The press should be ashamed of themselves,” he told reporters gathered before him. “You make me look very bad. I’ve never received such bad publicity for doing a good job.” While Trump has long had an adversarial relationship with the media, questions about the donations to veterans touched a raw nerve with him as he tries to build a conservative base ahead of the Nov. 8 general election.     Reporters have been persistently asking whether Trump in fact raised all the money he said he had in January and why it took so long to hand donations over to veterans groups. A number of veterans groups listed by Trump on Tuesday as recipients confirmed they had received the donation as listed, ranging from $25,000 to, in one case, $1.1 million, which went to the Marine Corps Law Enforcement Foundation. Some of the donations arrived in February or March, some as recently as last week around the time a critical article appeared in The Washington Post. The money arrived in the form of a check from the Donald J. Trump Foundation. “We received a $75,000 gift early last week from the Trump Foundation, it was not restricted or earmarked in any way,” said Katherine Fritz, director of development at America’s Vetdogs. Trump’s criticism of the media dashed the hopes of some Republican leaders who want him to tone down his rhetoric and become more magnanimous now that he has sealed the Republican presidential nomination. The Washington Post said Trump only handed over a personal donation of $1 million last week - four months after announcing it - once the newspaper started asking about the money. Trump said the news coverage of his veterans group donations had been close to libelous. Asked whether he would maintain an adversarial stance with reporters if elected president, Trump said: “Yeah, it’s going to be like this.” A reporter told Trump he seemed resistant to the kind of scrutiny that comes with the office of U.S. president. But Ari Fleischer, a former White House press secretary for President George W. Bush, said the news media should stop fretting about how Trump treats them. “My advice to the press: Stop interviewing yourselves about Trump’s attack on the press. Don’t worry about it. Just do your jobs and be fair,” he said. The contretemps took place on the same day documents were disclosed from a lawsuit involving Trump University, a now-defunct education program that ran a real estate training program. Trump has attacked the presiding judge as hostile to him.  The university documents showed Trump University created a special class to teach students how to cash in on U.S. mortgage foreclosures when the United States was struggling with an entrenched housing crisis in 2009. Democratic presidential front-runner Hillary Clinton sought to take advantage of Trump’s discomfort over the media scrutiny he has faced. She told CNN that Trump’s tendency to attack his critics “is a recipe for gridlock in Washington.” Clinton defended her own policy toward dealing with the news media, saying she has conducted 300 interviews this year alone. Unlike Trump, she rarely holds news conferences. Her last one was last December. Clinton leads Trump by 11 percentage points in the latest Reuters/Ipsos opinion poll. According to the May 27-31 survey of likely voters, 46 percent support the former U.S. secretary of state while 35 percent back Trump.   California Governor Jerry Brown on Tuesday endorsed Clinton for the Democratic nomination, saying it was the only way to “stop the dangerous candidacy of Donald Trump.”            At his news conference, Trump also bristled at the possibility that Republicans opposed to him might run a third-party candidate as an alternative to Trump or the expected Democratic nominee Clinton. He said a leader of that effort, Bill Kristol, editor of The Weekly Standard magazine, “looks like such a fool.” “Let me tell you these people are losers,” said Trump, adding that a third-party candidacy would guarantee Clinton wins the White House and deny Republicans the chance to put conservatives on the Supreme Court. “What you’re going to do is lose the election for the Republicans and therefore you lose the Supreme Court,” he said. Trump read out a list of veterans’ organizations that had received money from the January event, which he attended instead of participating in a Fox News-sponsored candidates’ debate. He said the money was benefiting 41 groups and that the total cash raised could climb as more comes in.  He turned the microphone over briefly to Al Baldasaro, a Trump supporter and a veteran from New Hampshire who also skewered the news media, saying reporters should “get your head out of your butt, focus on the real issues.”              politicsNews']\n"
          ]
        }
      ],
      "source": [
        "print(X)"
      ]
    },
    {
      "cell_type": "code",
      "execution_count": 29,
      "metadata": {
        "colab": {
          "base_uri": "https://localhost:8080/"
        },
        "id": "3M9x3HVq-TXx",
        "outputId": "81ec0c6f-506a-4b5c-d9be-7eb307dcd2f1"
      },
      "outputs": [
        {
          "name": "stdout",
          "output_type": "stream",
          "text": [
            "[1 1 1 ... 1 1 0]\n"
          ]
        }
      ],
      "source": [
        "print(Y)"
      ]
    },
    {
      "cell_type": "code",
      "execution_count": 30,
      "metadata": {
        "id": "bSTSmInQ-xzR"
      },
      "outputs": [],
      "source": [
        "#converting the textual data to numerical data\n",
        "vectorizer = TfidfVectorizer()\n",
        "vectorizer.fit(X)\n",
        "\n",
        "X=vectorizer.transform(X)"
      ]
    },
    {
      "cell_type": "code",
      "execution_count": 31,
      "metadata": {
        "colab": {
          "base_uri": "https://localhost:8080/"
        },
        "id": "WSIcd6IP-xvf",
        "outputId": "215e953b-fc9f-4d74-a561-94c7f2f31886"
      },
      "outputs": [
        {
          "name": "stdout",
          "output_type": "stream",
          "text": [
            "  (0, 121199)\t0.030803303116334613\n",
            "  (0, 120809)\t0.036551758181997254\n",
            "  (0, 119492)\t0.06550753352090988\n",
            "  (0, 119116)\t0.037565090427019006\n",
            "  (0, 118767)\t0.0661776824793437\n",
            "  (0, 118721)\t0.02592674885593699\n",
            "  (0, 118296)\t0.02819361018794806\n",
            "  (0, 118247)\t0.057695104508935294\n",
            "  (0, 117945)\t0.039124660291396315\n",
            "  (0, 117640)\t0.025491894863194114\n",
            "  (0, 117397)\t0.043943249918857605\n",
            "  (0, 117318)\t0.0404514014064927\n",
            "  (0, 117259)\t0.062273159386208234\n",
            "  (0, 117258)\t0.09134804602978333\n",
            "  (0, 117039)\t0.19929657263211698\n",
            "  (0, 115842)\t0.03648816195456681\n",
            "  (0, 115626)\t0.03906894056745907\n",
            "  (0, 114743)\t0.09666445648567035\n",
            "  (0, 114534)\t0.03986313090638226\n",
            "  (0, 111257)\t0.025508596955012626\n",
            "  (0, 109669)\t0.048973641615422524\n",
            "  (0, 109627)\t0.06313198172836725\n",
            "  (0, 108576)\t0.0394683889458225\n",
            "  (0, 108445)\t0.03863994670854608\n",
            "  (0, 108257)\t0.09291703444684327\n",
            "  :\t:\n",
            "  (44897, 11371)\t0.03014385055825708\n",
            "  (44897, 11326)\t0.023363792943762302\n",
            "  (44897, 11255)\t0.028188906321305485\n",
            "  (44897, 11039)\t0.011612979400912465\n",
            "  (44897, 10597)\t0.023399509880067112\n",
            "  (44897, 10213)\t0.023175894473418654\n",
            "  (44897, 9954)\t0.010668012049631257\n",
            "  (44897, 9684)\t0.031973327224464304\n",
            "  (44897, 9661)\t0.10304698471835541\n",
            "  (44897, 9643)\t0.031077460033324733\n",
            "  (44897, 9353)\t0.02379492558151444\n",
            "  (44897, 9061)\t0.022182458818725267\n",
            "  (44897, 9004)\t0.015819660263754292\n",
            "  (44897, 8736)\t0.06139900092404442\n",
            "  (44897, 7067)\t0.03391321139353421\n",
            "  (44897, 5826)\t0.0352137736487669\n",
            "  (44897, 5715)\t0.03514114727768845\n",
            "  (44897, 5405)\t0.029032847639109502\n",
            "  (44897, 5286)\t0.029822336572211405\n",
            "  (44897, 5241)\t0.03051027044190554\n",
            "  (44897, 4537)\t0.02791162174298026\n",
            "  (44897, 4459)\t0.02470787812300869\n",
            "  (44897, 1815)\t0.028260201595491655\n",
            "  (44897, 720)\t0.023205532669329353\n",
            "  (44897, 1)\t0.03661293506177958\n"
          ]
        }
      ],
      "source": [
        "print(X)"
      ]
    },
    {
      "cell_type": "code",
      "execution_count": 32,
      "metadata": {
        "id": "4akqV-Ja-TTv"
      },
      "outputs": [],
      "source": [
        "X_train, X_test, Y_train, Y_test = train_test_split(X, Y, test_size = 0.2, stratify=Y, random_state=2)"
      ]
    },
    {
      "cell_type": "code",
      "execution_count": 33,
      "metadata": {
        "id": "e6-8_hLL9gGY"
      },
      "outputs": [],
      "source": [
        "model = LogisticRegression()"
      ]
    },
    {
      "cell_type": "code",
      "execution_count": 34,
      "metadata": {
        "colab": {
          "base_uri": "https://localhost:8080/",
          "height": 74
        },
        "id": "kal6Vaac9gCY",
        "outputId": "841419df-b5e6-49f1-a679-943df96c8b0a"
      },
      "outputs": [
        {
          "data": {
            "text/html": [
              "<style>#sk-container-id-1 {\n",
              "  /* Definition of color scheme common for light and dark mode */\n",
              "  --sklearn-color-text: black;\n",
              "  --sklearn-color-line: gray;\n",
              "  /* Definition of color scheme for unfitted estimators */\n",
              "  --sklearn-color-unfitted-level-0: #fff5e6;\n",
              "  --sklearn-color-unfitted-level-1: #f6e4d2;\n",
              "  --sklearn-color-unfitted-level-2: #ffe0b3;\n",
              "  --sklearn-color-unfitted-level-3: chocolate;\n",
              "  /* Definition of color scheme for fitted estimators */\n",
              "  --sklearn-color-fitted-level-0: #f0f8ff;\n",
              "  --sklearn-color-fitted-level-1: #d4ebff;\n",
              "  --sklearn-color-fitted-level-2: #b3dbfd;\n",
              "  --sklearn-color-fitted-level-3: cornflowerblue;\n",
              "\n",
              "  /* Specific color for light theme */\n",
              "  --sklearn-color-text-on-default-background: var(--sg-text-color, var(--theme-code-foreground, var(--jp-content-font-color1, black)));\n",
              "  --sklearn-color-background: var(--sg-background-color, var(--theme-background, var(--jp-layout-color0, white)));\n",
              "  --sklearn-color-border-box: var(--sg-text-color, var(--theme-code-foreground, var(--jp-content-font-color1, black)));\n",
              "  --sklearn-color-icon: #696969;\n",
              "\n",
              "  @media (prefers-color-scheme: dark) {\n",
              "    /* Redefinition of color scheme for dark theme */\n",
              "    --sklearn-color-text-on-default-background: var(--sg-text-color, var(--theme-code-foreground, var(--jp-content-font-color1, white)));\n",
              "    --sklearn-color-background: var(--sg-background-color, var(--theme-background, var(--jp-layout-color0, #111)));\n",
              "    --sklearn-color-border-box: var(--sg-text-color, var(--theme-code-foreground, var(--jp-content-font-color1, white)));\n",
              "    --sklearn-color-icon: #878787;\n",
              "  }\n",
              "}\n",
              "\n",
              "#sk-container-id-1 {\n",
              "  color: var(--sklearn-color-text);\n",
              "}\n",
              "\n",
              "#sk-container-id-1 pre {\n",
              "  padding: 0;\n",
              "}\n",
              "\n",
              "#sk-container-id-1 input.sk-hidden--visually {\n",
              "  border: 0;\n",
              "  clip: rect(1px 1px 1px 1px);\n",
              "  clip: rect(1px, 1px, 1px, 1px);\n",
              "  height: 1px;\n",
              "  margin: -1px;\n",
              "  overflow: hidden;\n",
              "  padding: 0;\n",
              "  position: absolute;\n",
              "  width: 1px;\n",
              "}\n",
              "\n",
              "#sk-container-id-1 div.sk-dashed-wrapped {\n",
              "  border: 1px dashed var(--sklearn-color-line);\n",
              "  margin: 0 0.4em 0.5em 0.4em;\n",
              "  box-sizing: border-box;\n",
              "  padding-bottom: 0.4em;\n",
              "  background-color: var(--sklearn-color-background);\n",
              "}\n",
              "\n",
              "#sk-container-id-1 div.sk-container {\n",
              "  /* jupyter's `normalize.less` sets `[hidden] { display: none; }`\n",
              "     but bootstrap.min.css set `[hidden] { display: none !important; }`\n",
              "     so we also need the `!important` here to be able to override the\n",
              "     default hidden behavior on the sphinx rendered scikit-learn.org.\n",
              "     See: https://github.com/scikit-learn/scikit-learn/issues/21755 */\n",
              "  display: inline-block !important;\n",
              "  position: relative;\n",
              "}\n",
              "\n",
              "#sk-container-id-1 div.sk-text-repr-fallback {\n",
              "  display: none;\n",
              "}\n",
              "\n",
              "div.sk-parallel-item,\n",
              "div.sk-serial,\n",
              "div.sk-item {\n",
              "  /* draw centered vertical line to link estimators */\n",
              "  background-image: linear-gradient(var(--sklearn-color-text-on-default-background), var(--sklearn-color-text-on-default-background));\n",
              "  background-size: 2px 100%;\n",
              "  background-repeat: no-repeat;\n",
              "  background-position: center center;\n",
              "}\n",
              "\n",
              "/* Parallel-specific style estimator block */\n",
              "\n",
              "#sk-container-id-1 div.sk-parallel-item::after {\n",
              "  content: \"\";\n",
              "  width: 100%;\n",
              "  border-bottom: 2px solid var(--sklearn-color-text-on-default-background);\n",
              "  flex-grow: 1;\n",
              "}\n",
              "\n",
              "#sk-container-id-1 div.sk-parallel {\n",
              "  display: flex;\n",
              "  align-items: stretch;\n",
              "  justify-content: center;\n",
              "  background-color: var(--sklearn-color-background);\n",
              "  position: relative;\n",
              "}\n",
              "\n",
              "#sk-container-id-1 div.sk-parallel-item {\n",
              "  display: flex;\n",
              "  flex-direction: column;\n",
              "}\n",
              "\n",
              "#sk-container-id-1 div.sk-parallel-item:first-child::after {\n",
              "  align-self: flex-end;\n",
              "  width: 50%;\n",
              "}\n",
              "\n",
              "#sk-container-id-1 div.sk-parallel-item:last-child::after {\n",
              "  align-self: flex-start;\n",
              "  width: 50%;\n",
              "}\n",
              "\n",
              "#sk-container-id-1 div.sk-parallel-item:only-child::after {\n",
              "  width: 0;\n",
              "}\n",
              "\n",
              "/* Serial-specific style estimator block */\n",
              "\n",
              "#sk-container-id-1 div.sk-serial {\n",
              "  display: flex;\n",
              "  flex-direction: column;\n",
              "  align-items: center;\n",
              "  background-color: var(--sklearn-color-background);\n",
              "  padding-right: 1em;\n",
              "  padding-left: 1em;\n",
              "}\n",
              "\n",
              "\n",
              "/* Toggleable style: style used for estimator/Pipeline/ColumnTransformer box that is\n",
              "clickable and can be expanded/collapsed.\n",
              "- Pipeline and ColumnTransformer use this feature and define the default style\n",
              "- Estimators will overwrite some part of the style using the `sk-estimator` class\n",
              "*/\n",
              "\n",
              "/* Pipeline and ColumnTransformer style (default) */\n",
              "\n",
              "#sk-container-id-1 div.sk-toggleable {\n",
              "  /* Default theme specific background. It is overwritten whether we have a\n",
              "  specific estimator or a Pipeline/ColumnTransformer */\n",
              "  background-color: var(--sklearn-color-background);\n",
              "}\n",
              "\n",
              "/* Toggleable label */\n",
              "#sk-container-id-1 label.sk-toggleable__label {\n",
              "  cursor: pointer;\n",
              "  display: block;\n",
              "  width: 100%;\n",
              "  margin-bottom: 0;\n",
              "  padding: 0.5em;\n",
              "  box-sizing: border-box;\n",
              "  text-align: center;\n",
              "}\n",
              "\n",
              "#sk-container-id-1 label.sk-toggleable__label-arrow:before {\n",
              "  /* Arrow on the left of the label */\n",
              "  content: \"▸\";\n",
              "  float: left;\n",
              "  margin-right: 0.25em;\n",
              "  color: var(--sklearn-color-icon);\n",
              "}\n",
              "\n",
              "#sk-container-id-1 label.sk-toggleable__label-arrow:hover:before {\n",
              "  color: var(--sklearn-color-text);\n",
              "}\n",
              "\n",
              "/* Toggleable content - dropdown */\n",
              "\n",
              "#sk-container-id-1 div.sk-toggleable__content {\n",
              "  max-height: 0;\n",
              "  max-width: 0;\n",
              "  overflow: hidden;\n",
              "  text-align: left;\n",
              "  /* unfitted */\n",
              "  background-color: var(--sklearn-color-unfitted-level-0);\n",
              "}\n",
              "\n",
              "#sk-container-id-1 div.sk-toggleable__content.fitted {\n",
              "  /* fitted */\n",
              "  background-color: var(--sklearn-color-fitted-level-0);\n",
              "}\n",
              "\n",
              "#sk-container-id-1 div.sk-toggleable__content pre {\n",
              "  margin: 0.2em;\n",
              "  border-radius: 0.25em;\n",
              "  color: var(--sklearn-color-text);\n",
              "  /* unfitted */\n",
              "  background-color: var(--sklearn-color-unfitted-level-0);\n",
              "}\n",
              "\n",
              "#sk-container-id-1 div.sk-toggleable__content.fitted pre {\n",
              "  /* unfitted */\n",
              "  background-color: var(--sklearn-color-fitted-level-0);\n",
              "}\n",
              "\n",
              "#sk-container-id-1 input.sk-toggleable__control:checked~div.sk-toggleable__content {\n",
              "  /* Expand drop-down */\n",
              "  max-height: 200px;\n",
              "  max-width: 100%;\n",
              "  overflow: auto;\n",
              "}\n",
              "\n",
              "#sk-container-id-1 input.sk-toggleable__control:checked~label.sk-toggleable__label-arrow:before {\n",
              "  content: \"▾\";\n",
              "}\n",
              "\n",
              "/* Pipeline/ColumnTransformer-specific style */\n",
              "\n",
              "#sk-container-id-1 div.sk-label input.sk-toggleable__control:checked~label.sk-toggleable__label {\n",
              "  color: var(--sklearn-color-text);\n",
              "  background-color: var(--sklearn-color-unfitted-level-2);\n",
              "}\n",
              "\n",
              "#sk-container-id-1 div.sk-label.fitted input.sk-toggleable__control:checked~label.sk-toggleable__label {\n",
              "  background-color: var(--sklearn-color-fitted-level-2);\n",
              "}\n",
              "\n",
              "/* Estimator-specific style */\n",
              "\n",
              "/* Colorize estimator box */\n",
              "#sk-container-id-1 div.sk-estimator input.sk-toggleable__control:checked~label.sk-toggleable__label {\n",
              "  /* unfitted */\n",
              "  background-color: var(--sklearn-color-unfitted-level-2);\n",
              "}\n",
              "\n",
              "#sk-container-id-1 div.sk-estimator.fitted input.sk-toggleable__control:checked~label.sk-toggleable__label {\n",
              "  /* fitted */\n",
              "  background-color: var(--sklearn-color-fitted-level-2);\n",
              "}\n",
              "\n",
              "#sk-container-id-1 div.sk-label label.sk-toggleable__label,\n",
              "#sk-container-id-1 div.sk-label label {\n",
              "  /* The background is the default theme color */\n",
              "  color: var(--sklearn-color-text-on-default-background);\n",
              "}\n",
              "\n",
              "/* On hover, darken the color of the background */\n",
              "#sk-container-id-1 div.sk-label:hover label.sk-toggleable__label {\n",
              "  color: var(--sklearn-color-text);\n",
              "  background-color: var(--sklearn-color-unfitted-level-2);\n",
              "}\n",
              "\n",
              "/* Label box, darken color on hover, fitted */\n",
              "#sk-container-id-1 div.sk-label.fitted:hover label.sk-toggleable__label.fitted {\n",
              "  color: var(--sklearn-color-text);\n",
              "  background-color: var(--sklearn-color-fitted-level-2);\n",
              "}\n",
              "\n",
              "/* Estimator label */\n",
              "\n",
              "#sk-container-id-1 div.sk-label label {\n",
              "  font-family: monospace;\n",
              "  font-weight: bold;\n",
              "  display: inline-block;\n",
              "  line-height: 1.2em;\n",
              "}\n",
              "\n",
              "#sk-container-id-1 div.sk-label-container {\n",
              "  text-align: center;\n",
              "}\n",
              "\n",
              "/* Estimator-specific */\n",
              "#sk-container-id-1 div.sk-estimator {\n",
              "  font-family: monospace;\n",
              "  border: 1px dotted var(--sklearn-color-border-box);\n",
              "  border-radius: 0.25em;\n",
              "  box-sizing: border-box;\n",
              "  margin-bottom: 0.5em;\n",
              "  /* unfitted */\n",
              "  background-color: var(--sklearn-color-unfitted-level-0);\n",
              "}\n",
              "\n",
              "#sk-container-id-1 div.sk-estimator.fitted {\n",
              "  /* fitted */\n",
              "  background-color: var(--sklearn-color-fitted-level-0);\n",
              "}\n",
              "\n",
              "/* on hover */\n",
              "#sk-container-id-1 div.sk-estimator:hover {\n",
              "  /* unfitted */\n",
              "  background-color: var(--sklearn-color-unfitted-level-2);\n",
              "}\n",
              "\n",
              "#sk-container-id-1 div.sk-estimator.fitted:hover {\n",
              "  /* fitted */\n",
              "  background-color: var(--sklearn-color-fitted-level-2);\n",
              "}\n",
              "\n",
              "/* Specification for estimator info (e.g. \"i\" and \"?\") */\n",
              "\n",
              "/* Common style for \"i\" and \"?\" */\n",
              "\n",
              ".sk-estimator-doc-link,\n",
              "a:link.sk-estimator-doc-link,\n",
              "a:visited.sk-estimator-doc-link {\n",
              "  float: right;\n",
              "  font-size: smaller;\n",
              "  line-height: 1em;\n",
              "  font-family: monospace;\n",
              "  background-color: var(--sklearn-color-background);\n",
              "  border-radius: 1em;\n",
              "  height: 1em;\n",
              "  width: 1em;\n",
              "  text-decoration: none !important;\n",
              "  margin-left: 1ex;\n",
              "  /* unfitted */\n",
              "  border: var(--sklearn-color-unfitted-level-1) 1pt solid;\n",
              "  color: var(--sklearn-color-unfitted-level-1);\n",
              "}\n",
              "\n",
              ".sk-estimator-doc-link.fitted,\n",
              "a:link.sk-estimator-doc-link.fitted,\n",
              "a:visited.sk-estimator-doc-link.fitted {\n",
              "  /* fitted */\n",
              "  border: var(--sklearn-color-fitted-level-1) 1pt solid;\n",
              "  color: var(--sklearn-color-fitted-level-1);\n",
              "}\n",
              "\n",
              "/* On hover */\n",
              "div.sk-estimator:hover .sk-estimator-doc-link:hover,\n",
              ".sk-estimator-doc-link:hover,\n",
              "div.sk-label-container:hover .sk-estimator-doc-link:hover,\n",
              ".sk-estimator-doc-link:hover {\n",
              "  /* unfitted */\n",
              "  background-color: var(--sklearn-color-unfitted-level-3);\n",
              "  color: var(--sklearn-color-background);\n",
              "  text-decoration: none;\n",
              "}\n",
              "\n",
              "div.sk-estimator.fitted:hover .sk-estimator-doc-link.fitted:hover,\n",
              ".sk-estimator-doc-link.fitted:hover,\n",
              "div.sk-label-container:hover .sk-estimator-doc-link.fitted:hover,\n",
              ".sk-estimator-doc-link.fitted:hover {\n",
              "  /* fitted */\n",
              "  background-color: var(--sklearn-color-fitted-level-3);\n",
              "  color: var(--sklearn-color-background);\n",
              "  text-decoration: none;\n",
              "}\n",
              "\n",
              "/* Span, style for the box shown on hovering the info icon */\n",
              ".sk-estimator-doc-link span {\n",
              "  display: none;\n",
              "  z-index: 9999;\n",
              "  position: relative;\n",
              "  font-weight: normal;\n",
              "  right: .2ex;\n",
              "  padding: .5ex;\n",
              "  margin: .5ex;\n",
              "  width: min-content;\n",
              "  min-width: 20ex;\n",
              "  max-width: 50ex;\n",
              "  color: var(--sklearn-color-text);\n",
              "  box-shadow: 2pt 2pt 4pt #999;\n",
              "  /* unfitted */\n",
              "  background: var(--sklearn-color-unfitted-level-0);\n",
              "  border: .5pt solid var(--sklearn-color-unfitted-level-3);\n",
              "}\n",
              "\n",
              ".sk-estimator-doc-link.fitted span {\n",
              "  /* fitted */\n",
              "  background: var(--sklearn-color-fitted-level-0);\n",
              "  border: var(--sklearn-color-fitted-level-3);\n",
              "}\n",
              "\n",
              ".sk-estimator-doc-link:hover span {\n",
              "  display: block;\n",
              "}\n",
              "\n",
              "/* \"?\"-specific style due to the `<a>` HTML tag */\n",
              "\n",
              "#sk-container-id-1 a.estimator_doc_link {\n",
              "  float: right;\n",
              "  font-size: 1rem;\n",
              "  line-height: 1em;\n",
              "  font-family: monospace;\n",
              "  background-color: var(--sklearn-color-background);\n",
              "  border-radius: 1rem;\n",
              "  height: 1rem;\n",
              "  width: 1rem;\n",
              "  text-decoration: none;\n",
              "  /* unfitted */\n",
              "  color: var(--sklearn-color-unfitted-level-1);\n",
              "  border: var(--sklearn-color-unfitted-level-1) 1pt solid;\n",
              "}\n",
              "\n",
              "#sk-container-id-1 a.estimator_doc_link.fitted {\n",
              "  /* fitted */\n",
              "  border: var(--sklearn-color-fitted-level-1) 1pt solid;\n",
              "  color: var(--sklearn-color-fitted-level-1);\n",
              "}\n",
              "\n",
              "/* On hover */\n",
              "#sk-container-id-1 a.estimator_doc_link:hover {\n",
              "  /* unfitted */\n",
              "  background-color: var(--sklearn-color-unfitted-level-3);\n",
              "  color: var(--sklearn-color-background);\n",
              "  text-decoration: none;\n",
              "}\n",
              "\n",
              "#sk-container-id-1 a.estimator_doc_link.fitted:hover {\n",
              "  /* fitted */\n",
              "  background-color: var(--sklearn-color-fitted-level-3);\n",
              "}\n",
              "</style><div id=\"sk-container-id-1\" class=\"sk-top-container\"><div class=\"sk-text-repr-fallback\"><pre>LogisticRegression()</pre><b>In a Jupyter environment, please rerun this cell to show the HTML representation or trust the notebook. <br />On GitHub, the HTML representation is unable to render, please try loading this page with nbviewer.org.</b></div><div class=\"sk-container\" hidden><div class=\"sk-item\"><div class=\"sk-estimator fitted sk-toggleable\"><input class=\"sk-toggleable__control sk-hidden--visually\" id=\"sk-estimator-id-1\" type=\"checkbox\" checked><label for=\"sk-estimator-id-1\" class=\"sk-toggleable__label fitted sk-toggleable__label-arrow fitted\">&nbsp;&nbsp;LogisticRegression<a class=\"sk-estimator-doc-link fitted\" rel=\"noreferrer\" target=\"_blank\" href=\"https://scikit-learn.org/1.4/modules/generated/sklearn.linear_model.LogisticRegression.html\">?<span>Documentation for LogisticRegression</span></a><span class=\"sk-estimator-doc-link fitted\">i<span>Fitted</span></span></label><div class=\"sk-toggleable__content fitted\"><pre>LogisticRegression()</pre></div> </div></div></div></div>"
            ],
            "text/plain": [
              "LogisticRegression()"
            ]
          },
          "execution_count": 34,
          "metadata": {},
          "output_type": "execute_result"
        }
      ],
      "source": [
        "model.fit(X_train, Y_train)"
      ]
    },
    {
      "cell_type": "code",
      "execution_count": 35,
      "metadata": {
        "colab": {
          "base_uri": "https://localhost:8080/",
          "height": 72
        },
        "id": "wAYQ-JrXAWBT",
        "outputId": "83bb6f93-4a70-40ae-f224-5f4da1dfcc38"
      },
      "outputs": [
        {
          "data": {
            "text/plain": [
              "'# Model accuracy on the test set\\ntest_y_hat=model.predict(X_test)\\nprint(accuracy_score(test_y_hat, Y_test))\\n\\n# Model Accuracy on  training set\\ntrain_y_hat = model.predict(X_train)\\nprint(accuracy_score(train_y_hat,Y_train))   '"
            ]
          },
          "execution_count": 35,
          "metadata": {},
          "output_type": "execute_result"
        }
      ],
      "source": [
        "'''# Model accuracy on the test set\n",
        "test_y_hat=model.predict(X_test)\n",
        "print(accuracy_score(test_y_hat, Y_test))\n",
        "\n",
        "# Model Accuracy on  training set\n",
        "train_y_hat = model.predict(X_train)\n",
        "print(accuracy_score(train_y_hat,Y_train))   '''"
      ]
    },
    {
      "cell_type": "code",
      "execution_count": 36,
      "metadata": {
        "colab": {
          "base_uri": "https://localhost:8080/",
          "height": 54
        },
        "id": "69DrluUJAV-A",
        "outputId": "3caa5776-a1a1-4fa0-f8a6-967d8bf92b8e"
      },
      "outputs": [
        {
          "data": {
            "text/plain": [
              "'def predict(input_data):\\n\\n    y_hat= model.predict(input_data)\\n    if y_hat==0:\\n        return \"The article is Fake\"\\n    else:\\n        return \\'The article is not Fake\\'   '"
            ]
          },
          "execution_count": 36,
          "metadata": {},
          "output_type": "execute_result"
        }
      ],
      "source": [
        "'''def predict(input_data):\n",
        "\n",
        "    y_hat= model.predict(input_data)\n",
        "    if y_hat==0:\n",
        "        return \"The article is Fake\"\n",
        "    else:\n",
        "        return 'The article is not Fake'   '''"
      ]
    },
    {
      "cell_type": "code",
      "execution_count": 37,
      "metadata": {
        "colab": {
          "base_uri": "https://localhost:8080/",
          "height": 36
        },
        "id": "iYK3Vr-XAiAI",
        "outputId": "625f212f-89a1-4ada-f7be-8b9df74d4f1d"
      },
      "outputs": [
        {
          "data": {
            "text/plain": [
              "'print(predict(X_test[2000]))\\nmodel.predict(X_test[2000])[0]   '"
            ]
          },
          "execution_count": 37,
          "metadata": {},
          "output_type": "execute_result"
        }
      ],
      "source": [
        "'''print(predict(X_test[2000]))\n",
        "model.predict(X_test[2000])[0]   '''"
      ]
    },
    {
      "cell_type": "code",
      "execution_count": 38,
      "metadata": {
        "colab": {
          "base_uri": "https://localhost:8080/",
          "height": 90
        },
        "id": "DCmmUB8HAh8u",
        "outputId": "8e1fb76b-d149-48c9-bdae-550b1ea1f9ec"
      },
      "outputs": [
        {
          "data": {
            "text/plain": [
              "' from sklearn.metrics import precision_score, recall_score, f1_score\\n\\nprint (precision_score(Y_train, train_y_hat,))\\nprint (recall_score(Y_train, train_y_hat,))\\nprint(f1_score(Y_train, train_y_hat,))\\n\\n\\nprint (precision_score(Y_test, test_y_hat,))\\nprint (recall_score(Y_test, test_y_hat,))\\nprint(f1_score(Y_test, test_y_hat,))    '"
            ]
          },
          "execution_count": 38,
          "metadata": {},
          "output_type": "execute_result"
        }
      ],
      "source": [
        "''' from sklearn.metrics import precision_score, recall_score, f1_score\n",
        "\n",
        "print (precision_score(Y_train, train_y_hat,))\n",
        "print (recall_score(Y_train, train_y_hat,))\n",
        "print(f1_score(Y_train, train_y_hat,))\n",
        "\n",
        "\n",
        "print (precision_score(Y_test, test_y_hat,))\n",
        "print (recall_score(Y_test, test_y_hat,))\n",
        "print(f1_score(Y_test, test_y_hat,))    '''"
      ]
    },
    {
      "cell_type": "code",
      "execution_count": 39,
      "metadata": {
        "colab": {
          "base_uri": "https://localhost:8080/",
          "height": 54
        },
        "id": "AhbXofaPAh5K",
        "outputId": "3c841786-8019-4d58-f035-31bd4f0ed039"
      },
      "outputs": [
        {
          "data": {
            "text/plain": [
              "\"from sklearn.metrics import confusion_matrix\\nprint ([['TP', 'FP'],['FN', 'TN']])\\nprint(confusion_matrix(Y_test, test_y_hat,))\\nprint (confusion_matrix(Y_train, train_y_hat,))    \""
            ]
          },
          "execution_count": 39,
          "metadata": {},
          "output_type": "execute_result"
        }
      ],
      "source": [
        "'''from sklearn.metrics import confusion_matrix\n",
        "print ([['TP', 'FP'],['FN', 'TN']])\n",
        "print(confusion_matrix(Y_test, test_y_hat,))\n",
        "print (confusion_matrix(Y_train, train_y_hat,))    '''"
      ]
    },
    {
      "cell_type": "code",
      "execution_count": 40,
      "metadata": {
        "id": "L3-GPmVB_soS"
      },
      "outputs": [],
      "source": [
        "# accuracy score on the training data\n",
        "X_train_prediction = model.predict(X_train)\n",
        "training_data_accuracy = accuracy_score(X_train_prediction, Y_train)"
      ]
    },
    {
      "cell_type": "code",
      "execution_count": 41,
      "metadata": {
        "colab": {
          "base_uri": "https://localhost:8080/"
        },
        "id": "Uny4MEIT_sk5",
        "outputId": "3a62d773-d884-4d5c-baa2-e174cab28848"
      },
      "outputs": [
        {
          "name": "stdout",
          "output_type": "stream",
          "text": [
            "Accuracy score of the training data :  0.9949050615290383\n"
          ]
        }
      ],
      "source": [
        "print('Accuracy score of the training data : ', training_data_accuracy)"
      ]
    },
    {
      "cell_type": "code",
      "execution_count": 42,
      "metadata": {
        "id": "HjPoLlGi_y8a"
      },
      "outputs": [],
      "source": [
        "#accuracy score on the test data\n",
        "X_test_prediction = model.predict(X_test)\n",
        "test_data_accuracy = accuracy_score(X_test_prediction, Y_test)"
      ]
    },
    {
      "cell_type": "code",
      "execution_count": 43,
      "metadata": {
        "colab": {
          "base_uri": "https://localhost:8080/"
        },
        "id": "qErmIlbL_y46",
        "outputId": "14be22e5-fbeb-4530-c9f6-6b04dc2a9824"
      },
      "outputs": [
        {
          "name": "stdout",
          "output_type": "stream",
          "text": [
            "Accuracy score of the test data :  0.9913140311804008\n"
          ]
        }
      ],
      "source": [
        "print('Accuracy score of the test data : ', test_data_accuracy)"
      ]
    },
    {
      "cell_type": "code",
      "execution_count": 44,
      "metadata": {
        "colab": {
          "base_uri": "https://localhost:8080/"
        },
        "id": "KgbU-hJd_y19",
        "outputId": "16c9df2b-bda4-458a-ccad-cd94935cf863"
      },
      "outputs": [
        {
          "name": "stdout",
          "output_type": "stream",
          "text": [
            "[1]\n",
            "The news is Fake\n"
          ]
        }
      ],
      "source": [
        "X_new = X_test[1897]\n",
        "\n",
        "prediction = model.predict(X_new)\n",
        "print(prediction)\n",
        "\n",
        "if (prediction[0]==0):\n",
        "  print('The news is Real')\n",
        "else:\n",
        "  print('The news is Fake')"
      ]
    },
    {
      "cell_type": "code",
      "execution_count": 45,
      "metadata": {
        "colab": {
          "base_uri": "https://localhost:8080/"
        },
        "id": "i84Pge3BE0Z6",
        "outputId": "760c0070-dd86-4b92-a957-0fd4d4f56620"
      },
      "outputs": [
        {
          "name": "stdout",
          "output_type": "stream",
          "text": [
            "1\n"
          ]
        }
      ],
      "source": [
        "print (Y_test[1897])"
      ]
    },
    {
      "cell_type": "markdown",
      "metadata": {
        "id": "ioqChDfiDHXq"
      },
      "source": [
        "Precision for dataset 2 using logistic regression"
      ]
    },
    {
      "cell_type": "code",
      "execution_count": 46,
      "metadata": {
        "colab": {
          "base_uri": "https://localhost:8080/"
        },
        "id": "OMADUgR_CUuI",
        "outputId": "99321bb9-cf8e-4626-cec6-8eaeeb342c9c"
      },
      "outputs": [
        {
          "name": "stdout",
          "output_type": "stream",
          "text": [
            "Testing Precision: 0.9927443448570209\n"
          ]
        }
      ],
      "source": [
        "from sklearn.metrics import precision_score\n",
        "\n",
        "# Assuming you have already split your data into training and testing sets and trained your model\n",
        "\n",
        "# Make predictions on the testing data\n",
        "y_test_prediction = model.predict(X_test)\n",
        "\n",
        "# Evaluate precision on testing data\n",
        "test_precision = precision_score(Y_test, y_test_prediction)\n",
        "print(\"Testing Precision:\", test_precision)"
      ]
    },
    {
      "cell_type": "markdown",
      "metadata": {
        "id": "395UtFE4DO9C"
      },
      "source": [
        "F1 score and recall for datase 2 using logistic regression"
      ]
    },
    {
      "cell_type": "code",
      "execution_count": 47,
      "metadata": {
        "colab": {
          "base_uri": "https://localhost:8080/"
        },
        "id": "Ca5ggZypCilx",
        "outputId": "966235d9-c33b-4d15-be69-3962445a718b"
      },
      "outputs": [
        {
          "name": "stdout",
          "output_type": "stream",
          "text": [
            "Testing F1 score:  0.9916862076316351\n",
            "Testing recall:  0.9906303236797275\n"
          ]
        }
      ],
      "source": [
        "from sklearn.metrics import f1_score, recall_score\n",
        "\n",
        "# Assuming you have true labels 'y_true' and predicted labels 'y_pred'\n",
        "\n",
        "# Calculate F1 score\n",
        "f1 = f1_score(Y_test, y_test_prediction)\n",
        "print(\"Testing F1 score: \", f1)\n",
        "# Calculate recall\n",
        "recall = recall_score(Y_test, y_test_prediction)\n",
        "print(\"Testing recall: \", recall)"
      ]
    },
    {
      "cell_type": "markdown",
      "metadata": {
        "id": "UKQ-uGrTDZMe"
      },
      "source": [
        "Cross-validation"
      ]
    },
    {
      "cell_type": "code",
      "execution_count": 48,
      "metadata": {
        "colab": {
          "base_uri": "https://localhost:8080/"
        },
        "id": "MuXo9A5hFNBp",
        "outputId": "489329e0-073a-440c-d79d-be7ca12abe8e"
      },
      "outputs": [
        {
          "name": "stdout",
          "output_type": "stream",
          "text": [
            "Average Accuracy: 0.9915363713053795\n"
          ]
        }
      ],
      "source": [
        "#performing cross validation\n",
        "from sklearn.model_selection import KFold\n",
        "from sklearn.model_selection import cross_val_score\n",
        "# Define k-fold cross-validation\n",
        "k_fold = KFold(n_splits=5, shuffle=True, random_state=42)\n",
        "\n",
        "# Perform cross-validation\n",
        "scores = cross_val_score(model, X, Y, cv=k_fold, scoring='accuracy')\n",
        "\n",
        "# Print average performance\n",
        "print(\"Average Accuracy:\", np.mean(scores))"
      ]
    }
  ],
  "metadata": {
    "colab": {
      "provenance": []
    },
    "kernelspec": {
      "display_name": "Python 3",
      "name": "python3"
    },
    "language_info": {
      "codemirror_mode": {
        "name": "ipython",
        "version": 3
      },
      "file_extension": ".py",
      "mimetype": "text/x-python",
      "name": "python",
      "nbconvert_exporter": "python",
      "pygments_lexer": "ipython3",
      "version": "3.11.2"
    }
  },
  "nbformat": 4,
  "nbformat_minor": 0
}
